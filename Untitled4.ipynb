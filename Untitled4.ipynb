{
  "nbformat": 4,
  "nbformat_minor": 0,
  "metadata": {
    "colab": {
      "provenance": [],
      "gpuType": "T4"
    },
    "kernelspec": {
      "name": "python3",
      "display_name": "Python 3"
    },
    "language_info": {
      "name": "python"
    },
    "accelerator": "GPU"
  },
  "cells": [
    {
      "cell_type": "code",
      "execution_count": null,
      "metadata": {
        "colab": {
          "base_uri": "https://localhost:8080/"
        },
        "id": "jqncriK3ck7C",
        "outputId": "f15ede2f-e7ee-4067-9e40-4340f610db47"
      },
      "outputs": [
        {
          "output_type": "stream",
          "name": "stdout",
          "text": [
            "Mounted at /content/drive\n"
          ]
        }
      ],
      "source": [
        "from google.colab import drive\n",
        "drive.mount('/content/drive')"
      ]
    },
    {
      "cell_type": "markdown",
      "source": [
        "## tests"
      ],
      "metadata": {
        "id": "JSpDNhM7-RyU"
      }
    },
    {
      "cell_type": "code",
      "source": [
        "!pip install numpy==1.24.4\n",
        "!pip install imgaug"
      ],
      "metadata": {
        "colab": {
          "base_uri": "https://localhost:8080/"
        },
        "id": "mqymU3TQ-0du",
        "outputId": "d9af7882-c2dc-4c62-d9cb-66256294d845"
      },
      "execution_count": null,
      "outputs": [
        {
          "output_type": "stream",
          "name": "stdout",
          "text": [
            "Requirement already satisfied: numpy==1.24.4 in /usr/local/lib/python3.11/dist-packages (1.24.4)\n",
            "Collecting imgaug\n",
            "  Using cached imgaug-0.4.0-py2.py3-none-any.whl.metadata (1.8 kB)\n",
            "Requirement already satisfied: six in /usr/local/lib/python3.11/dist-packages (from imgaug) (1.17.0)\n",
            "Requirement already satisfied: numpy>=1.15 in /usr/local/lib/python3.11/dist-packages (from imgaug) (1.24.4)\n",
            "Requirement already satisfied: scipy in /usr/local/lib/python3.11/dist-packages (from imgaug) (1.15.2)\n",
            "Requirement already satisfied: Pillow in /usr/local/lib/python3.11/dist-packages (from imgaug) (11.2.1)\n",
            "Requirement already satisfied: matplotlib in /usr/local/lib/python3.11/dist-packages (from imgaug) (3.10.0)\n",
            "Requirement already satisfied: scikit-image>=0.14.2 in /usr/local/lib/python3.11/dist-packages (from imgaug) (0.25.2)\n",
            "Requirement already satisfied: opencv-python in /usr/local/lib/python3.11/dist-packages (from imgaug) (4.11.0.86)\n",
            "Requirement already satisfied: imageio in /usr/local/lib/python3.11/dist-packages (from imgaug) (2.37.0)\n",
            "Requirement already satisfied: Shapely in /usr/local/lib/python3.11/dist-packages (from imgaug) (2.1.0)\n",
            "Requirement already satisfied: networkx>=3.0 in /usr/local/lib/python3.11/dist-packages (from scikit-image>=0.14.2->imgaug) (3.4.2)\n",
            "Requirement already satisfied: tifffile>=2022.8.12 in /usr/local/lib/python3.11/dist-packages (from scikit-image>=0.14.2->imgaug) (2025.3.30)\n",
            "Requirement already satisfied: packaging>=21 in /usr/local/lib/python3.11/dist-packages (from scikit-image>=0.14.2->imgaug) (24.2)\n",
            "Requirement already satisfied: lazy-loader>=0.4 in /usr/local/lib/python3.11/dist-packages (from scikit-image>=0.14.2->imgaug) (0.4)\n",
            "Requirement already satisfied: contourpy>=1.0.1 in /usr/local/lib/python3.11/dist-packages (from matplotlib->imgaug) (1.3.2)\n",
            "Requirement already satisfied: cycler>=0.10 in /usr/local/lib/python3.11/dist-packages (from matplotlib->imgaug) (0.12.1)\n",
            "Requirement already satisfied: fonttools>=4.22.0 in /usr/local/lib/python3.11/dist-packages (from matplotlib->imgaug) (4.57.0)\n",
            "Requirement already satisfied: kiwisolver>=1.3.1 in /usr/local/lib/python3.11/dist-packages (from matplotlib->imgaug) (1.4.8)\n",
            "Requirement already satisfied: pyparsing>=2.3.1 in /usr/local/lib/python3.11/dist-packages (from matplotlib->imgaug) (3.2.3)\n",
            "Requirement already satisfied: python-dateutil>=2.7 in /usr/local/lib/python3.11/dist-packages (from matplotlib->imgaug) (2.9.0.post0)\n",
            "Using cached imgaug-0.4.0-py2.py3-none-any.whl (948 kB)\n",
            "Installing collected packages: imgaug\n",
            "Successfully installed imgaug-0.4.0\n"
          ]
        }
      ]
    },
    {
      "cell_type": "code",
      "source": [
        "import os\n",
        "import shutil\n",
        "import yaml\n",
        "import cv2\n",
        "import numpy as np\n",
        "from sklearn.model_selection import train_test_split\n",
        "from collections import Counter\n",
        "import imgaug.augmenters as iaa\n",
        "from imgaug.augmentables.bbs import BoundingBox, BoundingBoxesOnImage\n",
        "\n",
        "def detect_panel(image):\n",
        "    \"\"\"Détecte automatiquement un panneau sur une image et retourne bbox normalisée.\"\"\"\n",
        "    h, w = image.shape[:2]\n",
        "    gray = cv2.cvtColor(image, cv2.COLOR_BGR2GRAY)\n",
        "    gray = cv2.medianBlur(gray, 5)\n",
        "\n",
        "    circles = cv2.HoughCircles(\n",
        "        gray, cv2.HOUGH_GRADIENT, dp=1.2, minDist=30,\n",
        "        param1=50, param2=30, minRadius=10, maxRadius=300\n",
        "    )\n",
        "\n",
        "    if circles is not None:\n",
        "        circles = np.uint16(np.around(circles))\n",
        "        x, y, r = circles[0][0]  # Prend juste le premier cercle trouvé\n",
        "        x_center = x / w\n",
        "        y_center = y / h\n",
        "        width = (2 * r) / w\n",
        "        height = (2 * r) / h\n",
        "        return [x_center, y_center, width, height]\n",
        "    else:\n",
        "        # Pas de panneau détecté, retourne None\n",
        "        return None\n",
        "\n",
        "def augment_image(image, bbox):\n",
        "    augmenter = iaa.Sequential([\n",
        "        iaa.Affine(rotate=(-10, 10)),\n",
        "        iaa.AddToBrightness((-30, 30)),\n",
        "        iaa.GaussianBlur(sigma=(0, 0.5)),\n",
        "        iaa.Multiply((0.8, 1.2))\n",
        "    ])\n",
        "\n",
        "    h, w = image.shape[:2]\n",
        "    x_center, y_center, width, height = bbox\n",
        "    x1 = int((x_center - width/2) * w)\n",
        "    y1 = int((y_center - height/2) * h)\n",
        "    x2 = int((x_center + width/2) * w)\n",
        "    y2 = int((y_center + height/2) * h)\n",
        "\n",
        "    bbs = BoundingBoxesOnImage([BoundingBox(x1=x1, y1=y1, x2=x2, y2=y2)], shape=image.shape)\n",
        "\n",
        "    image_aug, bbs_aug = augmenter(image=image, bounding_boxes=bbs)\n",
        "    bb_aug = bbs_aug.bounding_boxes[0]\n",
        "\n",
        "    x_center = (bb_aug.x1 + bb_aug.x2) / (2 * w)\n",
        "    y_center = (bb_aug.y1 + bb_aug.y2) / (2 * h)\n",
        "    width = (bb_aug.x2 - bb_aug.x1) / w\n",
        "    height = (bb_aug.y2 - bb_aug.y1) / h\n",
        "\n",
        "    return image_aug, [\n",
        "        np.clip(x_center, 0, 1),\n",
        "        np.clip(y_center, 0, 1),\n",
        "        np.clip(width, 0, 1),\n",
        "        np.clip(height, 0, 1)\n",
        "    ]\n",
        "\n",
        "def prepare_dataset(source_dir, output_dir, min_samples_per_class=100):\n",
        "    images_dir = os.path.join(output_dir, \"images\")\n",
        "    labels_dir = os.path.join(output_dir, \"labels\")\n",
        "    os.makedirs(images_dir, exist_ok=True)\n",
        "    os.makedirs(labels_dir, exist_ok=True)\n",
        "\n",
        "    class_folders = sorted([f for f in os.listdir(source_dir) if os.path.isdir(os.path.join(source_dir, f))])\n",
        "    class_map = {folder: idx for idx, folder in enumerate(class_folders)}\n",
        "\n",
        "    print(\" Mapping des classes :\")\n",
        "    for name, idx in class_map.items():\n",
        "        print(f\"{idx}: {name}\")\n",
        "\n",
        "    class_counts = Counter()\n",
        "\n",
        "    for class_name, class_id in class_map.items():\n",
        "        class_path = os.path.join(source_dir, class_name)\n",
        "        images = [f for f in os.listdir(class_path) if f.lower().endswith(('.jpg', '.jpeg', '.png'))]\n",
        "\n",
        "        if not images:\n",
        "            print(f\" Pas d'images pour la classe {class_name}\")\n",
        "            continue\n",
        "\n",
        "        for img_name in images:\n",
        "            src_img_path = os.path.join(class_path, img_name)\n",
        "            dst_img_name = f\"{class_name}_{img_name}\"\n",
        "            dst_img_path = os.path.join(images_dir, dst_img_name)\n",
        "            dst_lbl_path = os.path.join(labels_dir, os.path.splitext(dst_img_name)[0] + '.txt')\n",
        "\n",
        "            image = cv2.imread(src_img_path)\n",
        "            if image is None:\n",
        "                print(f\" Impossible de lire l'image : {src_img_path}\")\n",
        "                continue\n",
        "\n",
        "            bbox = detect_panel(image)\n",
        "            shutil.copyfile(src_img_path, dst_img_path)\n",
        "\n",
        "            if bbox is None:\n",
        "              print(f\" Aucun panneau détecté dans {img_name}, labelisé en speed_limit_unknown\")\n",
        "              # ID de la classe \"speed_limit_unknown\" (par exemple 24)\n",
        "              unknown_class_id = 24\n",
        "              # BBox couvrant tout l'image (ou adapte selon ton besoin)\n",
        "              x_center, y_center, width, height = 0.67885435789864, 0.4578875324799, 1.0, 1.0\n",
        "              with open(dst_lbl_path, 'w') as f:\n",
        "                f.write(f\"{unknown_class_id} {x_center} {y_center} {width} {height}\\n\")\n",
        "            else:\n",
        "              with open(dst_lbl_path, 'w') as f:\n",
        "                f.write(f\"{class_id} {bbox[0]} {bbox[1]} {bbox[2]} {bbox[3]}\\n\")\n",
        "              class_counts[class_id] += 1\n",
        "\n",
        "            class_counts[class_id] += 1\n",
        "\n",
        "        # Data Augmentation si pas assez d'images\n",
        "        if class_counts[class_id] < min_samples_per_class:\n",
        "            needed = min_samples_per_class - class_counts[class_id]\n",
        "            print(f\"🔄 Génération de {needed} augmentations pour {class_name}\")\n",
        "            for i in range(needed):\n",
        "                src_img = np.random.choice(images)\n",
        "                src_img_path = os.path.join(class_path, src_img)\n",
        "                image = cv2.imread(src_img_path)\n",
        "                if image is None:\n",
        "                    continue\n",
        "                bbox = detect_panel(image)\n",
        "                if bbox is None:\n",
        "                    continue\n",
        "                aug_image, aug_bbox = augment_image(image, bbox)\n",
        "                aug_img_name = f\"{class_name}_aug_{i}_{src_img}\"\n",
        "                cv2.imwrite(os.path.join(images_dir, aug_img_name), aug_image)\n",
        "                with open(os.path.join(labels_dir, f\"{os.path.splitext(aug_img_name)[0]}.txt\"), 'w') as f:\n",
        "                    f.write(f\"{class_id} {aug_bbox[0]} {aug_bbox[1]} {aug_bbox[2]} {aug_bbox[3]}\\n\")\n",
        "                class_counts[class_id] += 1\n",
        "\n",
        "    # Création des splits Train / Val\n",
        "    all_images = [img for img in os.listdir(images_dir)]\n",
        "    all_labels = [int(open(os.path.join(labels_dir, os.path.splitext(img)[0] + '.txt')).readline().split()[0]) for img in all_images]\n",
        "\n",
        "    train_imgs, val_imgs = train_test_split(all_images, test_size=0.2, stratify=all_labels, random_state=42)\n",
        "\n",
        "    for split in ['train', 'val']:\n",
        "        for folder in ['images', 'labels']:\n",
        "            os.makedirs(os.path.join(output_dir, split, folder), exist_ok=True)\n",
        "\n",
        "    for img_name in train_imgs:\n",
        "        shutil.copy(os.path.join(images_dir, img_name), os.path.join(output_dir, 'train', 'images', img_name))\n",
        "        shutil.copy(os.path.join(labels_dir, os.path.splitext(img_name)[0] + '.txt'), os.path.join(output_dir, 'train', 'labels', os.path.splitext(img_name)[0] + '.txt'))\n",
        "\n",
        "    for img_name in val_imgs:\n",
        "        shutil.copy(os.path.join(images_dir, img_name), os.path.join(output_dir, 'val', 'images', img_name))\n",
        "        shutil.copy(os.path.join(labels_dir, os.path.splitext(img_name)[0] + '.txt'), os.path.join(output_dir, 'val', 'labels', os.path.splitext(img_name)[0] + '.txt'))\n",
        "\n",
        "if __name__ == \"__main__\":\n",
        "    source_dir = \"/content/drive/MyDrive/sli1/database\"  # Dossier contenant les dossiers par classe\n",
        "    output_dir = \"/content/drive/MyDrive/sli1/Fai\"        # Dossier où sauvegarder dataset YOLO\n",
        "    min_samples = 100\n",
        "\n",
        "    prepare_dataset(source_dir, output_dir, min_samples)"
      ],
      "metadata": {
        "colab": {
          "base_uri": "https://localhost:8080/"
        },
        "id": "bOZb41Z90OOQ",
        "outputId": "a86ac7eb-660d-407c-a9a3-d70babd30565"
      },
      "execution_count": null,
      "outputs": [
        {
          "output_type": "stream",
          "name": "stdout",
          "text": [
            " Mapping des classes :\n",
            "0: End_speed_limit_80\n",
            "1: End_speed_passing_limits\n",
            "2: Road_works-sli_100Kmh\n",
            "3: Road_works-sli_20Kmh\n",
            "4: Road_works-sli_30Kmh\n",
            "5: Road_works-sli_40Kmh\n",
            "6: Road_works-sli_50Kmh\n",
            "7: Road_works-sli_60Kmh\n",
            "8: Road_works-sli_70Kmh\n",
            "9: Road_works-sli_80Kmh\n",
            "10: Road_works-sli_90Kmh\n",
            "11: Speed_limit_100kmh\n",
            "12: Speed_limit_110kmh\n",
            "13: Speed_limit_120kmh\n",
            "14: Speed_limit_15kmh\n",
            "15: Speed_limit_20kmh\n",
            "16: Speed_limit_30kmh\n",
            "17: Speed_limit_40kmh\n",
            "18: Speed_limit_50kmh\n",
            "19: Speed_limit_5kmh\n",
            "20: Speed_limit_60kmh\n",
            "21: Speed_limit_70kmh\n",
            "22: Speed_limit_80kmh\n",
            "23: Speed_limit_90kmh\n",
            " Aucun panneau détecté dans 00006_00011_00003.png, labelisé en speed_limit_unknown\n",
            " Aucun panneau détecté dans 00006_00002_00004.png, labelisé en speed_limit_unknown\n",
            " Aucun panneau détecté dans 00006_00007_00007.png, labelisé en speed_limit_unknown\n",
            " Aucun panneau détecté dans 00006_00008_00019.png, labelisé en speed_limit_unknown\n",
            " Aucun panneau détecté dans 00006_00004_00003.png, labelisé en speed_limit_unknown\n",
            " Aucun panneau détecté dans 00006_00011_00000.png, labelisé en speed_limit_unknown\n",
            " Aucun panneau détecté dans 00006_00005_00010.png, labelisé en speed_limit_unknown\n",
            " Aucun panneau détecté dans 00006_00007_00002.png, labelisé en speed_limit_unknown\n",
            " Aucun panneau détecté dans 00006_00009_00002.png, labelisé en speed_limit_unknown\n",
            " Aucun panneau détecté dans 00006_00001_00002.png, labelisé en speed_limit_unknown\n",
            " Aucun panneau détecté dans 00006_00006_00003.png, labelisé en speed_limit_unknown\n",
            " Aucun panneau détecté dans 00006_00011_00007.png, labelisé en speed_limit_unknown\n",
            " Aucun panneau détecté dans 00006_00008_00007.png, labelisé en speed_limit_unknown\n",
            " Aucun panneau détecté dans 00006_00013_00005.png, labelisé en speed_limit_unknown\n",
            " Aucun panneau détecté dans 00006_00003_00008.png, labelisé en speed_limit_unknown\n",
            " Aucun panneau détecté dans 00006_00010_00011.png, labelisé en speed_limit_unknown\n",
            " Aucun panneau détecté dans 00006_00002_00008.png, labelisé en speed_limit_unknown\n",
            " Aucun panneau détecté dans 00006_00001_00005.png, labelisé en speed_limit_unknown\n",
            " Aucun panneau détecté dans 00006_00009_00000.png, labelisé en speed_limit_unknown\n",
            " Aucun panneau détecté dans 00006_00006_00001.png, labelisé en speed_limit_unknown\n",
            " Aucun panneau détecté dans 00006_00000_00009.png, labelisé en speed_limit_unknown\n",
            " Aucun panneau détecté dans 00006_00002_00003.png, labelisé en speed_limit_unknown\n",
            " Aucun panneau détecté dans 00006_00007_00000.png, labelisé en speed_limit_unknown\n",
            " Aucun panneau détecté dans 00006_00012_00019.png, labelisé en speed_limit_unknown\n",
            " Aucun panneau détecté dans 00006_00011_00010.png, labelisé en speed_limit_unknown\n",
            " Aucun panneau détecté dans 00006_00005_00001.png, labelisé en speed_limit_unknown\n",
            " Aucun panneau détecté dans 00006_00005_00006.png, labelisé en speed_limit_unknown\n",
            " Aucun panneau détecté dans 00006_00001_00010.png, labelisé en speed_limit_unknown\n",
            " Aucun panneau détecté dans 00006_00012_00017.png, labelisé en speed_limit_unknown\n",
            " Aucun panneau détecté dans 00006_00009_00010.png, labelisé en speed_limit_unknown\n",
            " Aucun panneau détecté dans 00006_00006_00002.png, labelisé en speed_limit_unknown\n",
            " Aucun panneau détecté dans 00006_00011_00012.png, labelisé en speed_limit_unknown\n",
            " Aucun panneau détecté dans 00006_00010_00001.png, labelisé en speed_limit_unknown\n",
            " Aucun panneau détecté dans 00006_00010_00012.png, labelisé en speed_limit_unknown\n",
            " Aucun panneau détecté dans 00006_00002_00010.png, labelisé en speed_limit_unknown\n",
            " Aucun panneau détecté dans 00006_00011_00019.png, labelisé en speed_limit_unknown\n",
            " Aucun panneau détecté dans 00006_00012_00008.png, labelisé en speed_limit_unknown\n",
            " Aucun panneau détecté dans 00006_00000_00007.png, labelisé en speed_limit_unknown\n",
            " Aucun panneau détecté dans 00006_00002_00029.png, labelisé en speed_limit_unknown\n",
            " Aucun panneau détecté dans 00006_00005_00002.png, labelisé en speed_limit_unknown\n",
            " Aucun panneau détecté dans 00006_00011_00004.png, labelisé en speed_limit_unknown\n",
            " Aucun panneau détecté dans 00006_00003_00005.png, labelisé en speed_limit_unknown\n",
            " Aucun panneau détecté dans 00006_00012_00009.png, labelisé en speed_limit_unknown\n",
            " Aucun panneau détecté dans 00006_00009_00008.png, labelisé en speed_limit_unknown\n",
            " Aucun panneau détecté dans 00006_00000_00010.png, labelisé en speed_limit_unknown\n",
            " Aucun panneau détecté dans 00006_00009_00009.png, labelisé en speed_limit_unknown\n",
            " Aucun panneau détecté dans 00006_00007_00011.png, labelisé en speed_limit_unknown\n",
            " Aucun panneau détecté dans 00006_00010_00008.png, labelisé en speed_limit_unknown\n",
            " Aucun panneau détecté dans 00006_00012_00011.png, labelisé en speed_limit_unknown\n",
            " Aucun panneau détecté dans 00006_00004_00002.png, labelisé en speed_limit_unknown\n",
            " Aucun panneau détecté dans 00006_00013_00003.png, labelisé en speed_limit_unknown\n",
            " Aucun panneau détecté dans 00006_00011_00011.png, labelisé en speed_limit_unknown\n",
            " Aucun panneau détecté dans 00006_00013_00001.png, labelisé en speed_limit_unknown\n",
            " Aucun panneau détecté dans 00006_00009_00012.png, labelisé en speed_limit_unknown\n",
            " Aucun panneau détecté dans 00006_00012_00007.png, labelisé en speed_limit_unknown\n",
            " Aucun panneau détecté dans 00006_00010_00010.png, labelisé en speed_limit_unknown\n",
            " Aucun panneau détecté dans 00006_00009_00013.png, labelisé en speed_limit_unknown\n",
            " Aucun panneau détecté dans 00006_00008_00000.png, labelisé en speed_limit_unknown\n",
            " Aucun panneau détecté dans 00006_00008_00004.png, labelisé en speed_limit_unknown\n",
            " Aucun panneau détecté dans 00006_00008_00010.png, labelisé en speed_limit_unknown\n",
            " Aucun panneau détecté dans 00006_00000_00012.png, labelisé en speed_limit_unknown\n",
            " Aucun panneau détecté dans 00006_00005_00008.png, labelisé en speed_limit_unknown\n",
            " Aucun panneau détecté dans 00006_00005_00003.png, labelisé en speed_limit_unknown\n",
            " Aucun panneau détecté dans 00006_00012_00023.png, labelisé en speed_limit_unknown\n",
            " Aucun panneau détecté dans 00006_00007_00008.png, labelisé en speed_limit_unknown\n",
            " Aucun panneau détecté dans 00006_00012_00013.png, labelisé en speed_limit_unknown\n",
            " Aucun panneau détecté dans 00006_00007_00005.png, labelisé en speed_limit_unknown\n",
            " Aucun panneau détecté dans 00006_00001_00011.png, labelisé en speed_limit_unknown\n",
            " Aucun panneau détecté dans 00006_00013_00009.png, labelisé en speed_limit_unknown\n",
            " Aucun panneau détecté dans 00006_00009_00005.png, labelisé en speed_limit_unknown\n",
            " Aucun panneau détecté dans 00006_00001_00009.png, labelisé en speed_limit_unknown\n",
            " Aucun panneau détecté dans 00006_00008_00001.png, labelisé en speed_limit_unknown\n",
            " Aucun panneau détecté dans 00006_00012_00012.png, labelisé en speed_limit_unknown\n",
            " Aucun panneau détecté dans 00006_00013_00002.png, labelisé en speed_limit_unknown\n",
            " Aucun panneau détecté dans 00006_00008_00020.png, labelisé en speed_limit_unknown\n",
            " Aucun panneau détecté dans 00006_00011_00009.png, labelisé en speed_limit_unknown\n",
            " Aucun panneau détecté dans 00006_00006_00008.png, labelisé en speed_limit_unknown\n",
            " Aucun panneau détecté dans 00006_00002_00000.png, labelisé en speed_limit_unknown\n",
            " Aucun panneau détecté dans 00006_00009_00011.png, labelisé en speed_limit_unknown\n",
            " Aucun panneau détecté dans 00006_00011_00013.png, labelisé en speed_limit_unknown\n",
            " Aucun panneau détecté dans 00006_00000_00004.png, labelisé en speed_limit_unknown\n",
            " Aucun panneau détecté dans 00006_00005_00000.png, labelisé en speed_limit_unknown\n",
            " Aucun panneau détecté dans 00006_00010_00007.png, labelisé en speed_limit_unknown\n",
            " Aucun panneau détecté dans 00006_00009_00015.png, labelisé en speed_limit_unknown\n",
            " Aucun panneau détecté dans 00006_00007_00010.png, labelisé en speed_limit_unknown\n",
            " Aucun panneau détecté dans 00006_00002_00002.png, labelisé en speed_limit_unknown\n",
            " Aucun panneau détecté dans 00006_00000_00002.png, labelisé en speed_limit_unknown\n",
            " Aucun panneau détecté dans 00006_00001_00000.png, labelisé en speed_limit_unknown\n",
            " Aucun panneau détecté dans 00006_00008_00011.png, labelisé en speed_limit_unknown\n",
            " Aucun panneau détecté dans 00006_00007_00016.png, labelisé en speed_limit_unknown\n",
            " Aucun panneau détecté dans 00006_00003_00006.png, labelisé en speed_limit_unknown\n",
            " Aucun panneau détecté dans 00006_00000_00000.png, labelisé en speed_limit_unknown\n",
            " Aucun panneau détecté dans 00006_00002_00005.png, labelisé en speed_limit_unknown\n",
            " Aucun panneau détecté dans 00006_00008_00002.png, labelisé en speed_limit_unknown\n",
            " Aucun panneau détecté dans 00006_00010_00000.png, labelisé en speed_limit_unknown\n",
            " Aucun panneau détecté dans 00006_00012_00006.png, labelisé en speed_limit_unknown\n",
            " Aucun panneau détecté dans 00006_00005_00004.png, labelisé en speed_limit_unknown\n",
            " Aucun panneau détecté dans 00006_00010_00005.png, labelisé en speed_limit_unknown\n",
            " Aucun panneau détecté dans 00006_00011_00006.png, labelisé en speed_limit_unknown\n",
            " Aucun panneau détecté dans 00006_00007_00006.png, labelisé en speed_limit_unknown\n",
            " Aucun panneau détecté dans 00006_00009_00003.png, labelisé en speed_limit_unknown\n",
            " Aucun panneau détecté dans 00006_00011_00015.png, labelisé en speed_limit_unknown\n",
            " Aucun panneau détecté dans 00006_00008_00013.png, labelisé en speed_limit_unknown\n",
            " Aucun panneau détecté dans 00006_00008_00008.png, labelisé en speed_limit_unknown\n",
            " Aucun panneau détecté dans 00006_00009_00001.png, labelisé en speed_limit_unknown\n",
            " Aucun panneau détecté dans 00006_00000_00003.png, labelisé en speed_limit_unknown\n",
            " Aucun panneau détecté dans 00006_00003_00002.png, labelisé en speed_limit_unknown\n",
            " Aucun panneau détecté dans 00006_00011_00005.png, labelisé en speed_limit_unknown\n",
            " Aucun panneau détecté dans 00006_00003_00000.png, labelisé en speed_limit_unknown\n",
            " Aucun panneau détecté dans 00006_00008_00005.png, labelisé en speed_limit_unknown\n",
            " Aucun panneau détecté dans 00006_00011_00018.png, labelisé en speed_limit_unknown\n",
            " Aucun panneau détecté dans 00006_00010_00002.png, labelisé en speed_limit_unknown\n",
            " Aucun panneau détecté dans 00006_00009_00006.png, labelisé en speed_limit_unknown\n",
            " Aucun panneau détecté dans 00006_00010_00009.png, labelisé en speed_limit_unknown\n",
            " Aucun panneau détecté dans 00006_00007_00018.png, labelisé en speed_limit_unknown\n",
            " Aucun panneau détecté dans 00006_00008_00016.png, labelisé en speed_limit_unknown\n",
            " Aucun panneau détecté dans 00006_00003_00009.png, labelisé en speed_limit_unknown\n",
            " Aucun panneau détecté dans 00006_00010_00006.png, labelisé en speed_limit_unknown\n",
            " Aucun panneau détecté dans 00006_00000_00008.png, labelisé en speed_limit_unknown\n",
            " Aucun panneau détecté dans 00006_00000_00006.png, labelisé en speed_limit_unknown\n",
            " Aucun panneau détecté dans 00006_00000_00015.png, labelisé en speed_limit_unknown\n",
            " Aucun panneau détecté dans 00006_00010_00003.png, labelisé en speed_limit_unknown\n",
            " Aucun panneau détecté dans 00006_00004_00001.png, labelisé en speed_limit_unknown\n",
            " Aucun panneau détecté dans 00006_00006_00005.png, labelisé en speed_limit_unknown\n",
            " Aucun panneau détecté dans 00006_00007_00009.png, labelisé en speed_limit_unknown\n",
            " Aucun panneau détecté dans 00006_00007_00013.png, labelisé en speed_limit_unknown\n",
            " Aucun panneau détecté dans 00006_00008_00017.png, labelisé en speed_limit_unknown\n",
            " Aucun panneau détecté dans 00006_00003_00010.png, labelisé en speed_limit_unknown\n",
            " Aucun panneau détecté dans 00006_00002_00007.png, labelisé en speed_limit_unknown\n",
            " Aucun panneau détecté dans 00006_00005_00011.png, labelisé en speed_limit_unknown\n",
            " Aucun panneau détecté dans 00006_00006_00000.png, labelisé en speed_limit_unknown\n",
            " Aucun panneau détecté dans 00006_00008_00009.png, labelisé en speed_limit_unknown\n",
            " Aucun panneau détecté dans 00006_00003_00007.png, labelisé en speed_limit_unknown\n",
            " Aucun panneau détecté dans 00006_00007_00004.png, labelisé en speed_limit_unknown\n",
            " Aucun panneau détecté dans 00006_00005_00005.png, labelisé en speed_limit_unknown\n",
            " Aucun panneau détecté dans 00006_00013_00004.png, labelisé en speed_limit_unknown\n",
            " Aucun panneau détecté dans 00006_00000_00001.png, labelisé en speed_limit_unknown\n",
            " Aucun panneau détecté dans 00006_00012_00001.png, labelisé en speed_limit_unknown\n",
            " Aucun panneau détecté dans 00006_00003_00001.png, labelisé en speed_limit_unknown\n",
            " Aucun panneau détecté dans 00006_00008_00015.png, labelisé en speed_limit_unknown\n",
            " Aucun panneau détecté dans 00006_00008_00003.png, labelisé en speed_limit_unknown\n",
            " Aucun panneau détecté dans 00006_00005_00007.png, labelisé en speed_limit_unknown\n",
            " Aucun panneau détecté dans 00006_00010_00004.png, labelisé en speed_limit_unknown\n",
            " Aucun panneau détecté dans 00006_00011_00001.png, labelisé en speed_limit_unknown\n",
            " Aucun panneau détecté dans 00006_00000_00005.png, labelisé en speed_limit_unknown\n",
            " Aucun panneau détecté dans 00006_00001_00001.png, labelisé en speed_limit_unknown\n",
            " Aucun panneau détecté dans 00006_00012_00000.png, labelisé en speed_limit_unknown\n",
            " Aucun panneau détecté dans 00006_00004_00004.png, labelisé en speed_limit_unknown\n",
            " Aucun panneau détecté dans 00006_00006_00013.png, labelisé en speed_limit_unknown\n",
            " Aucun panneau détecté dans 00006_00012_00020.png, labelisé en speed_limit_unknown\n",
            " Aucun panneau détecté dans 00006_00002_00006.png, labelisé en speed_limit_unknown\n",
            " Aucun panneau détecté dans 00006_00009_00007.png, labelisé en speed_limit_unknown\n",
            " Aucun panneau détecté dans 00006_00008_00018.png, labelisé en speed_limit_unknown\n",
            " Aucun panneau détecté dans 00006_00012_00024.png, labelisé en speed_limit_unknown\n",
            " Aucun panneau détecté dans 00006_00009_00016.png, labelisé en speed_limit_unknown\n",
            " Aucun panneau détecté dans 00006_00012_00002.png, labelisé en speed_limit_unknown\n",
            " Aucun panneau détecté dans 00006_00006_00006.png, labelisé en speed_limit_unknown\n",
            " Aucun panneau détecté dans 00006_00004_00000.png, labelisé en speed_limit_unknown\n",
            " Aucun panneau détecté dans 00006_00002_00001.png, labelisé en speed_limit_unknown\n",
            " Aucun panneau détecté dans 00006_00008_00006.png, labelisé en speed_limit_unknown\n",
            " Aucun panneau détecté dans 00006_00013_00010.png, labelisé en speed_limit_unknown\n",
            " Aucun panneau détecté dans 00006_00009_00004.png, labelisé en speed_limit_unknown\n",
            " Aucun panneau détecté dans 00006_00007_00001.png, labelisé en speed_limit_unknown\n",
            " Aucun panneau détecté dans 00006_00001_00006.png, labelisé en speed_limit_unknown\n",
            " Aucun panneau détecté dans 00006_00003_00003.png, labelisé en speed_limit_unknown\n",
            " Aucun panneau détecté dans 00006_00006_00004.png, labelisé en speed_limit_unknown\n",
            " Aucun panneau détecté dans 00006_00008_00012.png, labelisé en speed_limit_unknown\n",
            " Aucun panneau détecté dans 00006_00006_00009.png, labelisé en speed_limit_unknown\n",
            " Aucun panneau détecté dans 00006_00005_00009.png, labelisé en speed_limit_unknown\n",
            " Aucun panneau détecté dans 00006_00001_00004.png, labelisé en speed_limit_unknown\n",
            " Aucun panneau détecté dans 00006_00006_00007.png, labelisé en speed_limit_unknown\n",
            " Aucun panneau détecté dans 00006_00001_00003.png, labelisé en speed_limit_unknown\n",
            " Aucun panneau détecté dans 00006_00007_00012.png, labelisé en speed_limit_unknown\n",
            " Aucun panneau détecté dans 00006_00013_00011.png, labelisé en speed_limit_unknown\n",
            " Aucun panneau détecté dans 00006_00008_00014.png, labelisé en speed_limit_unknown\n",
            " Aucun panneau détecté dans 00006_00004_00006.png, labelisé en speed_limit_unknown\n",
            " Aucun panneau détecté dans 00006_00012_00018.png, labelisé en speed_limit_unknown\n",
            " Aucun panneau détecté dans 00006_00007_00014.png, labelisé en speed_limit_unknown\n",
            " Aucun panneau détecté dans 00006_00006_00010.png, labelisé en speed_limit_unknown\n",
            " Aucun panneau détecté dans 00006_00011_00014.png, labelisé en speed_limit_unknown\n",
            " Aucun panneau détecté dans 00006_00003_00004.png, labelisé en speed_limit_unknown\n",
            " Aucun panneau détecté dans 00006_00007_00003.png, labelisé en speed_limit_unknown\n",
            " Aucun panneau détecté dans 00006_00012_00010.png, labelisé en speed_limit_unknown\n",
            " Aucun panneau détecté dans 00006_00011_00008.png, labelisé en speed_limit_unknown\n",
            " Aucun panneau détecté dans 00006_00004_00005.png, labelisé en speed_limit_unknown\n",
            " Aucun panneau détecté dans 00006_00011_00002.png, labelisé en speed_limit_unknown\n",
            " Aucun panneau détecté dans 00032_00000_00007.png, labelisé en speed_limit_unknown\n",
            " Aucun panneau détecté dans 00032_00000_00002.png, labelisé en speed_limit_unknown\n",
            " Aucun panneau détecté dans 00032_00000_00003.png, labelisé en speed_limit_unknown\n",
            " Aucun panneau détecté dans 00032_00000_00009.png, labelisé en speed_limit_unknown\n",
            " Aucun panneau détecté dans 00032_00000_00008.png, labelisé en speed_limit_unknown\n",
            " Aucun panneau détecté dans 00032_00000_00001.png, labelisé en speed_limit_unknown\n",
            " Aucun panneau détecté dans 00032_00000_00010.png, labelisé en speed_limit_unknown\n",
            " Aucun panneau détecté dans 00032_00000_00006.png, labelisé en speed_limit_unknown\n",
            " Aucun panneau détecté dans 00032_00000_00005.png, labelisé en speed_limit_unknown\n",
            " Aucun panneau détecté dans 00032_00000_00004.png, labelisé en speed_limit_unknown\n",
            " Aucun panneau détecté dans 00032_00000_00000.png, labelisé en speed_limit_unknown\n",
            " Aucun panneau détecté dans 00032_00005_00016.png, labelisé en speed_limit_unknown\n",
            " Aucun panneau détecté dans 00032_00001_00007.png, labelisé en speed_limit_unknown\n",
            " Aucun panneau détecté dans 00032_00001_00011.png, labelisé en speed_limit_unknown\n",
            " Aucun panneau détecté dans 00032_00001_00009.png, labelisé en speed_limit_unknown\n",
            " Aucun panneau détecté dans 00032_00007_00006.png, labelisé en speed_limit_unknown\n",
            " Aucun panneau détecté dans 00032_00005_00017.png, labelisé en speed_limit_unknown\n",
            " Aucun panneau détecté dans 00032_00002_00009.png, labelisé en speed_limit_unknown\n",
            " Aucun panneau détecté dans 00032_00002_00000.png, labelisé en speed_limit_unknown\n",
            " Aucun panneau détecté dans 00032_00002_00003.png, labelisé en speed_limit_unknown\n",
            " Aucun panneau détecté dans 00032_00005_00019.png, labelisé en speed_limit_unknown\n",
            " Aucun panneau détecté dans 00032_00003_00004.png, labelisé en speed_limit_unknown\n",
            " Aucun panneau détecté dans 00032_00003_00009.png, labelisé en speed_limit_unknown\n",
            " Aucun panneau détecté dans 00032_00006_00011.png, labelisé en speed_limit_unknown\n",
            " Aucun panneau détecté dans 00032_00004_00005.png, labelisé en speed_limit_unknown\n",
            " Aucun panneau détecté dans 00032_00007_00008.png, labelisé en speed_limit_unknown\n",
            " Aucun panneau détecté dans 00032_00005_00013.png, labelisé en speed_limit_unknown\n",
            " Aucun panneau détecté dans 00032_00007_00004.png, labelisé en speed_limit_unknown\n",
            " Aucun panneau détecté dans 00032_00006_00003.png, labelisé en speed_limit_unknown\n",
            " Aucun panneau détecté dans 00032_00005_00025.png, labelisé en speed_limit_unknown\n",
            " Aucun panneau détecté dans 00032_00004_00000.png, labelisé en speed_limit_unknown\n",
            " Aucun panneau détecté dans 00032_00005_00015.png, labelisé en speed_limit_unknown\n",
            " Aucun panneau détecté dans 00032_00005_00029.png, labelisé en speed_limit_unknown\n",
            " Aucun panneau détecté dans 00032_00003_00018.png, labelisé en speed_limit_unknown\n",
            " Aucun panneau détecté dans 00032_00007_00002.png, labelisé en speed_limit_unknown\n",
            " Aucun panneau détecté dans 00032_00005_00005.png, labelisé en speed_limit_unknown\n",
            " Aucun panneau détecté dans 00032_00004_00007.png, labelisé en speed_limit_unknown\n",
            " Aucun panneau détecté dans 00032_00002_00001.png, labelisé en speed_limit_unknown\n",
            " Aucun panneau détecté dans 00032_00007_00007.png, labelisé en speed_limit_unknown\n",
            " Aucun panneau détecté dans 00032_00001_00003.png, labelisé en speed_limit_unknown\n",
            " Aucun panneau détecté dans 00032_00005_00010.png, labelisé en speed_limit_unknown\n",
            " Aucun panneau détecté dans 00032_00003_00008.png, labelisé en speed_limit_unknown\n",
            " Aucun panneau détecté dans 00032_00002_00002.png, labelisé en speed_limit_unknown\n",
            " Aucun panneau détecté dans 00032_00006_00001.png, labelisé en speed_limit_unknown\n",
            " Aucun panneau détecté dans 00032_00005_00014.png, labelisé en speed_limit_unknown\n",
            " Aucun panneau détecté dans 00032_00005_00002.png, labelisé en speed_limit_unknown\n",
            " Aucun panneau détecté dans 00032_00003_00003.png, labelisé en speed_limit_unknown\n",
            " Aucun panneau détecté dans 00032_00006_00016.png, labelisé en speed_limit_unknown\n",
            " Aucun panneau détecté dans 00032_00002_00004.png, labelisé en speed_limit_unknown\n",
            " Aucun panneau détecté dans 00032_00004_00008.png, labelisé en speed_limit_unknown\n",
            " Aucun panneau détecté dans 00032_00002_00005.png, labelisé en speed_limit_unknown\n",
            " Aucun panneau détecté dans 00032_00005_00009.png, labelisé en speed_limit_unknown\n",
            " Aucun panneau détecté dans 00032_00001_00008.png, labelisé en speed_limit_unknown\n",
            " Aucun panneau détecté dans 00032_00005_00004.png, labelisé en speed_limit_unknown\n",
            " Aucun panneau détecté dans 00032_00005_00008.png, labelisé en speed_limit_unknown\n",
            " Aucun panneau détecté dans 00032_00004_00004.png, labelisé en speed_limit_unknown\n",
            " Aucun panneau détecté dans 00032_00003_00022.png, labelisé en speed_limit_unknown\n",
            " Aucun panneau détecté dans 00032_00006_00006.png, labelisé en speed_limit_unknown\n",
            " Aucun panneau détecté dans 00032_00006_00002.png, labelisé en speed_limit_unknown\n",
            " Aucun panneau détecté dans 00032_00007_00009.png, labelisé en speed_limit_unknown\n",
            " Aucun panneau détecté dans 00032_00005_00001.png, labelisé en speed_limit_unknown\n",
            " Aucun panneau détecté dans 00032_00005_00000.png, labelisé en speed_limit_unknown\n",
            " Aucun panneau détecté dans 00032_00007_00003.png, labelisé en speed_limit_unknown\n",
            " Aucun panneau détecté dans 00032_00004_00009.png, labelisé en speed_limit_unknown\n",
            " Aucun panneau détecté dans 00032_00005_00011.png, labelisé en speed_limit_unknown\n",
            " Aucun panneau détecté dans 00032_00005_00012.png, labelisé en speed_limit_unknown\n",
            " Aucun panneau détecté dans 00032_00003_00012.png, labelisé en speed_limit_unknown\n",
            " Aucun panneau détecté dans 00032_00007_00001.png, labelisé en speed_limit_unknown\n",
            " Aucun panneau détecté dans 00032_00004_00002.png, labelisé en speed_limit_unknown\n",
            " Aucun panneau détecté dans 00032_00003_00002.png, labelisé en speed_limit_unknown\n",
            " Aucun panneau détecté dans 00032_00002_00007.png, labelisé en speed_limit_unknown\n",
            " Aucun panneau détecté dans 00032_00001_00006.png, labelisé en speed_limit_unknown\n",
            " Aucun panneau détecté dans 00032_00005_00003.png, labelisé en speed_limit_unknown\n",
            " Aucun panneau détecté dans 00032_00005_00023.png, labelisé en speed_limit_unknown\n",
            " Aucun panneau détecté dans 00032_00003_00001.png, labelisé en speed_limit_unknown\n",
            " Aucun panneau détecté dans 00032_00005_00006.png, labelisé en speed_limit_unknown\n",
            " Aucun panneau détecté dans 00032_00006_00010.png, labelisé en speed_limit_unknown\n",
            " Aucun panneau détecté dans 00032_00006_00009.png, labelisé en speed_limit_unknown\n",
            " Aucun panneau détecté dans 00032_00001_00013.png, labelisé en speed_limit_unknown\n",
            " Aucun panneau détecté dans 00032_00002_00008.png, labelisé en speed_limit_unknown\n",
            " Aucun panneau détecté dans 00032_00003_00006.png, labelisé en speed_limit_unknown\n",
            " Aucun panneau détecté dans 00032_00001_00001.png, labelisé en speed_limit_unknown\n",
            " Aucun panneau détecté dans 00032_00006_00000.png, labelisé en speed_limit_unknown\n",
            " Aucun panneau détecté dans 00032_00003_00010.png, labelisé en speed_limit_unknown\n",
            " Aucun panneau détecté dans 00032_00001_00002.png, labelisé en speed_limit_unknown\n",
            " Aucun panneau détecté dans 00032_00007_00005.png, labelisé en speed_limit_unknown\n",
            " Aucun panneau détecté dans 00032_00003_00011.png, labelisé en speed_limit_unknown\n",
            " Aucun panneau détecté dans 00032_00004_00006.png, labelisé en speed_limit_unknown\n",
            " Aucun panneau détecté dans 00032_00001_00010.png, labelisé en speed_limit_unknown\n",
            " Aucun panneau détecté dans 00032_00004_00003.png, labelisé en speed_limit_unknown\n",
            " Aucun panneau détecté dans 00032_00005_00020.png, labelisé en speed_limit_unknown\n",
            " Aucun panneau détecté dans 00032_00006_00004.png, labelisé en speed_limit_unknown\n",
            " Aucun panneau détecté dans 00032_00004_00010.png, labelisé en speed_limit_unknown\n",
            " Aucun panneau détecté dans 00032_00001_00012.png, labelisé en speed_limit_unknown\n",
            " Aucun panneau détecté dans 00032_00006_00007.png, labelisé en speed_limit_unknown\n",
            " Aucun panneau détecté dans 00032_00001_00004.png, labelisé en speed_limit_unknown\n",
            " Aucun panneau détecté dans 00032_00005_00024.png, labelisé en speed_limit_unknown\n",
            " Aucun panneau détecté dans 00032_00006_00005.png, labelisé en speed_limit_unknown\n",
            " Aucun panneau détecté dans 00032_00007_00000.png, labelisé en speed_limit_unknown\n",
            " Aucun panneau détecté dans 00032_00005_00022.png, labelisé en speed_limit_unknown\n",
            " Aucun panneau détecté dans 00032_00002_00006.png, labelisé en speed_limit_unknown\n",
            " Aucun panneau détecté dans 00032_00003_00007.png, labelisé en speed_limit_unknown\n",
            " Aucun panneau détecté dans 00032_00001_00000.png, labelisé en speed_limit_unknown\n",
            " Aucun panneau détecté dans 00032_00007_00010.png, labelisé en speed_limit_unknown\n",
            " Aucun panneau détecté dans 00032_00003_00000.png, labelisé en speed_limit_unknown\n",
            " Aucun panneau détecté dans 00032_00006_00008.png, labelisé en speed_limit_unknown\n",
            " Aucun panneau détecté dans 00032_00003_00005.png, labelisé en speed_limit_unknown\n",
            " Aucun panneau détecté dans 00032_00004_00001.png, labelisé en speed_limit_unknown\n",
            " Aucun panneau détecté dans 00032_00001_00005.png, labelisé en speed_limit_unknown\n",
            " Aucun panneau détecté dans 00032_00005_00018.png, labelisé en speed_limit_unknown\n",
            " Aucun panneau détecté dans 00032_00005_00007.png, labelisé en speed_limit_unknown\n",
            "🔄 Génération de 84 augmentations pour Road_works-sli_100Kmh\n",
            "🔄 Génération de 78 augmentations pour Road_works-sli_20Kmh\n",
            "🔄 Génération de 64 augmentations pour Road_works-sli_30Kmh\n",
            "🔄 Génération de 62 augmentations pour Road_works-sli_40Kmh\n",
            "🔄 Génération de 76 augmentations pour Road_works-sli_50Kmh\n",
            "🔄 Génération de 86 augmentations pour Road_works-sli_60Kmh\n",
            "🔄 Génération de 88 augmentations pour Road_works-sli_70Kmh\n",
            "🔄 Génération de 62 augmentations pour Road_works-sli_80Kmh\n",
            "🔄 Génération de 82 augmentations pour Road_works-sli_90Kmh\n",
            " Aucun panneau détecté dans 00007_00003_00005.png, labelisé en speed_limit_unknown\n",
            " Aucun panneau détecté dans 00007_00006_00000.png, labelisé en speed_limit_unknown\n",
            " Aucun panneau détecté dans 00007_00001_00002.png, labelisé en speed_limit_unknown\n",
            " Aucun panneau détecté dans 00007_00011_00013.png, labelisé en speed_limit_unknown\n",
            " Aucun panneau détecté dans 00007_00006_00002.png, labelisé en speed_limit_unknown\n",
            " Aucun panneau détecté dans 00007_00014_00009.png, labelisé en speed_limit_unknown\n",
            " Aucun panneau détecté dans 00007_00004_00006.png, labelisé en speed_limit_unknown\n",
            " Aucun panneau détecté dans 00007_00021_00008.png, labelisé en speed_limit_unknown\n",
            " Aucun panneau détecté dans 00007_00019_00009.png, labelisé en speed_limit_unknown\n",
            " Aucun panneau détecté dans 00007_00012_00001.png, labelisé en speed_limit_unknown\n",
            " Aucun panneau détecté dans 00007_00019_00011.png, labelisé en speed_limit_unknown\n",
            " Aucun panneau détecté dans 00007_00012_00004.png, labelisé en speed_limit_unknown\n",
            " Aucun panneau détecté dans 00007_00003_00012.png, labelisé en speed_limit_unknown\n",
            " Aucun panneau détecté dans 00007_00000_00006.png, labelisé en speed_limit_unknown\n",
            " Aucun panneau détecté dans 00007_00021_00006.png, labelisé en speed_limit_unknown\n",
            " Aucun panneau détecté dans 00007_00001_00000.png, labelisé en speed_limit_unknown\n",
            " Aucun panneau détecté dans 00007_00007_00016.png, labelisé en speed_limit_unknown\n",
            " Aucun panneau détecté dans 00007_00000_00003.png, labelisé en speed_limit_unknown\n",
            " Aucun panneau détecté dans 00007_00012_00008.png, labelisé en speed_limit_unknown\n",
            " Aucun panneau détecté dans 00007_00004_00005.png, labelisé en speed_limit_unknown\n",
            " Aucun panneau détecté dans 00007_00003_00013.png, labelisé en speed_limit_unknown\n",
            " Aucun panneau détecté dans 00007_00001_00006.png, labelisé en speed_limit_unknown\n",
            " Aucun panneau détecté dans 00007_00021_00012.png, labelisé en speed_limit_unknown\n",
            " Aucun panneau détecté dans 00007_00014_00007.png, labelisé en speed_limit_unknown\n",
            " Aucun panneau détecté dans 00007_00004_00019.png, labelisé en speed_limit_unknown\n",
            " Aucun panneau détecté dans 00007_00003_00001.png, labelisé en speed_limit_unknown\n",
            " Aucun panneau détecté dans 00007_00007_00014.png, labelisé en speed_limit_unknown\n",
            " Aucun panneau détecté dans 00007_00000_00008.png, labelisé en speed_limit_unknown\n",
            " Aucun panneau détecté dans 00007_00004_00021.png, labelisé en speed_limit_unknown\n",
            " Aucun panneau détecté dans 00007_00008_00000.png, labelisé en speed_limit_unknown\n",
            " Aucun panneau détecté dans 00007_00004_00002.png, labelisé en speed_limit_unknown\n",
            " Aucun panneau détecté dans 00007_00021_00011.png, labelisé en speed_limit_unknown\n",
            " Aucun panneau détecté dans 00007_00001_00004.png, labelisé en speed_limit_unknown\n",
            " Aucun panneau détecté dans 00007_00019_00001.png, labelisé en speed_limit_unknown\n",
            " Aucun panneau détecté dans 00007_00001_00023.png, labelisé en speed_limit_unknown\n",
            " Aucun panneau détecté dans 00007_00001_00010.png, labelisé en speed_limit_unknown\n",
            " Aucun panneau détecté dans 00007_00001_00005.png, labelisé en speed_limit_unknown\n",
            " Aucun panneau détecté dans 00007_00021_00005.png, labelisé en speed_limit_unknown\n",
            " Aucun panneau détecté dans 00007_00003_00010.png, labelisé en speed_limit_unknown\n",
            " Aucun panneau détecté dans 00007_00002_00000.png, labelisé en speed_limit_unknown\n",
            " Aucun panneau détecté dans 00007_00001_00012.png, labelisé en speed_limit_unknown\n",
            " Aucun panneau détecté dans 00007_00003_00000.png, labelisé en speed_limit_unknown\n",
            " Aucun panneau détecté dans 00007_00019_00004.png, labelisé en speed_limit_unknown\n",
            " Aucun panneau détecté dans 00007_00000_00001.png, labelisé en speed_limit_unknown\n",
            " Aucun panneau détecté dans 00007_00003_00006.png, labelisé en speed_limit_unknown\n",
            " Aucun panneau détecté dans 00007_00021_00014.png, labelisé en speed_limit_unknown\n",
            " Aucun panneau détecté dans 00007_00021_00017.png, labelisé en speed_limit_unknown\n",
            " Aucun panneau détecté dans 00007_00003_00004.png, labelisé en speed_limit_unknown\n",
            " Aucun panneau détecté dans 00007_00001_00021.png, labelisé en speed_limit_unknown\n",
            " Aucun panneau détecté dans 00007_00000_00002.png, labelisé en speed_limit_unknown\n",
            " Aucun panneau détecté dans 00007_00003_00008.png, labelisé en speed_limit_unknown\n",
            " Aucun panneau détecté dans 00007_00021_00009.png, labelisé en speed_limit_unknown\n",
            " Aucun panneau détecté dans 00007_00001_00020.png, labelisé en speed_limit_unknown\n",
            " Aucun panneau détecté dans 00007_00004_00017.png, labelisé en speed_limit_unknown\n",
            " Aucun panneau détecté dans 00007_00001_00008.png, labelisé en speed_limit_unknown\n",
            " Aucun panneau détecté dans 00007_00021_00010.png, labelisé en speed_limit_unknown\n",
            " Aucun panneau détecté dans 00007_00004_00020.png, labelisé en speed_limit_unknown\n",
            " Aucun panneau détecté dans 00007_00004_00011.png, labelisé en speed_limit_unknown\n",
            " Aucun panneau détecté dans 00007_00006_00001.png, labelisé en speed_limit_unknown\n",
            " Aucun panneau détecté dans 00007_00004_00022.png, labelisé en speed_limit_unknown\n",
            " Aucun panneau détecté dans 00007_00019_00013.png, labelisé en speed_limit_unknown\n",
            " Aucun panneau détecté dans 00007_00021_00013.png, labelisé en speed_limit_unknown\n",
            " Aucun panneau détecté dans 00007_00004_00003.png, labelisé en speed_limit_unknown\n",
            " Aucun panneau détecté dans 00007_00001_00011.png, labelisé en speed_limit_unknown\n",
            " Aucun panneau détecté dans 00007_00004_00009.png, labelisé en speed_limit_unknown\n",
            " Aucun panneau détecté dans 00007_00001_00022.png, labelisé en speed_limit_unknown\n",
            " Aucun panneau détecté dans 00007_00001_00019.png, labelisé en speed_limit_unknown\n",
            " Aucun panneau détecté dans 00007_00019_00014.png, labelisé en speed_limit_unknown\n",
            " Aucun panneau détecté dans 00007_00012_00002.png, labelisé en speed_limit_unknown\n",
            " Aucun panneau détecté dans 00007_00014_00000.png, labelisé en speed_limit_unknown\n",
            " Aucun panneau détecté dans 00007_00002_00003.png, labelisé en speed_limit_unknown\n",
            " Aucun panneau détecté dans 00007_00012_00003.png, labelisé en speed_limit_unknown\n",
            " Aucun panneau détecté dans 00007_00006_00004.png, labelisé en speed_limit_unknown\n",
            " Aucun panneau détecté dans 00007_00014_00003.png, labelisé en speed_limit_unknown\n",
            " Aucun panneau détecté dans 00007_00019_00008.png, labelisé en speed_limit_unknown\n",
            " Aucun panneau détecté dans 00007_00003_00002.png, labelisé en speed_limit_unknown\n",
            " Aucun panneau détecté dans 00007_00003_00015.png, labelisé en speed_limit_unknown\n",
            " Aucun panneau détecté dans 00007_00001_00007.png, labelisé en speed_limit_unknown\n",
            " Aucun panneau détecté dans 00007_00004_00013.png, labelisé en speed_limit_unknown\n",
            " Aucun panneau détecté dans 00007_00004_00012.png, labelisé en speed_limit_unknown\n",
            " Aucun panneau détecté dans 00007_00004_00001.png, labelisé en speed_limit_unknown\n",
            " Aucun panneau détecté dans 00007_00014_00010.png, labelisé en speed_limit_unknown\n",
            " Aucun panneau détecté dans 00007_00019_00000.png, labelisé en speed_limit_unknown\n",
            " Aucun panneau détecté dans 00007_00019_00010.png, labelisé en speed_limit_unknown\n",
            " Aucun panneau détecté dans 00007_00000_00007.png, labelisé en speed_limit_unknown\n",
            " Aucun panneau détecté dans 00007_00006_00006.png, labelisé en speed_limit_unknown\n",
            " Aucun panneau détecté dans 00007_00021_00007.png, labelisé en speed_limit_unknown\n",
            " Aucun panneau détecté dans 00007_00004_00016.png, labelisé en speed_limit_unknown\n",
            " Aucun panneau détecté dans 00007_00012_00006.png, labelisé en speed_limit_unknown\n",
            " Aucun panneau détecté dans 00007_00019_00007.png, labelisé en speed_limit_unknown\n",
            " Aucun panneau détecté dans 00007_00006_00003.png, labelisé en speed_limit_unknown\n",
            " Aucun panneau détecté dans 00007_00003_00003.png, labelisé en speed_limit_unknown\n",
            " Aucun panneau détecté dans 00007_00001_00009.png, labelisé en speed_limit_unknown\n",
            " Aucun panneau détecté dans 00007_00004_00000.png, labelisé en speed_limit_unknown\n",
            " Aucun panneau détecté dans 00007_00001_00015.png, labelisé en speed_limit_unknown\n",
            " Aucun panneau détecté dans 00007_00001_00016.png, labelisé en speed_limit_unknown\n",
            " Aucun panneau détecté dans 00007_00001_00013.png, labelisé en speed_limit_unknown\n",
            " Aucun panneau détecté dans 00007_00019_00003.png, labelisé en speed_limit_unknown\n",
            " Aucun panneau détecté dans 00007_00019_00002.png, labelisé en speed_limit_unknown\n",
            " Aucun panneau détecté dans 00007_00019_00012.png, labelisé en speed_limit_unknown\n",
            " Aucun panneau détecté dans 00007_00021_00015.png, labelisé en speed_limit_unknown\n",
            " Aucun panneau détecté dans 00007_00006_00005.png, labelisé en speed_limit_unknown\n",
            " Aucun panneau détecté dans 00007_00003_00014.png, labelisé en speed_limit_unknown\n",
            " Aucun panneau détecté dans 00007_00003_00009.png, labelisé en speed_limit_unknown\n",
            " Aucun panneau détecté dans 00007_00004_00004.png, labelisé en speed_limit_unknown\n",
            " Aucun panneau détecté dans 00007_00000_00013.png, labelisé en speed_limit_unknown\n",
            " Aucun panneau détecté dans 00007_00007_00015.png, labelisé en speed_limit_unknown\n",
            " Aucun panneau détecté dans 00007_00004_00008.png, labelisé en speed_limit_unknown\n",
            " Aucun panneau détecté dans 00007_00004_00014.png, labelisé en speed_limit_unknown\n",
            " Aucun panneau détecté dans 00007_00004_00010.png, labelisé en speed_limit_unknown\n",
            " Aucun panneau détecté dans 00007_00014_00002.png, labelisé en speed_limit_unknown\n",
            " Aucun panneau détecté dans 00007_00000_00000.png, labelisé en speed_limit_unknown\n",
            " Aucun panneau détecté dans 00007_00019_00006.png, labelisé en speed_limit_unknown\n",
            " Aucun panneau détecté dans 00007_00011_00011.png, labelisé en speed_limit_unknown\n",
            " Aucun panneau détecté dans 00007_00004_00018.png, labelisé en speed_limit_unknown\n",
            " Aucun panneau détecté dans 00007_00004_00015.png, labelisé en speed_limit_unknown\n",
            " Aucun panneau détecté dans 00007_00012_00000.png, labelisé en speed_limit_unknown\n",
            " Aucun panneau détecté dans 00007_00001_00001.png, labelisé en speed_limit_unknown\n",
            " Aucun panneau détecté dans 00007_00001_00017.png, labelisé en speed_limit_unknown\n",
            " Aucun panneau détecté dans 00007_00000_00004.png, labelisé en speed_limit_unknown\n",
            " Aucun panneau détecté dans 00007_00001_00014.png, labelisé en speed_limit_unknown\n",
            " Aucun panneau détecté dans 00007_00001_00024.png, labelisé en speed_limit_unknown\n",
            " Aucun panneau détecté dans 00007_00000_00005.png, labelisé en speed_limit_unknown\n",
            " Aucun panneau détecté dans 00007_00012_00007.png, labelisé en speed_limit_unknown\n",
            " Aucun panneau détecté dans 00007_00004_00007.png, labelisé en speed_limit_unknown\n",
            " Aucun panneau détecté dans 00007_00003_00007.png, labelisé en speed_limit_unknown\n",
            " Aucun panneau détecté dans 00007_00008_00001.png, labelisé en speed_limit_unknown\n",
            " Aucun panneau détecté dans 00007_00003_00011.png, labelisé en speed_limit_unknown\n",
            " Aucun panneau détecté dans 00007_00011_00012.png, labelisé en speed_limit_unknown\n",
            " Aucun panneau détecté dans 00007_00014_00008.png, labelisé en speed_limit_unknown\n",
            " Aucun panneau détecté dans 00007_00001_00003.png, labelisé en speed_limit_unknown\n",
            " Aucun panneau détecté dans 00007_00001_00018.png, labelisé en speed_limit_unknown\n",
            " Aucun panneau détecté dans 00007_00019_00005.png, labelisé en speed_limit_unknown\n",
            " Aucun panneau détecté dans 00007_00021_00016.png, labelisé en speed_limit_unknown\n",
            " Aucun panneau détecté dans 00007_00014_00001.png, labelisé en speed_limit_unknown\n",
            " Aucun panneau détecté dans 00007_00012_00005.png, labelisé en speed_limit_unknown\n",
            " Aucun panneau détecté dans 00008_00001_00001.png, labelisé en speed_limit_unknown\n",
            " Aucun panneau détecté dans 00008_00001_00012.png, labelisé en speed_limit_unknown\n",
            " Aucun panneau détecté dans 00008_00001_00002.png, labelisé en speed_limit_unknown\n",
            " Aucun panneau détecté dans 00008_00001_00003.png, labelisé en speed_limit_unknown\n",
            " Aucun panneau détecté dans 00008_00001_00008.png, labelisé en speed_limit_unknown\n",
            " Aucun panneau détecté dans 00008_00001_00014.png, labelisé en speed_limit_unknown\n",
            " Aucun panneau détecté dans 00008_00001_00004.png, labelisé en speed_limit_unknown\n",
            " Aucun panneau détecté dans 00008_00001_00007.png, labelisé en speed_limit_unknown\n",
            " Aucun panneau détecté dans 00008_00001_00005.png, labelisé en speed_limit_unknown\n",
            " Aucun panneau détecté dans 00008_00001_00015.png, labelisé en speed_limit_unknown\n",
            " Aucun panneau détecté dans 00008_00001_00011.png, labelisé en speed_limit_unknown\n",
            " Aucun panneau détecté dans 00008_00001_00013.png, labelisé en speed_limit_unknown\n",
            " Aucun panneau détecté dans 00008_00001_00006.png, labelisé en speed_limit_unknown\n",
            " Aucun panneau détecté dans 00008_00001_00010.png, labelisé en speed_limit_unknown\n",
            " Aucun panneau détecté dans 00008_00001_00016.png, labelisé en speed_limit_unknown\n",
            " Aucun panneau détecté dans 00008_00001_00009.png, labelisé en speed_limit_unknown\n",
            " Aucun panneau détecté dans 00008_00001_00000.png, labelisé en speed_limit_unknown\n",
            " Aucun panneau détecté dans 00008_00002_00014.png, labelisé en speed_limit_unknown\n",
            " Aucun panneau détecté dans 00008_00002_00021.png, labelisé en speed_limit_unknown\n",
            " Aucun panneau détecté dans 00008_00006_00015.png, labelisé en speed_limit_unknown\n",
            " Aucun panneau détecté dans 00008_00007_00014.png, labelisé en speed_limit_unknown\n",
            " Aucun panneau détecté dans 00008_00002_00008.png, labelisé en speed_limit_unknown\n",
            " Aucun panneau détecté dans 00008_00007_00003.png, labelisé en speed_limit_unknown\n",
            " Aucun panneau détecté dans 00008_00002_00003.png, labelisé en speed_limit_unknown\n",
            " Aucun panneau détecté dans 00008_00008_00004.png, labelisé en speed_limit_unknown\n",
            " Aucun panneau détecté dans 00008_00006_00016.png, labelisé en speed_limit_unknown\n",
            " Aucun panneau détecté dans 00008_00002_00017.png, labelisé en speed_limit_unknown\n",
            " Aucun panneau détecté dans 00008_00007_00002.png, labelisé en speed_limit_unknown\n",
            " Aucun panneau détecté dans 00008_00012_00000.png, labelisé en speed_limit_unknown\n",
            " Aucun panneau détecté dans 00008_00002_00026.png, labelisé en speed_limit_unknown\n",
            " Aucun panneau détecté dans 00008_00009_00002.png, labelisé en speed_limit_unknown\n",
            " Aucun panneau détecté dans 00008_00002_00004.png, labelisé en speed_limit_unknown\n",
            " Aucun panneau détecté dans 00008_00002_00015.png, labelisé en speed_limit_unknown\n",
            " Aucun panneau détecté dans 00008_00011_00004.png, labelisé en speed_limit_unknown\n",
            " Aucun panneau détecté dans 00008_00007_00013.png, labelisé en speed_limit_unknown\n",
            " Aucun panneau détecté dans 00008_00011_00005.png, labelisé en speed_limit_unknown\n",
            " Aucun panneau détecté dans 00008_00003_00008.png, labelisé en speed_limit_unknown\n",
            " Aucun panneau détecté dans 00008_00003_00006.png, labelisé en speed_limit_unknown\n",
            " Aucun panneau détecté dans 00008_00006_00018.png, labelisé en speed_limit_unknown\n",
            " Aucun panneau détecté dans 00008_00011_00009.png, labelisé en speed_limit_unknown\n",
            " Aucun panneau détecté dans 00008_00002_00012.png, labelisé en speed_limit_unknown\n",
            " Aucun panneau détecté dans 00008_00011_00002.png, labelisé en speed_limit_unknown\n",
            " Aucun panneau détecté dans 00008_00008_00005.png, labelisé en speed_limit_unknown\n",
            " Aucun panneau détecté dans 00008_00002_00009.png, labelisé en speed_limit_unknown\n",
            " Aucun panneau détecté dans 00008_00008_00003.png, labelisé en speed_limit_unknown\n",
            " Aucun panneau détecté dans 00008_00003_00002.png, labelisé en speed_limit_unknown\n",
            " Aucun panneau détecté dans 00008_00002_00006.png, labelisé en speed_limit_unknown\n",
            " Aucun panneau détecté dans 00008_00006_00001.png, labelisé en speed_limit_unknown\n",
            " Aucun panneau détecté dans 00008_00009_00014.png, labelisé en speed_limit_unknown\n",
            " Aucun panneau détecté dans 00008_00006_00012.png, labelisé en speed_limit_unknown\n",
            " Aucun panneau détecté dans 00008_00006_00004.png, labelisé en speed_limit_unknown\n",
            " Aucun panneau détecté dans 00008_00003_00001.png, labelisé en speed_limit_unknown\n",
            " Aucun panneau détecté dans 00008_00002_00025.png, labelisé en speed_limit_unknown\n",
            " Aucun panneau détecté dans 00008_00006_00006.png, labelisé en speed_limit_unknown\n",
            " Aucun panneau détecté dans 00008_00003_00005.png, labelisé en speed_limit_unknown\n",
            " Aucun panneau détecté dans 00008_00008_00000.png, labelisé en speed_limit_unknown\n",
            " Aucun panneau détecté dans 00008_00007_00000.png, labelisé en speed_limit_unknown\n",
            " Aucun panneau détecté dans 00008_00006_00010.png, labelisé en speed_limit_unknown\n",
            " Aucun panneau détecté dans 00008_00008_00006.png, labelisé en speed_limit_unknown\n",
            " Aucun panneau détecté dans 00008_00006_00009.png, labelisé en speed_limit_unknown\n",
            " Aucun panneau détecté dans 00008_00007_00008.png, labelisé en speed_limit_unknown\n",
            " Aucun panneau détecté dans 00008_00002_00007.png, labelisé en speed_limit_unknown\n",
            " Aucun panneau détecté dans 00008_00011_00012.png, labelisé en speed_limit_unknown\n",
            " Aucun panneau détecté dans 00008_00003_00000.png, labelisé en speed_limit_unknown\n",
            " Aucun panneau détecté dans 00008_00006_00003.png, labelisé en speed_limit_unknown\n",
            " Aucun panneau détecté dans 00008_00011_00015.png, labelisé en speed_limit_unknown\n",
            " Aucun panneau détecté dans 00008_00002_00027.png, labelisé en speed_limit_unknown\n",
            " Aucun panneau détecté dans 00008_00007_00007.png, labelisé en speed_limit_unknown\n",
            " Aucun panneau détecté dans 00008_00007_00006.png, labelisé en speed_limit_unknown\n",
            " Aucun panneau détecté dans 00008_00003_00003.png, labelisé en speed_limit_unknown\n",
            " Aucun panneau détecté dans 00008_00002_00000.png, labelisé en speed_limit_unknown\n",
            " Aucun panneau détecté dans 00008_00007_00016.png, labelisé en speed_limit_unknown\n",
            " Aucun panneau détecté dans 00008_00006_00005.png, labelisé en speed_limit_unknown\n",
            " Aucun panneau détecté dans 00008_00011_00008.png, labelisé en speed_limit_unknown\n",
            " Aucun panneau détecté dans 00008_00011_00000.png, labelisé en speed_limit_unknown\n",
            " Aucun panneau détecté dans 00008_00007_00001.png, labelisé en speed_limit_unknown\n",
            " Aucun panneau détecté dans 00008_00006_00013.png, labelisé en speed_limit_unknown\n",
            " Aucun panneau détecté dans 00008_00011_00001.png, labelisé en speed_limit_unknown\n",
            " Aucun panneau détecté dans 00008_00008_00007.png, labelisé en speed_limit_unknown\n",
            " Aucun panneau détecté dans 00008_00012_00001.png, labelisé en speed_limit_unknown\n",
            " Aucun panneau détecté dans 00008_00011_00007.png, labelisé en speed_limit_unknown\n",
            " Aucun panneau détecté dans 00008_00008_00009.png, labelisé en speed_limit_unknown\n",
            " Aucun panneau détecté dans 00008_00006_00008.png, labelisé en speed_limit_unknown\n",
            " Aucun panneau détecté dans 00008_00007_00011.png, labelisé en speed_limit_unknown\n",
            " Aucun panneau détecté dans 00008_00007_00012.png, labelisé en speed_limit_unknown\n",
            " Aucun panneau détecté dans 00008_00002_00022.png, labelisé en speed_limit_unknown\n",
            " Aucun panneau détecté dans 00008_00002_00018.png, labelisé en speed_limit_unknown\n",
            " Aucun panneau détecté dans 00008_00002_00016.png, labelisé en speed_limit_unknown\n",
            " Aucun panneau détecté dans 00008_00007_00017.png, labelisé en speed_limit_unknown\n",
            " Aucun panneau détecté dans 00008_00011_00003.png, labelisé en speed_limit_unknown\n",
            " Aucun panneau détecté dans 00008_00008_00001.png, labelisé en speed_limit_unknown\n",
            " Aucun panneau détecté dans 00008_00002_00002.png, labelisé en speed_limit_unknown\n",
            " Aucun panneau détecté dans 00008_00008_00008.png, labelisé en speed_limit_unknown\n",
            " Aucun panneau détecté dans 00008_00007_00005.png, labelisé en speed_limit_unknown\n",
            " Aucun panneau détecté dans 00008_00009_00013.png, labelisé en speed_limit_unknown\n",
            " Aucun panneau détecté dans 00008_00006_00002.png, labelisé en speed_limit_unknown\n",
            " Aucun panneau détecté dans 00008_00009_00015.png, labelisé en speed_limit_unknown\n",
            " Aucun panneau détecté dans 00008_00008_00002.png, labelisé en speed_limit_unknown\n",
            " Aucun panneau détecté dans 00008_00006_00007.png, labelisé en speed_limit_unknown\n",
            " Aucun panneau détecté dans 00008_00006_00017.png, labelisé en speed_limit_unknown\n",
            " Aucun panneau détecté dans 00008_00011_00013.png, labelisé en speed_limit_unknown\n",
            " Aucun panneau détecté dans 00008_00002_00010.png, labelisé en speed_limit_unknown\n",
            " Aucun panneau détecté dans 00008_00006_00014.png, labelisé en speed_limit_unknown\n",
            " Aucun panneau détecté dans 00008_00002_00005.png, labelisé en speed_limit_unknown\n",
            " Aucun panneau détecté dans 00008_00006_00000.png, labelisé en speed_limit_unknown\n",
            " Aucun panneau détecté dans 00008_00011_00011.png, labelisé en speed_limit_unknown\n",
            " Aucun panneau détecté dans 00008_00002_00013.png, labelisé en speed_limit_unknown\n",
            " Aucun panneau détecté dans 00008_00011_00010.png, labelisé en speed_limit_unknown\n",
            " Aucun panneau détecté dans 00008_00006_00020.png, labelisé en speed_limit_unknown\n",
            " Aucun panneau détecté dans 00008_00003_00007.png, labelisé en speed_limit_unknown\n",
            " Aucun panneau détecté dans 00008_00002_00023.png, labelisé en speed_limit_unknown\n",
            " Aucun panneau détecté dans 00008_00006_00019.png, labelisé en speed_limit_unknown\n",
            " Aucun panneau détecté dans 00008_00011_00006.png, labelisé en speed_limit_unknown\n",
            " Aucun panneau détecté dans 00008_00002_00001.png, labelisé en speed_limit_unknown\n",
            " Aucun panneau détecté dans 00008_00002_00011.png, labelisé en speed_limit_unknown\n",
            " Aucun panneau détecté dans 00008_00002_00024.png, labelisé en speed_limit_unknown\n",
            " Aucun panneau détecté dans 00008_00007_00015.png, labelisé en speed_limit_unknown\n",
            " Aucun panneau détecté dans 00008_00011_00014.png, labelisé en speed_limit_unknown\n",
            " Aucun panneau détecté dans 00008_00008_00010.png, labelisé en speed_limit_unknown\n",
            " Aucun panneau détecté dans 00008_00007_00009.png, labelisé en speed_limit_unknown\n",
            " Aucun panneau détecté dans 00008_00006_00011.png, labelisé en speed_limit_unknown\n",
            " Aucun panneau détecté dans 00008_00007_00004.png, labelisé en speed_limit_unknown\n",
            " Aucun panneau détecté dans 00008_00006_00021.png, labelisé en speed_limit_unknown\n",
            " Aucun panneau détecté dans 00008_00002_00028.png, labelisé en speed_limit_unknown\n",
            " Aucun panneau détecté dans 00008_00003_00004.png, labelisé en speed_limit_unknown\n",
            " Aucun panneau détecté dans 00008_00007_00010.png, labelisé en speed_limit_unknown\n",
            " Aucun panneau détecté dans 00008_00002_00029.png, labelisé en speed_limit_unknown\n",
            "🔄 Génération de 8 augmentations pour Speed_limit_15kmh\n",
            " Aucun panneau détecté dans 00000_00003_00000.png, labelisé en speed_limit_unknown\n",
            " Aucun panneau détecté dans 00000_00000_00000.png, labelisé en speed_limit_unknown\n",
            " Aucun panneau détecté dans 00000_00000_00001.png, labelisé en speed_limit_unknown\n",
            " Aucun panneau détecté dans 00000_00000_00012.png, labelisé en speed_limit_unknown\n",
            " Aucun panneau détecté dans 00000_00002_00008.png, labelisé en speed_limit_unknown\n",
            " Aucun panneau détecté dans 00000_00003_00002.png, labelisé en speed_limit_unknown\n",
            " Aucun panneau détecté dans 00000_00002_00010.png, labelisé en speed_limit_unknown\n",
            " Aucun panneau détecté dans 00000_00001_00008.png, labelisé en speed_limit_unknown\n",
            " Aucun panneau détecté dans 00000_00003_00004.png, labelisé en speed_limit_unknown\n",
            " Aucun panneau détecté dans 00000_00001_00016.png, labelisé en speed_limit_unknown\n",
            " Aucun panneau détecté dans 00000_00000_00009.png, labelisé en speed_limit_unknown\n",
            " Aucun panneau détecté dans 00000_00001_00009.png, labelisé en speed_limit_unknown\n",
            " Aucun panneau détecté dans 00000_00001_00013.png, labelisé en speed_limit_unknown\n",
            " Aucun panneau détecté dans 00000_00000_00004.png, labelisé en speed_limit_unknown\n",
            " Aucun panneau détecté dans 00000_00000_00002.png, labelisé en speed_limit_unknown\n",
            " Aucun panneau détecté dans 00000_00003_00001.png, labelisé en speed_limit_unknown\n",
            " Aucun panneau détecté dans 00000_00001_00003.png, labelisé en speed_limit_unknown\n",
            " Aucun panneau détecté dans 00000_00002_00006.png, labelisé en speed_limit_unknown\n",
            " Aucun panneau détecté dans 00000_00001_00014.png, labelisé en speed_limit_unknown\n",
            " Aucun panneau détecté dans 00000_00001_00002.png, labelisé en speed_limit_unknown\n",
            " Aucun panneau détecté dans 00000_00000_00008.png, labelisé en speed_limit_unknown\n",
            " Aucun panneau détecté dans 00000_00001_00011.png, labelisé en speed_limit_unknown\n",
            " Aucun panneau détecté dans 00000_00002_00007.png, labelisé en speed_limit_unknown\n",
            " Aucun panneau détecté dans 00000_00003_00005.png, labelisé en speed_limit_unknown\n",
            " Aucun panneau détecté dans 00000_00000_00006.png, labelisé en speed_limit_unknown\n",
            " Aucun panneau détecté dans 00000_00001_00005.png, labelisé en speed_limit_unknown\n",
            " Aucun panneau détecté dans 00000_00001_00006.png, labelisé en speed_limit_unknown\n",
            " Aucun panneau détecté dans 00000_00002_00005.png, labelisé en speed_limit_unknown\n",
            " Aucun panneau détecté dans 00000_00001_00010.png, labelisé en speed_limit_unknown\n",
            " Aucun panneau détecté dans 00000_00002_00002.png, labelisé en speed_limit_unknown\n",
            " Aucun panneau détecté dans 00000_00001_00000.png, labelisé en speed_limit_unknown\n",
            " Aucun panneau détecté dans 00000_00002_00003.png, labelisé en speed_limit_unknown\n",
            " Aucun panneau détecté dans 00000_00000_00003.png, labelisé en speed_limit_unknown\n",
            " Aucun panneau détecté dans 00000_00001_00012.png, labelisé en speed_limit_unknown\n",
            " Aucun panneau détecté dans 00000_00001_00001.png, labelisé en speed_limit_unknown\n",
            " Aucun panneau détecté dans 00000_00000_00011.png, labelisé en speed_limit_unknown\n",
            " Aucun panneau détecté dans 00000_00001_00004.png, labelisé en speed_limit_unknown\n",
            " Aucun panneau détecté dans 00000_00002_00009.png, labelisé en speed_limit_unknown\n",
            " Aucun panneau détecté dans 00000_00002_00001.png, labelisé en speed_limit_unknown\n",
            " Aucun panneau détecté dans 00000_00000_00007.png, labelisé en speed_limit_unknown\n",
            " Aucun panneau détecté dans 00000_00002_00004.png, labelisé en speed_limit_unknown\n",
            " Aucun panneau détecté dans 00000_00000_00005.png, labelisé en speed_limit_unknown\n",
            " Aucun panneau détecté dans 00000_00000_00010.png, labelisé en speed_limit_unknown\n",
            " Aucun panneau détecté dans 00000_00002_00000.png, labelisé en speed_limit_unknown\n",
            " Aucun panneau détecté dans 00000_00001_00007.png, labelisé en speed_limit_unknown\n",
            " Aucun panneau détecté dans 00000_00003_00003.png, labelisé en speed_limit_unknown\n",
            " Aucun panneau détecté dans 00001_00003_00004.png, labelisé en speed_limit_unknown\n",
            " Aucun panneau détecté dans 00001_00003_00003.png, labelisé en speed_limit_unknown\n",
            " Aucun panneau détecté dans 00001_00003_00017.png, labelisé en speed_limit_unknown\n",
            " Aucun panneau détecté dans 00001_00001_00006.png, labelisé en speed_limit_unknown\n",
            " Aucun panneau détecté dans 00001_00003_00012.png, labelisé en speed_limit_unknown\n",
            " Aucun panneau détecté dans 00001_00001_00000.png, labelisé en speed_limit_unknown\n",
            " Aucun panneau détecté dans 00001_00001_00015.png, labelisé en speed_limit_unknown\n",
            " Aucun panneau détecté dans 00001_00001_00005.png, labelisé en speed_limit_unknown\n",
            " Aucun panneau détecté dans 00001_00005_00002.png, labelisé en speed_limit_unknown\n",
            " Aucun panneau détecté dans 00001_00001_00004.png, labelisé en speed_limit_unknown\n",
            " Aucun panneau détecté dans 00001_00001_00012.png, labelisé en speed_limit_unknown\n",
            " Aucun panneau détecté dans 00001_00001_00001.png, labelisé en speed_limit_unknown\n",
            " Aucun panneau détecté dans 00001_00003_00013.png, labelisé en speed_limit_unknown\n",
            " Aucun panneau détecté dans 00001_00004_00012.png, labelisé en speed_limit_unknown\n",
            " Aucun panneau détecté dans 00001_00003_00008.png, labelisé en speed_limit_unknown\n",
            " Aucun panneau détecté dans 00001_00004_00014.png, labelisé en speed_limit_unknown\n",
            " Aucun panneau détecté dans 00001_00003_00002.png, labelisé en speed_limit_unknown\n",
            " Aucun panneau détecté dans 00001_00001_00008.png, labelisé en speed_limit_unknown\n",
            " Aucun panneau détecté dans 00001_00003_00009.png, labelisé en speed_limit_unknown\n",
            " Aucun panneau détecté dans 00001_00001_00007.png, labelisé en speed_limit_unknown\n",
            " Aucun panneau détecté dans 00001_00003_00000.png, labelisé en speed_limit_unknown\n",
            " Aucun panneau détecté dans 00001_00003_00006.png, labelisé en speed_limit_unknown\n",
            " Aucun panneau détecté dans 00001_00001_00014.png, labelisé en speed_limit_unknown\n",
            " Aucun panneau détecté dans 00001_00001_00003.png, labelisé en speed_limit_unknown\n",
            " Aucun panneau détecté dans 00001_00003_00010.png, labelisé en speed_limit_unknown\n",
            " Aucun panneau détecté dans 00001_00005_00003.png, labelisé en speed_limit_unknown\n",
            " Aucun panneau détecté dans 00001_00003_00007.png, labelisé en speed_limit_unknown\n",
            " Aucun panneau détecté dans 00001_00001_00020.png, labelisé en speed_limit_unknown\n",
            " Aucun panneau détecté dans 00001_00003_00011.png, labelisé en speed_limit_unknown\n",
            " Aucun panneau détecté dans 00001_00001_00013.png, labelisé en speed_limit_unknown\n",
            " Aucun panneau détecté dans 00001_00003_00005.png, labelisé en speed_limit_unknown\n",
            " Aucun panneau détecté dans 00001_00005_00000.png, labelisé en speed_limit_unknown\n",
            " Aucun panneau détecté dans 00001_00003_00001.png, labelisé en speed_limit_unknown\n",
            " Aucun panneau détecté dans 00001_00001_00002.png, labelisé en speed_limit_unknown\n",
            " Aucun panneau détecté dans 00001_00001_00010.png, labelisé en speed_limit_unknown\n",
            " Aucun panneau détecté dans 00001_00001_00011.png, labelisé en speed_limit_unknown\n",
            " Aucun panneau détecté dans 00001_00005_00001.png, labelisé en speed_limit_unknown\n",
            " Aucun panneau détecté dans 00001_00001_00009.png, labelisé en speed_limit_unknown\n",
            " Aucun panneau détecté dans 00001_00014_00001.png, labelisé en speed_limit_unknown\n",
            " Aucun panneau détecté dans 00001_00012_00027.png, labelisé en speed_limit_unknown\n",
            " Aucun panneau détecté dans 00001_00009_00002.png, labelisé en speed_limit_unknown\n",
            " Aucun panneau détecté dans 00001_00010_00000.png, labelisé en speed_limit_unknown\n",
            " Aucun panneau détecté dans 00001_00014_00010.png, labelisé en speed_limit_unknown\n",
            " Aucun panneau détecté dans 00001_00010_00007.png, labelisé en speed_limit_unknown\n",
            " Aucun panneau détecté dans 00001_00010_00008.png, labelisé en speed_limit_unknown\n",
            " Aucun panneau détecté dans 00001_00014_00009.png, labelisé en speed_limit_unknown\n",
            " Aucun panneau détecté dans 00001_00014_00005.png, labelisé en speed_limit_unknown\n",
            " Aucun panneau détecté dans 00001_00014_00008.png, labelisé en speed_limit_unknown\n",
            " Aucun panneau détecté dans 00001_00010_00004.png, labelisé en speed_limit_unknown\n",
            " Aucun panneau détecté dans 00001_00012_00029.png, labelisé en speed_limit_unknown\n",
            " Aucun panneau détecté dans 00001_00014_00002.png, labelisé en speed_limit_unknown\n",
            " Aucun panneau détecté dans 00001_00010_00001.png, labelisé en speed_limit_unknown\n",
            " Aucun panneau détecté dans 00001_00014_00006.png, labelisé en speed_limit_unknown\n",
            " Aucun panneau détecté dans 00001_00010_00003.png, labelisé en speed_limit_unknown\n",
            " Aucun panneau détecté dans 00001_00012_00000.png, labelisé en speed_limit_unknown\n",
            " Aucun panneau détecté dans 00001_00009_00005.png, labelisé en speed_limit_unknown\n",
            " Aucun panneau détecté dans 00001_00010_00006.png, labelisé en speed_limit_unknown\n",
            " Aucun panneau détecté dans 00001_00012_00026.png, labelisé en speed_limit_unknown\n",
            " Aucun panneau détecté dans 00001_00012_00024.png, labelisé en speed_limit_unknown\n",
            " Aucun panneau détecté dans 00001_00009_00003.png, labelisé en speed_limit_unknown\n",
            " Aucun panneau détecté dans 00001_00010_00002.png, labelisé en speed_limit_unknown\n",
            " Aucun panneau détecté dans 00001_00014_00003.png, labelisé en speed_limit_unknown\n",
            " Aucun panneau détecté dans 00001_00010_00005.png, labelisé en speed_limit_unknown\n",
            " Aucun panneau détecté dans 00001_00009_00001.png, labelisé en speed_limit_unknown\n",
            " Aucun panneau détecté dans 00001_00009_00000.png, labelisé en speed_limit_unknown\n",
            " Aucun panneau détecté dans 00001_00012_00025.png, labelisé en speed_limit_unknown\n",
            " Aucun panneau détecté dans 00001_00014_00000.png, labelisé en speed_limit_unknown\n",
            " Aucun panneau détecté dans 00001_00014_00004.png, labelisé en speed_limit_unknown\n",
            " Aucun panneau détecté dans 00001_00012_00028.png, labelisé en speed_limit_unknown\n",
            " Aucun panneau détecté dans 00001_00014_00007.png, labelisé en speed_limit_unknown\n",
            " Aucun panneau détecté dans 00001_00009_00006.png, labelisé en speed_limit_unknown\n",
            " Aucun panneau détecté dans 00001_00012_00001.png, labelisé en speed_limit_unknown\n",
            " Aucun panneau détecté dans 00001_00009_00004.png, labelisé en speed_limit_unknown\n",
            " Aucun panneau détecté dans 00002_00002_00004.png, labelisé en speed_limit_unknown\n",
            " Aucun panneau détecté dans 00002_00000_00002.png, labelisé en speed_limit_unknown\n",
            " Aucun panneau détecté dans 00002_00001_00007.png, labelisé en speed_limit_unknown\n",
            " Aucun panneau détecté dans 00002_00002_00005.png, labelisé en speed_limit_unknown\n",
            " Aucun panneau détecté dans 00002_00001_00001.png, labelisé en speed_limit_unknown\n",
            " Aucun panneau détecté dans 00002_00001_00012.png, labelisé en speed_limit_unknown\n",
            " Aucun panneau détecté dans 00002_00000_00003.png, labelisé en speed_limit_unknown\n",
            " Aucun panneau détecté dans 00002_00000_00001.png, labelisé en speed_limit_unknown\n",
            " Aucun panneau détecté dans 00002_00000_00004.png, labelisé en speed_limit_unknown\n",
            " Aucun panneau détecté dans 00002_00001_00003.png, labelisé en speed_limit_unknown\n",
            " Aucun panneau détecté dans 00002_00002_00001.png, labelisé en speed_limit_unknown\n",
            " Aucun panneau détecté dans 00002_00001_00005.png, labelisé en speed_limit_unknown\n",
            " Aucun panneau détecté dans 00002_00001_00010.png, labelisé en speed_limit_unknown\n",
            " Aucun panneau détecté dans 00002_00001_00006.png, labelisé en speed_limit_unknown\n",
            " Aucun panneau détecté dans 00002_00001_00000.png, labelisé en speed_limit_unknown\n",
            " Aucun panneau détecté dans 00002_00001_00009.png, labelisé en speed_limit_unknown\n",
            " Aucun panneau détecté dans 00002_00001_00002.png, labelisé en speed_limit_unknown\n",
            " Aucun panneau détecté dans 00002_00001_00008.png, labelisé en speed_limit_unknown\n",
            " Aucun panneau détecté dans 00002_00001_00014.png, labelisé en speed_limit_unknown\n",
            " Aucun panneau détecté dans 00002_00000_00005.png, labelisé en speed_limit_unknown\n",
            " Aucun panneau détecté dans 00002_00000_00008.png, labelisé en speed_limit_unknown\n",
            " Aucun panneau détecté dans 00002_00001_00004.png, labelisé en speed_limit_unknown\n",
            " Aucun panneau détecté dans 00002_00000_00000.png, labelisé en speed_limit_unknown\n",
            " Aucun panneau détecté dans 00002_00000_00010.png, labelisé en speed_limit_unknown\n",
            " Aucun panneau détecté dans 00002_00001_00013.png, labelisé en speed_limit_unknown\n",
            " Aucun panneau détecté dans 00002_00000_00006.png, labelisé en speed_limit_unknown\n",
            " Aucun panneau détecté dans 00002_00002_00000.png, labelisé en speed_limit_unknown\n",
            " Aucun panneau détecté dans 00002_00000_00012.png, labelisé en speed_limit_unknown\n",
            " Aucun panneau détecté dans 00002_00000_00009.png, labelisé en speed_limit_unknown\n",
            " Aucun panneau détecté dans 00002_00002_00002.png, labelisé en speed_limit_unknown\n",
            " Aucun panneau détecté dans 00002_00002_00003.png, labelisé en speed_limit_unknown\n",
            " Aucun panneau détecté dans 00002_00000_00007.png, labelisé en speed_limit_unknown\n",
            " Aucun panneau détecté dans 00002_00001_00011.png, labelisé en speed_limit_unknown\n",
            " Aucun panneau détecté dans 00002_00025_00010.png, labelisé en speed_limit_unknown\n",
            " Aucun panneau détecté dans 00002_00025_00014.png, labelisé en speed_limit_unknown\n",
            " Aucun panneau détecté dans 00002_00025_00015.png, labelisé en speed_limit_unknown\n",
            " Aucun panneau détecté dans 00002_00030_00009.png, labelisé en speed_limit_unknown\n",
            " Aucun panneau détecté dans 00002_00025_00004.png, labelisé en speed_limit_unknown\n",
            " Aucun panneau détecté dans 00002_00028_00002.png, labelisé en speed_limit_unknown\n",
            " Aucun panneau détecté dans 00002_00025_00001.png, labelisé en speed_limit_unknown\n",
            " Aucun panneau détecté dans 00002_00024_00002.png, labelisé en speed_limit_unknown\n",
            " Aucun panneau détecté dans 00002_00026_00010.png, labelisé en speed_limit_unknown\n",
            " Aucun panneau détecté dans 00002_00032_00017.png, labelisé en speed_limit_unknown\n",
            " Aucun panneau détecté dans 00002_00026_00003.png, labelisé en speed_limit_unknown\n",
            " Aucun panneau détecté dans 00002_00031_00004.png, labelisé en speed_limit_unknown\n",
            " Aucun panneau détecté dans 00002_00032_00012.png, labelisé en speed_limit_unknown\n",
            " Aucun panneau détecté dans 00002_00032_00018.png, labelisé en speed_limit_unknown\n",
            " Aucun panneau détecté dans 00002_00029_00001.png, labelisé en speed_limit_unknown\n",
            " Aucun panneau détecté dans 00002_00031_00006.png, labelisé en speed_limit_unknown\n",
            " Aucun panneau détecté dans 00002_00031_00000.png, labelisé en speed_limit_unknown\n",
            " Aucun panneau détecté dans 00002_00031_00007.png, labelisé en speed_limit_unknown\n",
            " Aucun panneau détecté dans 00002_00028_00004.png, labelisé en speed_limit_unknown\n",
            " Aucun panneau détecté dans 00002_00027_00015.png, labelisé en speed_limit_unknown\n",
            " Aucun panneau détecté dans 00002_00026_00005.png, labelisé en speed_limit_unknown\n",
            " Aucun panneau détecté dans 00002_00025_00003.png, labelisé en speed_limit_unknown\n",
            " Aucun panneau détecté dans 00002_00026_00002.png, labelisé en speed_limit_unknown\n",
            " Aucun panneau détecté dans 00002_00032_00010.png, labelisé en speed_limit_unknown\n",
            " Aucun panneau détecté dans 00002_00027_00004.png, labelisé en speed_limit_unknown\n",
            " Aucun panneau détecté dans 00002_00030_00010.png, labelisé en speed_limit_unknown\n",
            " Aucun panneau détecté dans 00002_00024_00000.png, labelisé en speed_limit_unknown\n",
            " Aucun panneau détecté dans 00002_00025_00006.png, labelisé en speed_limit_unknown\n",
            " Aucun panneau détecté dans 00002_00032_00007.png, labelisé en speed_limit_unknown\n",
            " Aucun panneau détecté dans 00002_00027_00008.png, labelisé en speed_limit_unknown\n",
            " Aucun panneau détecté dans 00002_00025_00011.png, labelisé en speed_limit_unknown\n",
            " Aucun panneau détecté dans 00002_00030_00012.png, labelisé en speed_limit_unknown\n",
            " Aucun panneau détecté dans 00002_00032_00001.png, labelisé en speed_limit_unknown\n",
            " Aucun panneau détecté dans 00002_00023_00003.png, labelisé en speed_limit_unknown\n",
            " Aucun panneau détecté dans 00002_00031_00012.png, labelisé en speed_limit_unknown\n",
            " Aucun panneau détecté dans 00002_00032_00008.png, labelisé en speed_limit_unknown\n",
            " Aucun panneau détecté dans 00002_00032_00009.png, labelisé en speed_limit_unknown\n",
            " Aucun panneau détecté dans 00002_00030_00006.png, labelisé en speed_limit_unknown\n",
            " Aucun panneau détecté dans 00002_00028_00008.png, labelisé en speed_limit_unknown\n",
            " Aucun panneau détecté dans 00002_00023_00007.png, labelisé en speed_limit_unknown\n",
            " Aucun panneau détecté dans 00002_00027_00007.png, labelisé en speed_limit_unknown\n",
            " Aucun panneau détecté dans 00002_00032_00002.png, labelisé en speed_limit_unknown\n",
            " Aucun panneau détecté dans 00002_00027_00009.png, labelisé en speed_limit_unknown\n",
            " Aucun panneau détecté dans 00002_00025_00009.png, labelisé en speed_limit_unknown\n",
            " Aucun panneau détecté dans 00002_00023_00006.png, labelisé en speed_limit_unknown\n",
            " Aucun panneau détecté dans 00002_00025_00008.png, labelisé en speed_limit_unknown\n",
            " Aucun panneau détecté dans 00002_00031_00015.png, labelisé en speed_limit_unknown\n",
            " Aucun panneau détecté dans 00002_00030_00008.png, labelisé en speed_limit_unknown\n",
            " Aucun panneau détecté dans 00002_00028_00011.png, labelisé en speed_limit_unknown\n",
            " Aucun panneau détecté dans 00002_00025_00002.png, labelisé en speed_limit_unknown\n",
            " Aucun panneau détecté dans 00002_00028_00006.png, labelisé en speed_limit_unknown\n",
            " Aucun panneau détecté dans 00002_00027_00012.png, labelisé en speed_limit_unknown\n",
            " Aucun panneau détecté dans 00002_00029_00000.png, labelisé en speed_limit_unknown\n",
            " Aucun panneau détecté dans 00002_00025_00013.png, labelisé en speed_limit_unknown\n",
            " Aucun panneau détecté dans 00002_00031_00003.png, labelisé en speed_limit_unknown\n",
            " Aucun panneau détecté dans 00002_00032_00013.png, labelisé en speed_limit_unknown\n",
            " Aucun panneau détecté dans 00002_00026_00009.png, labelisé en speed_limit_unknown\n",
            " Aucun panneau détecté dans 00002_00030_00016.png, labelisé en speed_limit_unknown\n",
            " Aucun panneau détecté dans 00002_00026_00011.png, labelisé en speed_limit_unknown\n",
            " Aucun panneau détecté dans 00002_00026_00001.png, labelisé en speed_limit_unknown\n",
            " Aucun panneau détecté dans 00002_00027_00016.png, labelisé en speed_limit_unknown\n",
            " Aucun panneau détecté dans 00002_00032_00019.png, labelisé en speed_limit_unknown\n",
            " Aucun panneau détecté dans 00002_00023_00005.png, labelisé en speed_limit_unknown\n",
            " Aucun panneau détecté dans 00002_00023_00004.png, labelisé en speed_limit_unknown\n",
            " Aucun panneau détecté dans 00002_00031_00010.png, labelisé en speed_limit_unknown\n",
            " Aucun panneau détecté dans 00002_00028_00003.png, labelisé en speed_limit_unknown\n",
            " Aucun panneau détecté dans 00002_00027_00000.png, labelisé en speed_limit_unknown\n",
            " Aucun panneau détecté dans 00002_00027_00005.png, labelisé en speed_limit_unknown\n",
            " Aucun panneau détecté dans 00002_00032_00000.png, labelisé en speed_limit_unknown\n",
            " Aucun panneau détecté dans 00002_00026_00006.png, labelisé en speed_limit_unknown\n",
            " Aucun panneau détecté dans 00002_00024_00003.png, labelisé en speed_limit_unknown\n",
            " Aucun panneau détecté dans 00002_00030_00000.png, labelisé en speed_limit_unknown\n",
            " Aucun panneau détecté dans 00002_00027_00002.png, labelisé en speed_limit_unknown\n",
            " Aucun panneau détecté dans 00002_00027_00013.png, labelisé en speed_limit_unknown\n",
            " Aucun panneau détecté dans 00002_00030_00001.png, labelisé en speed_limit_unknown\n",
            " Aucun panneau détecté dans 00002_00032_00015.png, labelisé en speed_limit_unknown\n",
            " Aucun panneau détecté dans 00002_00028_00000.png, labelisé en speed_limit_unknown\n",
            " Aucun panneau détecté dans 00002_00028_00005.png, labelisé en speed_limit_unknown\n",
            " Aucun panneau détecté dans 00002_00025_00012.png, labelisé en speed_limit_unknown\n",
            " Aucun panneau détecté dans 00002_00030_00007.png, labelisé en speed_limit_unknown\n",
            " Aucun panneau détecté dans 00002_00030_00013.png, labelisé en speed_limit_unknown\n",
            " Aucun panneau détecté dans 00002_00024_00001.png, labelisé en speed_limit_unknown\n",
            " Aucun panneau détecté dans 00002_00032_00003.png, labelisé en speed_limit_unknown\n",
            " Aucun panneau détecté dans 00002_00024_00004.png, labelisé en speed_limit_unknown\n",
            " Aucun panneau détecté dans 00002_00032_00004.png, labelisé en speed_limit_unknown\n",
            " Aucun panneau détecté dans 00002_00026_00004.png, labelisé en speed_limit_unknown\n",
            " Aucun panneau détecté dans 00002_00030_00003.png, labelisé en speed_limit_unknown\n",
            " Aucun panneau détecté dans 00002_00026_00007.png, labelisé en speed_limit_unknown\n",
            " Aucun panneau détecté dans 00002_00031_00014.png, labelisé en speed_limit_unknown\n",
            " Aucun panneau détecté dans 00002_00027_00006.png, labelisé en speed_limit_unknown\n",
            " Aucun panneau détecté dans 00002_00027_00011.png, labelisé en speed_limit_unknown\n",
            " Aucun panneau détecté dans 00002_00030_00002.png, labelisé en speed_limit_unknown\n",
            " Aucun panneau détecté dans 00002_00032_00005.png, labelisé en speed_limit_unknown\n",
            " Aucun panneau détecté dans 00002_00029_00007.png, labelisé en speed_limit_unknown\n",
            " Aucun panneau détecté dans 00002_00031_00001.png, labelisé en speed_limit_unknown\n",
            " Aucun panneau détecté dans 00002_00025_00000.png, labelisé en speed_limit_unknown\n",
            " Aucun panneau détecté dans 00002_00031_00005.png, labelisé en speed_limit_unknown\n",
            " Aucun panneau détecté dans 00002_00032_00014.png, labelisé en speed_limit_unknown\n",
            " Aucun panneau détecté dans 00002_00028_00001.png, labelisé en speed_limit_unknown\n",
            " Aucun panneau détecté dans 00002_00027_00001.png, labelisé en speed_limit_unknown\n",
            " Aucun panneau détecté dans 00002_00026_00000.png, labelisé en speed_limit_unknown\n",
            " Aucun panneau détecté dans 00002_00031_00009.png, labelisé en speed_limit_unknown\n",
            " Aucun panneau détecté dans 00002_00030_00004.png, labelisé en speed_limit_unknown\n",
            " Aucun panneau détecté dans 00002_00032_00016.png, labelisé en speed_limit_unknown\n",
            " Aucun panneau détecté dans 00002_00027_00010.png, labelisé en speed_limit_unknown\n",
            " Aucun panneau détecté dans 00002_00027_00003.png, labelisé en speed_limit_unknown\n",
            " Aucun panneau détecté dans 00002_00032_00011.png, labelisé en speed_limit_unknown\n",
            " Aucun panneau détecté dans 00002_00029_00005.png, labelisé en speed_limit_unknown\n",
            " Aucun panneau détecté dans 00002_00032_00006.png, labelisé en speed_limit_unknown\n",
            " Aucun panneau détecté dans 00002_00031_00008.png, labelisé en speed_limit_unknown\n",
            " Aucun panneau détecté dans 00002_00031_00002.png, labelisé en speed_limit_unknown\n",
            " Aucun panneau détecté dans 00002_00031_00018.png, labelisé en speed_limit_unknown\n",
            " Aucun panneau détecté dans 00002_00025_00007.png, labelisé en speed_limit_unknown\n",
            " Aucun panneau détecté dans 00002_00031_00011.png, labelisé en speed_limit_unknown\n",
            " Aucun panneau détecté dans 00002_00025_00005.png, labelisé en speed_limit_unknown\n",
            " Aucun panneau détecté dans 00002_00027_00014.png, labelisé en speed_limit_unknown\n",
            " Aucun panneau détecté dans 00002_00029_00004.png, labelisé en speed_limit_unknown\n",
            " Aucun panneau détecté dans 00002_00028_00007.png, labelisé en speed_limit_unknown\n",
            " Aucun panneau détecté dans 00002_00030_00005.png, labelisé en speed_limit_unknown\n",
            " Aucun panneau détecté dans 00002_00030_00011.png, labelisé en speed_limit_unknown\n",
            " Aucun panneau détecté dans 00002_00030_00015.png, labelisé en speed_limit_unknown\n",
            " Aucun panneau détecté dans 00003_00001_00010.png, labelisé en speed_limit_unknown\n",
            " Aucun panneau détecté dans 00003_00009_00008.png, labelisé en speed_limit_unknown\n",
            " Aucun panneau détecté dans 00003_00002_00010.png, labelisé en speed_limit_unknown\n",
            " Aucun panneau détecté dans 00003_00001_00012.png, labelisé en speed_limit_unknown\n",
            " Aucun panneau détecté dans 00003_00002_00001.png, labelisé en speed_limit_unknown\n",
            " Aucun panneau détecté dans 00003_00007_00000.png, labelisé en speed_limit_unknown\n",
            " Aucun panneau détecté dans 00003_00004_00014.png, labelisé en speed_limit_unknown\n",
            " Aucun panneau détecté dans 00003_00007_00004.png, labelisé en speed_limit_unknown\n",
            " Aucun panneau détecté dans 00003_00007_00008.png, labelisé en speed_limit_unknown\n",
            " Aucun panneau détecté dans 00003_00000_00007.png, labelisé en speed_limit_unknown\n",
            " Aucun panneau détecté dans 00003_00002_00007.png, labelisé en speed_limit_unknown\n",
            " Aucun panneau détecté dans 00003_00001_00002.png, labelisé en speed_limit_unknown\n",
            " Aucun panneau détecté dans 00003_00003_00008.png, labelisé en speed_limit_unknown\n",
            " Aucun panneau détecté dans 00003_00001_00008.png, labelisé en speed_limit_unknown\n",
            " Aucun panneau détecté dans 00003_00001_00013.png, labelisé en speed_limit_unknown\n",
            " Aucun panneau détecté dans 00003_00003_00007.png, labelisé en speed_limit_unknown\n",
            " Aucun panneau détecté dans 00003_00004_00011.png, labelisé en speed_limit_unknown\n",
            " Aucun panneau détecté dans 00003_00007_00017.png, labelisé en speed_limit_unknown\n",
            " Aucun panneau détecté dans 00003_00009_00004.png, labelisé en speed_limit_unknown\n",
            " Aucun panneau détecté dans 00003_00004_00005.png, labelisé en speed_limit_unknown\n",
            " Aucun panneau détecté dans 00003_00004_00004.png, labelisé en speed_limit_unknown\n",
            " Aucun panneau détecté dans 00003_00001_00018.png, labelisé en speed_limit_unknown\n",
            " Aucun panneau détecté dans 00003_00005_00007.png, labelisé en speed_limit_unknown\n",
            " Aucun panneau détecté dans 00003_00002_00011.png, labelisé en speed_limit_unknown\n",
            " Aucun panneau détecté dans 00003_00010_00005.png, labelisé en speed_limit_unknown\n",
            " Aucun panneau détecté dans 00003_00003_00006.png, labelisé en speed_limit_unknown\n",
            " Aucun panneau détecté dans 00003_00000_00013.png, labelisé en speed_limit_unknown\n",
            " Aucun panneau détecté dans 00003_00005_00001.png, labelisé en speed_limit_unknown\n",
            " Aucun panneau détecté dans 00003_00002_00008.png, labelisé en speed_limit_unknown\n",
            " Aucun panneau détecté dans 00003_00010_00010.png, labelisé en speed_limit_unknown\n",
            " Aucun panneau détecté dans 00003_00004_00002.png, labelisé en speed_limit_unknown\n",
            " Aucun panneau détecté dans 00003_00010_00007.png, labelisé en speed_limit_unknown\n",
            " Aucun panneau détecté dans 00003_00004_00003.png, labelisé en speed_limit_unknown\n",
            " Aucun panneau détecté dans 00003_00007_00007.png, labelisé en speed_limit_unknown\n",
            " Aucun panneau détecté dans 00003_00010_00012.png, labelisé en speed_limit_unknown\n",
            " Aucun panneau détecté dans 00003_00000_00000.png, labelisé en speed_limit_unknown\n",
            " Aucun panneau détecté dans 00003_00007_00014.png, labelisé en speed_limit_unknown\n",
            " Aucun panneau détecté dans 00003_00001_00015.png, labelisé en speed_limit_unknown\n",
            " Aucun panneau détecté dans 00003_00000_00014.png, labelisé en speed_limit_unknown\n",
            " Aucun panneau détecté dans 00003_00003_00003.png, labelisé en speed_limit_unknown\n",
            " Aucun panneau détecté dans 00003_00009_00007.png, labelisé en speed_limit_unknown\n",
            " Aucun panneau détecté dans 00003_00000_00012.png, labelisé en speed_limit_unknown\n",
            " Aucun panneau détecté dans 00003_00007_00012.png, labelisé en speed_limit_unknown\n",
            " Aucun panneau détecté dans 00003_00004_00010.png, labelisé en speed_limit_unknown\n",
            " Aucun panneau détecté dans 00003_00002_00003.png, labelisé en speed_limit_unknown\n",
            " Aucun panneau détecté dans 00003_00005_00005.png, labelisé en speed_limit_unknown\n",
            " Aucun panneau détecté dans 00003_00005_00010.png, labelisé en speed_limit_unknown\n",
            " Aucun panneau détecté dans 00003_00001_00014.png, labelisé en speed_limit_unknown\n",
            " Aucun panneau détecté dans 00003_00002_00012.png, labelisé en speed_limit_unknown\n",
            " Aucun panneau détecté dans 00003_00010_00000.png, labelisé en speed_limit_unknown\n",
            " Aucun panneau détecté dans 00003_00008_00006.png, labelisé en speed_limit_unknown\n",
            " Aucun panneau détecté dans 00003_00007_00010.png, labelisé en speed_limit_unknown\n",
            " Aucun panneau détecté dans 00003_00004_00006.png, labelisé en speed_limit_unknown\n",
            " Aucun panneau détecté dans 00003_00009_00005.png, labelisé en speed_limit_unknown\n",
            " Aucun panneau détecté dans 00003_00001_00007.png, labelisé en speed_limit_unknown\n",
            " Aucun panneau détecté dans 00003_00003_00012.png, labelisé en speed_limit_unknown\n",
            " Aucun panneau détecté dans 00003_00009_00009.png, labelisé en speed_limit_unknown\n",
            " Aucun panneau détecté dans 00003_00002_00000.png, labelisé en speed_limit_unknown\n",
            " Aucun panneau détecté dans 00003_00003_00010.png, labelisé en speed_limit_unknown\n",
            " Aucun panneau détecté dans 00003_00000_00003.png, labelisé en speed_limit_unknown\n",
            " Aucun panneau détecté dans 00003_00009_00010.png, labelisé en speed_limit_unknown\n",
            " Aucun panneau détecté dans 00003_00004_00008.png, labelisé en speed_limit_unknown\n",
            " Aucun panneau détecté dans 00003_00001_00016.png, labelisé en speed_limit_unknown\n",
            " Aucun panneau détecté dans 00003_00002_00013.png, labelisé en speed_limit_unknown\n",
            " Aucun panneau détecté dans 00003_00009_00003.png, labelisé en speed_limit_unknown\n",
            " Aucun panneau détecté dans 00003_00000_00002.png, labelisé en speed_limit_unknown\n",
            " Aucun panneau détecté dans 00003_00007_00005.png, labelisé en speed_limit_unknown\n",
            " Aucun panneau détecté dans 00003_00009_00002.png, labelisé en speed_limit_unknown\n",
            " Aucun panneau détecté dans 00003_00005_00008.png, labelisé en speed_limit_unknown\n",
            " Aucun panneau détecté dans 00003_00010_00011.png, labelisé en speed_limit_unknown\n",
            " Aucun panneau détecté dans 00003_00010_00001.png, labelisé en speed_limit_unknown\n",
            " Aucun panneau détecté dans 00003_00003_00002.png, labelisé en speed_limit_unknown\n",
            " Aucun panneau détecté dans 00003_00008_00004.png, labelisé en speed_limit_unknown\n",
            " Aucun panneau détecté dans 00003_00004_00009.png, labelisé en speed_limit_unknown\n",
            " Aucun panneau détecté dans 00003_00010_00002.png, labelisé en speed_limit_unknown\n",
            " Aucun panneau détecté dans 00003_00001_00000.png, labelisé en speed_limit_unknown\n",
            " Aucun panneau détecté dans 00003_00001_00001.png, labelisé en speed_limit_unknown\n",
            " Aucun panneau détecté dans 00003_00004_00012.png, labelisé en speed_limit_unknown\n",
            " Aucun panneau détecté dans 00003_00003_00004.png, labelisé en speed_limit_unknown\n",
            " Aucun panneau détecté dans 00003_00000_00010.png, labelisé en speed_limit_unknown\n",
            " Aucun panneau détecté dans 00003_00001_00004.png, labelisé en speed_limit_unknown\n",
            " Aucun panneau détecté dans 00003_00009_00013.png, labelisé en speed_limit_unknown\n",
            " Aucun panneau détecté dans 00003_00008_00003.png, labelisé en speed_limit_unknown\n",
            " Aucun panneau détecté dans 00003_00000_00008.png, labelisé en speed_limit_unknown\n",
            " Aucun panneau détecté dans 00003_00010_00004.png, labelisé en speed_limit_unknown\n",
            " Aucun panneau détecté dans 00003_00009_00016.png, labelisé en speed_limit_unknown\n",
            " Aucun panneau détecté dans 00003_00007_00009.png, labelisé en speed_limit_unknown\n",
            " Aucun panneau détecté dans 00003_00010_00009.png, labelisé en speed_limit_unknown\n",
            " Aucun panneau détecté dans 00003_00001_00003.png, labelisé en speed_limit_unknown\n",
            " Aucun panneau détecté dans 00003_00009_00006.png, labelisé en speed_limit_unknown\n",
            " Aucun panneau détecté dans 00003_00001_00017.png, labelisé en speed_limit_unknown\n",
            " Aucun panneau détecté dans 00003_00005_00003.png, labelisé en speed_limit_unknown\n",
            " Aucun panneau détecté dans 00003_00001_00011.png, labelisé en speed_limit_unknown\n",
            " Aucun panneau détecté dans 00003_00009_00015.png, labelisé en speed_limit_unknown\n",
            " Aucun panneau détecté dans 00003_00000_00005.png, labelisé en speed_limit_unknown\n",
            " Aucun panneau détecté dans 00003_00005_00004.png, labelisé en speed_limit_unknown\n",
            " Aucun panneau détecté dans 00003_00003_00000.png, labelisé en speed_limit_unknown\n",
            " Aucun panneau détecté dans 00003_00003_00009.png, labelisé en speed_limit_unknown\n",
            " Aucun panneau détecté dans 00003_00005_00006.png, labelisé en speed_limit_unknown\n",
            " Aucun panneau détecté dans 00003_00007_00011.png, labelisé en speed_limit_unknown\n",
            " Aucun panneau détecté dans 00003_00007_00002.png, labelisé en speed_limit_unknown\n",
            " Aucun panneau détecté dans 00003_00007_00003.png, labelisé en speed_limit_unknown\n",
            " Aucun panneau détecté dans 00003_00008_00000.png, labelisé en speed_limit_unknown\n",
            " Aucun panneau détecté dans 00003_00009_00001.png, labelisé en speed_limit_unknown\n",
            " Aucun panneau détecté dans 00003_00002_00004.png, labelisé en speed_limit_unknown\n",
            " Aucun panneau détecté dans 00003_00007_00015.png, labelisé en speed_limit_unknown\n",
            " Aucun panneau détecté dans 00003_00010_00013.png, labelisé en speed_limit_unknown\n",
            " Aucun panneau détecté dans 00003_00005_00009.png, labelisé en speed_limit_unknown\n",
            " Aucun panneau détecté dans 00003_00005_00012.png, labelisé en speed_limit_unknown\n",
            " Aucun panneau détecté dans 00003_00005_00011.png, labelisé en speed_limit_unknown\n",
            " Aucun panneau détecté dans 00003_00008_00005.png, labelisé en speed_limit_unknown\n",
            " Aucun panneau détecté dans 00003_00004_00001.png, labelisé en speed_limit_unknown\n",
            " Aucun panneau détecté dans 00003_00008_00002.png, labelisé en speed_limit_unknown\n",
            " Aucun panneau détecté dans 00003_00001_00005.png, labelisé en speed_limit_unknown\n",
            " Aucun panneau détecté dans 00003_00002_00002.png, labelisé en speed_limit_unknown\n",
            " Aucun panneau détecté dans 00003_00004_00013.png, labelisé en speed_limit_unknown\n",
            " Aucun panneau détecté dans 00003_00003_00005.png, labelisé en speed_limit_unknown\n",
            " Aucun panneau détecté dans 00003_00004_00000.png, labelisé en speed_limit_unknown\n",
            " Aucun panneau détecté dans 00003_00000_00009.png, labelisé en speed_limit_unknown\n",
            " Aucun panneau détecté dans 00003_00010_00008.png, labelisé en speed_limit_unknown\n",
            " Aucun panneau détecté dans 00003_00000_00004.png, labelisé en speed_limit_unknown\n",
            " Aucun panneau détecté dans 00003_00000_00011.png, labelisé en speed_limit_unknown\n",
            " Aucun panneau détecté dans 00003_00002_00009.png, labelisé en speed_limit_unknown\n",
            " Aucun panneau détecté dans 00003_00002_00005.png, labelisé en speed_limit_unknown\n",
            " Aucun panneau détecté dans 00003_00000_00001.png, labelisé en speed_limit_unknown\n",
            " Aucun panneau détecté dans 00003_00003_00001.png, labelisé en speed_limit_unknown\n",
            " Aucun panneau détecté dans 00003_00007_00001.png, labelisé en speed_limit_unknown\n",
            " Aucun panneau détecté dans 00003_00007_00006.png, labelisé en speed_limit_unknown\n",
            " Aucun panneau détecté dans 00003_00008_00001.png, labelisé en speed_limit_unknown\n",
            " Aucun panneau détecté dans 00003_00009_00012.png, labelisé en speed_limit_unknown\n",
            " Aucun panneau détecté dans 00003_00000_00006.png, labelisé en speed_limit_unknown\n",
            " Aucun panneau détecté dans 00003_00005_00000.png, labelisé en speed_limit_unknown\n",
            " Aucun panneau détecté dans 00003_00010_00006.png, labelisé en speed_limit_unknown\n",
            " Aucun panneau détecté dans 00003_00010_00003.png, labelisé en speed_limit_unknown\n",
            " Aucun panneau détecté dans 00003_00007_00013.png, labelisé en speed_limit_unknown\n",
            " Aucun panneau détecté dans 00003_00001_00006.png, labelisé en speed_limit_unknown\n",
            " Aucun panneau détecté dans 00003_00009_00000.png, labelisé en speed_limit_unknown\n",
            " Aucun panneau détecté dans 00003_00001_00009.png, labelisé en speed_limit_unknown\n",
            " Aucun panneau détecté dans 00003_00005_00013.png, labelisé en speed_limit_unknown\n",
            " Aucun panneau détecté dans 00003_00004_00007.png, labelisé en speed_limit_unknown\n",
            " Aucun panneau détecté dans 00003_00005_00002.png, labelisé en speed_limit_unknown\n",
            " Aucun panneau détecté dans 00004_00008_00006.png, labelisé en speed_limit_unknown\n",
            " Aucun panneau détecté dans 00004_00007_00002.png, labelisé en speed_limit_unknown\n",
            " Aucun panneau détecté dans 00004_00002_00004.png, labelisé en speed_limit_unknown\n",
            " Aucun panneau détecté dans 00004_00008_00013.png, labelisé en speed_limit_unknown\n",
            " Aucun panneau détecté dans 00004_00011_00002.png, labelisé en speed_limit_unknown\n",
            " Aucun panneau détecté dans 00004_00011_00001.png, labelisé en speed_limit_unknown\n",
            " Aucun panneau détecté dans 00004_00007_00005.png, labelisé en speed_limit_unknown\n",
            " Aucun panneau détecté dans 00004_00007_00003.png, labelisé en speed_limit_unknown\n",
            " Aucun panneau détecté dans 00004_00009_00007.png, labelisé en speed_limit_unknown\n",
            " Aucun panneau détecté dans 00004_00006_00005.png, labelisé en speed_limit_unknown\n",
            " Aucun panneau détecté dans 00004_00010_00004.png, labelisé en speed_limit_unknown\n",
            " Aucun panneau détecté dans 00004_00006_00003.png, labelisé en speed_limit_unknown\n",
            " Aucun panneau détecté dans 00004_00008_00007.png, labelisé en speed_limit_unknown\n",
            " Aucun panneau détecté dans 00004_00002_00005.png, labelisé en speed_limit_unknown\n",
            " Aucun panneau détecté dans 00004_00009_00001.png, labelisé en speed_limit_unknown\n",
            " Aucun panneau détecté dans 00004_00008_00015.png, labelisé en speed_limit_unknown\n",
            " Aucun panneau détecté dans 00004_00002_00003.png, labelisé en speed_limit_unknown\n",
            " Aucun panneau détecté dans 00004_00011_00000.png, labelisé en speed_limit_unknown\n",
            " Aucun panneau détecté dans 00004_00003_00009.png, labelisé en speed_limit_unknown\n",
            " Aucun panneau détecté dans 00004_00002_00001.png, labelisé en speed_limit_unknown\n",
            " Aucun panneau détecté dans 00004_00007_00007.png, labelisé en speed_limit_unknown\n",
            " Aucun panneau détecté dans 00004_00010_00008.png, labelisé en speed_limit_unknown\n",
            " Aucun panneau détecté dans 00004_00002_00000.png, labelisé en speed_limit_unknown\n",
            " Aucun panneau détecté dans 00004_00007_00001.png, labelisé en speed_limit_unknown\n",
            " Aucun panneau détecté dans 00004_00009_00006.png, labelisé en speed_limit_unknown\n",
            " Aucun panneau détecté dans 00004_00009_00005.png, labelisé en speed_limit_unknown\n",
            " Aucun panneau détecté dans 00004_00002_00006.png, labelisé en speed_limit_unknown\n",
            " Aucun panneau détecté dans 00004_00008_00012.png, labelisé en speed_limit_unknown\n",
            " Aucun panneau détecté dans 00004_00010_00006.png, labelisé en speed_limit_unknown\n",
            " Aucun panneau détecté dans 00004_00008_00004.png, labelisé en speed_limit_unknown\n",
            " Aucun panneau détecté dans 00004_00010_00001.png, labelisé en speed_limit_unknown\n",
            " Aucun panneau détecté dans 00004_00007_00006.png, labelisé en speed_limit_unknown\n",
            " Aucun panneau détecté dans 00004_00003_00007.png, labelisé en speed_limit_unknown\n",
            " Aucun panneau détecté dans 00004_00003_00014.png, labelisé en speed_limit_unknown\n",
            " Aucun panneau détecté dans 00004_00003_00008.png, labelisé en speed_limit_unknown\n",
            " Aucun panneau détecté dans 00004_00002_00002.png, labelisé en speed_limit_unknown\n",
            " Aucun panneau détecté dans 00004_00010_00005.png, labelisé en speed_limit_unknown\n",
            " Aucun panneau détecté dans 00004_00008_00014.png, labelisé en speed_limit_unknown\n",
            " Aucun panneau détecté dans 00004_00003_00010.png, labelisé en speed_limit_unknown\n",
            " Aucun panneau détecté dans 00004_00010_00010.png, labelisé en speed_limit_unknown\n",
            " Aucun panneau détecté dans 00004_00003_00000.png, labelisé en speed_limit_unknown\n",
            " Aucun panneau détecté dans 00004_00003_00017.png, labelisé en speed_limit_unknown\n",
            " Aucun panneau détecté dans 00004_00010_00002.png, labelisé en speed_limit_unknown\n",
            " Aucun panneau détecté dans 00004_00008_00005.png, labelisé en speed_limit_unknown\n",
            " Aucun panneau détecté dans 00004_00010_00003.png, labelisé en speed_limit_unknown\n",
            " Aucun panneau détecté dans 00004_00008_00008.png, labelisé en speed_limit_unknown\n",
            " Aucun panneau détecté dans 00004_00008_00010.png, labelisé en speed_limit_unknown\n",
            " Aucun panneau détecté dans 00004_00003_00012.png, labelisé en speed_limit_unknown\n",
            " Aucun panneau détecté dans 00004_00009_00004.png, labelisé en speed_limit_unknown\n",
            " Aucun panneau détecté dans 00004_00003_00001.png, labelisé en speed_limit_unknown\n",
            " Aucun panneau détecté dans 00004_00003_00011.png, labelisé en speed_limit_unknown\n",
            " Aucun panneau détecté dans 00004_00010_00000.png, labelisé en speed_limit_unknown\n",
            " Aucun panneau détecté dans 00004_00010_00012.png, labelisé en speed_limit_unknown\n",
            " Aucun panneau détecté dans 00004_00003_00013.png, labelisé en speed_limit_unknown\n",
            " Aucun panneau détecté dans 00004_00006_00009.png, labelisé en speed_limit_unknown\n",
            " Aucun panneau détecté dans 00004_00007_00009.png, labelisé en speed_limit_unknown\n",
            " Aucun panneau détecté dans 00004_00009_00003.png, labelisé en speed_limit_unknown\n",
            " Aucun panneau détecté dans 00004_00010_00007.png, labelisé en speed_limit_unknown\n",
            " Aucun panneau détecté dans 00004_00011_00004.png, labelisé en speed_limit_unknown\n",
            " Aucun panneau détecté dans 00004_00006_00002.png, labelisé en speed_limit_unknown\n",
            " Aucun panneau détecté dans 00004_00008_00003.png, labelisé en speed_limit_unknown\n",
            " Aucun panneau détecté dans 00004_00007_00008.png, labelisé en speed_limit_unknown\n",
            " Aucun panneau détecté dans 00004_00003_00018.png, labelisé en speed_limit_unknown\n",
            " Aucun panneau détecté dans 00004_00007_00004.png, labelisé en speed_limit_unknown\n",
            " Aucun panneau détecté dans 00004_00009_00002.png, labelisé en speed_limit_unknown\n",
            " Aucun panneau détecté dans 00004_00008_00009.png, labelisé en speed_limit_unknown\n",
            " Aucun panneau détecté dans 00004_00011_00003.png, labelisé en speed_limit_unknown\n",
            " Aucun panneau détecté dans 00004_00003_00016.png, labelisé en speed_limit_unknown\n",
            " Aucun panneau détecté dans 00004_00007_00000.png, labelisé en speed_limit_unknown\n",
            " Aucun panneau détecté dans 00004_00003_00003.png, labelisé en speed_limit_unknown\n",
            " Aucun panneau détecté dans 00004_00008_00002.png, labelisé en speed_limit_unknown\n",
            " Aucun panneau détecté dans 00004_00011_00005.png, labelisé en speed_limit_unknown\n",
            " Aucun panneau détecté dans 00004_00003_00015.png, labelisé en speed_limit_unknown\n",
            " Aucun panneau détecté dans 00004_00010_00009.png, labelisé en speed_limit_unknown\n",
            " Aucun panneau détecté dans 00004_00003_00020.png, labelisé en speed_limit_unknown\n",
            " Aucun panneau détecté dans 00004_00006_00001.png, labelisé en speed_limit_unknown\n",
            " Aucun panneau détecté dans 00004_00003_00005.png, labelisé en speed_limit_unknown\n",
            " Aucun panneau détecté dans 00004_00006_00007.png, labelisé en speed_limit_unknown\n",
            " Aucun panneau détecté dans 00004_00006_00006.png, labelisé en speed_limit_unknown\n",
            " Aucun panneau détecté dans 00004_00003_00006.png, labelisé en speed_limit_unknown\n",
            " Aucun panneau détecté dans 00004_00006_00008.png, labelisé en speed_limit_unknown\n",
            " Aucun panneau détecté dans 00004_00003_00002.png, labelisé en speed_limit_unknown\n",
            " Aucun panneau détecté dans 00004_00006_00004.png, labelisé en speed_limit_unknown\n",
            " Aucun panneau détecté dans 00004_00006_00000.png, labelisé en speed_limit_unknown\n",
            " Aucun panneau détecté dans 00004_00003_00004.png, labelisé en speed_limit_unknown\n",
            " Aucun panneau détecté dans 00004_00009_00000.png, labelisé en speed_limit_unknown\n",
            " Aucun panneau détecté dans 00004_00008_00011.png, labelisé en speed_limit_unknown\n",
            " Aucun panneau détecté dans 00004_00060_00008.png, labelisé en speed_limit_unknown\n",
            " Aucun panneau détecté dans 00004_00014_00009.png, labelisé en speed_limit_unknown\n",
            " Aucun panneau détecté dans 00004_00014_00011.png, labelisé en speed_limit_unknown\n",
            " Aucun panneau détecté dans 00004_00016_00000.png, labelisé en speed_limit_unknown\n",
            " Aucun panneau détecté dans 00004_00014_00014.png, labelisé en speed_limit_unknown\n",
            " Aucun panneau détecté dans 00004_00060_00014.png, labelisé en speed_limit_unknown\n",
            " Aucun panneau détecté dans 00004_00060_00012.png, labelisé en speed_limit_unknown\n",
            " Aucun panneau détecté dans 00004_00060_00003.png, labelisé en speed_limit_unknown\n",
            " Aucun panneau détecté dans 00004_00011_00012.png, labelisé en speed_limit_unknown\n",
            " Aucun panneau détecté dans 00004_00014_00017.png, labelisé en speed_limit_unknown\n",
            " Aucun panneau détecté dans 00004_00016_00002.png, labelisé en speed_limit_unknown\n",
            " Aucun panneau détecté dans 00004_00060_00013.png, labelisé en speed_limit_unknown\n",
            " Aucun panneau détecté dans 00004_00016_00003.png, labelisé en speed_limit_unknown\n",
            " Aucun panneau détecté dans 00004_00011_00010.png, labelisé en speed_limit_unknown\n",
            " Aucun panneau détecté dans 00004_00011_00014.png, labelisé en speed_limit_unknown\n",
            " Aucun panneau détecté dans 00004_00016_00001.png, labelisé en speed_limit_unknown\n",
            " Aucun panneau détecté dans 00004_00060_00006.png, labelisé en speed_limit_unknown\n",
            " Aucun panneau détecté dans 00004_00060_00009.png, labelisé en speed_limit_unknown\n",
            " Aucun panneau détecté dans 00004_00011_00008.png, labelisé en speed_limit_unknown\n",
            " Aucun panneau détecté dans 00004_00014_00010.png, labelisé en speed_limit_unknown\n",
            " Aucun panneau détecté dans 00004_00011_00006.png, labelisé en speed_limit_unknown\n",
            " Aucun panneau détecté dans 00004_00060_00000.png, labelisé en speed_limit_unknown\n",
            " Aucun panneau détecté dans 00004_00060_00001.png, labelisé en speed_limit_unknown\n",
            " Aucun panneau détecté dans 00004_00014_00013.png, labelisé en speed_limit_unknown\n",
            " Aucun panneau détecté dans 00004_00011_00007.png, labelisé en speed_limit_unknown\n",
            " Aucun panneau détecté dans 00004_00060_00011.png, labelisé en speed_limit_unknown\n",
            " Aucun panneau détecté dans 00004_00011_00011.png, labelisé en speed_limit_unknown\n",
            " Aucun panneau détecté dans 00004_00014_00015.png, labelisé en speed_limit_unknown\n",
            " Aucun panneau détecté dans 00004_00060_00010.png, labelisé en speed_limit_unknown\n",
            " Aucun panneau détecté dans 00004_00060_00002.png, labelisé en speed_limit_unknown\n",
            " Aucun panneau détecté dans 00004_00060_00005.png, labelisé en speed_limit_unknown\n",
            " Aucun panneau détecté dans 00004_00060_00004.png, labelisé en speed_limit_unknown\n",
            " Aucun panneau détecté dans 00004_00060_00007.png, labelisé en speed_limit_unknown\n",
            " Aucun panneau détecté dans 00004_00014_00012.png, labelisé en speed_limit_unknown\n",
            " Aucun panneau détecté dans 00005_00005_00013.png, labelisé en speed_limit_unknown\n",
            " Aucun panneau détecté dans 00005_00001_00000.png, labelisé en speed_limit_unknown\n",
            " Aucun panneau détecté dans 00005_00006_00003.png, labelisé en speed_limit_unknown\n",
            " Aucun panneau détecté dans 00005_00001_00004.png, labelisé en speed_limit_unknown\n",
            " Aucun panneau détecté dans 00005_00001_00001.png, labelisé en speed_limit_unknown\n",
            " Aucun panneau détecté dans 00005_00005_00009.png, labelisé en speed_limit_unknown\n",
            " Aucun panneau détecté dans 00005_00002_00009.png, labelisé en speed_limit_unknown\n",
            " Aucun panneau détecté dans 00005_00000_00010.png, labelisé en speed_limit_unknown\n",
            " Aucun panneau détecté dans 00005_00001_00008.png, labelisé en speed_limit_unknown\n",
            " Aucun panneau détecté dans 00005_00003_00005.png, labelisé en speed_limit_unknown\n",
            " Aucun panneau détecté dans 00005_00006_00004.png, labelisé en speed_limit_unknown\n",
            " Aucun panneau détecté dans 00005_00005_00006.png, labelisé en speed_limit_unknown\n",
            " Aucun panneau détecté dans 00005_00004_00015.png, labelisé en speed_limit_unknown\n",
            " Aucun panneau détecté dans 00005_00005_00004.png, labelisé en speed_limit_unknown\n",
            " Aucun panneau détecté dans 00005_00006_00006.png, labelisé en speed_limit_unknown\n",
            " Aucun panneau détecté dans 00005_00001_00003.png, labelisé en speed_limit_unknown\n",
            " Aucun panneau détecté dans 00005_00000_00002.png, labelisé en speed_limit_unknown\n",
            " Aucun panneau détecté dans 00005_00006_00001.png, labelisé en speed_limit_unknown\n",
            " Aucun panneau détecté dans 00005_00005_00000.png, labelisé en speed_limit_unknown\n",
            " Aucun panneau détecté dans 00005_00006_00012.png, labelisé en speed_limit_unknown\n",
            " Aucun panneau détecté dans 00005_00004_00010.png, labelisé en speed_limit_unknown\n",
            " Aucun panneau détecté dans 00005_00004_00011.png, labelisé en speed_limit_unknown\n",
            " Aucun panneau détecté dans 00005_00000_00005.png, labelisé en speed_limit_unknown\n",
            " Aucun panneau détecté dans 00005_00003_00003.png, labelisé en speed_limit_unknown\n",
            " Aucun panneau détecté dans 00005_00003_00009.png, labelisé en speed_limit_unknown\n",
            " Aucun panneau détecté dans 00005_00006_00010.png, labelisé en speed_limit_unknown\n",
            " Aucun panneau détecté dans 00005_00000_00011.png, labelisé en speed_limit_unknown\n",
            " Aucun panneau détecté dans 00005_00004_00005.png, labelisé en speed_limit_unknown\n",
            " Aucun panneau détecté dans 00005_00003_00000.png, labelisé en speed_limit_unknown\n",
            " Aucun panneau détecté dans 00005_00006_00002.png, labelisé en speed_limit_unknown\n",
            " Aucun panneau détecté dans 00005_00004_00006.png, labelisé en speed_limit_unknown\n",
            " Aucun panneau détecté dans 00005_00005_00001.png, labelisé en speed_limit_unknown\n",
            " Aucun panneau détecté dans 00005_00003_00002.png, labelisé en speed_limit_unknown\n",
            " Aucun panneau détecté dans 00005_00000_00000.png, labelisé en speed_limit_unknown\n",
            " Aucun panneau détecté dans 00005_00000_00001.png, labelisé en speed_limit_unknown\n",
            " Aucun panneau détecté dans 00005_00002_00014.png, labelisé en speed_limit_unknown\n",
            " Aucun panneau détecté dans 00005_00002_00006.png, labelisé en speed_limit_unknown\n",
            " Aucun panneau détecté dans 00005_00005_00010.png, labelisé en speed_limit_unknown\n",
            " Aucun panneau détecté dans 00005_00000_00006.png, labelisé en speed_limit_unknown\n",
            " Aucun panneau détecté dans 00005_00001_00010.png, labelisé en speed_limit_unknown\n",
            " Aucun panneau détecté dans 00005_00001_00006.png, labelisé en speed_limit_unknown\n",
            " Aucun panneau détecté dans 00005_00002_00008.png, labelisé en speed_limit_unknown\n",
            " Aucun panneau détecté dans 00005_00000_00008.png, labelisé en speed_limit_unknown\n",
            " Aucun panneau détecté dans 00005_00000_00009.png, labelisé en speed_limit_unknown\n",
            " Aucun panneau détecté dans 00005_00005_00003.png, labelisé en speed_limit_unknown\n",
            " Aucun panneau détecté dans 00005_00001_00009.png, labelisé en speed_limit_unknown\n",
            " Aucun panneau détecté dans 00005_00005_00002.png, labelisé en speed_limit_unknown\n",
            " Aucun panneau détecté dans 00005_00004_00002.png, labelisé en speed_limit_unknown\n",
            " Aucun panneau détecté dans 00005_00002_00002.png, labelisé en speed_limit_unknown\n",
            " Aucun panneau détecté dans 00005_00000_00004.png, labelisé en speed_limit_unknown\n",
            " Aucun panneau détecté dans 00005_00000_00007.png, labelisé en speed_limit_unknown\n",
            " Aucun panneau détecté dans 00005_00002_00001.png, labelisé en speed_limit_unknown\n",
            " Aucun panneau détecté dans 00005_00003_00007.png, labelisé en speed_limit_unknown\n",
            " Aucun panneau détecté dans 00005_00004_00000.png, labelisé en speed_limit_unknown\n",
            " Aucun panneau détecté dans 00005_00006_00007.png, labelisé en speed_limit_unknown\n",
            " Aucun panneau détecté dans 00005_00003_00004.png, labelisé en speed_limit_unknown\n",
            " Aucun panneau détecté dans 00005_00002_00005.png, labelisé en speed_limit_unknown\n",
            " Aucun panneau détecté dans 00005_00005_00007.png, labelisé en speed_limit_unknown\n",
            " Aucun panneau détecté dans 00005_00003_00008.png, labelisé en speed_limit_unknown\n",
            " Aucun panneau détecté dans 00005_00006_00011.png, labelisé en speed_limit_unknown\n",
            " Aucun panneau détecté dans 00005_00004_00009.png, labelisé en speed_limit_unknown\n",
            " Aucun panneau détecté dans 00005_00005_00012.png, labelisé en speed_limit_unknown\n",
            " Aucun panneau détecté dans 00005_00004_00008.png, labelisé en speed_limit_unknown\n",
            " Aucun panneau détecté dans 00005_00001_00002.png, labelisé en speed_limit_unknown\n",
            " Aucun panneau détecté dans 00005_00006_00000.png, labelisé en speed_limit_unknown\n",
            " Aucun panneau détecté dans 00005_00006_00009.png, labelisé en speed_limit_unknown\n",
            " Aucun panneau détecté dans 00005_00001_00005.png, labelisé en speed_limit_unknown\n",
            " Aucun panneau détecté dans 00005_00001_00014.png, labelisé en speed_limit_unknown\n",
            " Aucun panneau détecté dans 00005_00004_00003.png, labelisé en speed_limit_unknown\n",
            " Aucun panneau détecté dans 00005_00005_00005.png, labelisé en speed_limit_unknown\n",
            " Aucun panneau détecté dans 00005_00002_00007.png, labelisé en speed_limit_unknown\n",
            " Aucun panneau détecté dans 00005_00002_00003.png, labelisé en speed_limit_unknown\n",
            " Aucun panneau détecté dans 00005_00004_00001.png, labelisé en speed_limit_unknown\n",
            " Aucun panneau détecté dans 00005_00002_00011.png, labelisé en speed_limit_unknown\n",
            " Aucun panneau détecté dans 00005_00005_00008.png, labelisé en speed_limit_unknown\n",
            " Aucun panneau détecté dans 00005_00004_00004.png, labelisé en speed_limit_unknown\n",
            " Aucun panneau détecté dans 00005_00005_00014.png, labelisé en speed_limit_unknown\n",
            " Aucun panneau détecté dans 00005_00002_00010.png, labelisé en speed_limit_unknown\n",
            " Aucun panneau détecté dans 00005_00003_00006.png, labelisé en speed_limit_unknown\n",
            " Aucun panneau détecté dans 00005_00001_00007.png, labelisé en speed_limit_unknown\n",
            " Aucun panneau détecté dans 00005_00004_00007.png, labelisé en speed_limit_unknown\n",
            " Aucun panneau détecté dans 00005_00000_00003.png, labelisé en speed_limit_unknown\n",
            " Aucun panneau détecté dans 00005_00002_00000.png, labelisé en speed_limit_unknown\n",
            " Aucun panneau détecté dans 00005_00003_00001.png, labelisé en speed_limit_unknown\n",
            " Aucun panneau détecté dans 00005_00001_00013.png, labelisé en speed_limit_unknown\n",
            " Aucun panneau détecté dans 00005_00002_00004.png, labelisé en speed_limit_unknown\n",
            " Aucun panneau détecté dans 00005_00001_00011.png, labelisé en speed_limit_unknown\n",
            " Aucun panneau détecté dans 00005_00060_00021.png, labelisé en speed_limit_unknown\n",
            " Aucun panneau détecté dans 00005_00056_00009.png, labelisé en speed_limit_unknown\n",
            " Aucun panneau détecté dans 00005_00061_00010.png, labelisé en speed_limit_unknown\n",
            " Aucun panneau détecté dans 00005_00056_00012.png, labelisé en speed_limit_unknown\n",
            " Aucun panneau détecté dans 00005_00057_00002.png, labelisé en speed_limit_unknown\n",
            " Aucun panneau détecté dans 00005_00057_00000.png, labelisé en speed_limit_unknown\n",
            " Aucun panneau détecté dans 00005_00057_00010.png, labelisé en speed_limit_unknown\n",
            " Aucun panneau détecté dans 00005_00055_00012.png, labelisé en speed_limit_unknown\n",
            " Aucun panneau détecté dans 00005_00060_00009.png, labelisé en speed_limit_unknown\n",
            " Aucun panneau détecté dans 00005_00056_00011.png, labelisé en speed_limit_unknown\n",
            " Aucun panneau détecté dans 00005_00060_00019.png, labelisé en speed_limit_unknown\n",
            " Aucun panneau détecté dans 00005_00060_00016.png, labelisé en speed_limit_unknown\n",
            " Aucun panneau détecté dans 00005_00055_00024.png, labelisé en speed_limit_unknown\n",
            " Aucun panneau détecté dans 00005_00056_00002.png, labelisé en speed_limit_unknown\n",
            " Aucun panneau détecté dans 00005_00057_00008.png, labelisé en speed_limit_unknown\n",
            " Aucun panneau détecté dans 00005_00061_00013.png, labelisé en speed_limit_unknown\n",
            " Aucun panneau détecté dans 00005_00060_00007.png, labelisé en speed_limit_unknown\n",
            " Aucun panneau détecté dans 00005_00060_00020.png, labelisé en speed_limit_unknown\n",
            " Aucun panneau détecté dans 00005_00061_00012.png, labelisé en speed_limit_unknown\n",
            " Aucun panneau détecté dans 00005_00055_00016.png, labelisé en speed_limit_unknown\n",
            " Aucun panneau détecté dans 00005_00061_00005.png, labelisé en speed_limit_unknown\n",
            " Aucun panneau détecté dans 00005_00060_00015.png, labelisé en speed_limit_unknown\n",
            " Aucun panneau détecté dans 00005_00056_00006.png, labelisé en speed_limit_unknown\n",
            " Aucun panneau détecté dans 00005_00055_00021.png, labelisé en speed_limit_unknown\n",
            " Aucun panneau détecté dans 00005_00055_00022.png, labelisé en speed_limit_unknown\n",
            " Aucun panneau détecté dans 00005_00056_00015.png, labelisé en speed_limit_unknown\n",
            " Aucun panneau détecté dans 00005_00057_00005.png, labelisé en speed_limit_unknown\n",
            " Aucun panneau détecté dans 00005_00055_00015.png, labelisé en speed_limit_unknown\n",
            " Aucun panneau détecté dans 00005_00056_00010.png, labelisé en speed_limit_unknown\n",
            " Aucun panneau détecté dans 00005_00057_00009.png, labelisé en speed_limit_unknown\n",
            " Aucun panneau détecté dans 00005_00060_00011.png, labelisé en speed_limit_unknown\n",
            " Aucun panneau détecté dans 00005_00061_00015.png, labelisé en speed_limit_unknown\n",
            " Aucun panneau détecté dans 00005_00060_00004.png, labelisé en speed_limit_unknown\n",
            " Aucun panneau détecté dans 00005_00060_00002.png, labelisé en speed_limit_unknown\n",
            " Aucun panneau détecté dans 00005_00056_00013.png, labelisé en speed_limit_unknown\n",
            " Aucun panneau détecté dans 00005_00057_00004.png, labelisé en speed_limit_unknown\n",
            " Aucun panneau détecté dans 00005_00061_00006.png, labelisé en speed_limit_unknown\n",
            " Aucun panneau détecté dans 00005_00055_00019.png, labelisé en speed_limit_unknown\n",
            " Aucun panneau détecté dans 00005_00055_00025.png, labelisé en speed_limit_unknown\n",
            " Aucun panneau détecté dans 00005_00060_00000.png, labelisé en speed_limit_unknown\n",
            " Aucun panneau détecté dans 00005_00061_00011.png, labelisé en speed_limit_unknown\n",
            " Aucun panneau détecté dans 00005_00061_00007.png, labelisé en speed_limit_unknown\n",
            " Aucun panneau détecté dans 00005_00060_00014.png, labelisé en speed_limit_unknown\n",
            " Aucun panneau détecté dans 00005_00060_00013.png, labelisé en speed_limit_unknown\n",
            " Aucun panneau détecté dans 00005_00060_00006.png, labelisé en speed_limit_unknown\n",
            " Aucun panneau détecté dans 00005_00055_00026.png, labelisé en speed_limit_unknown\n",
            " Aucun panneau détecté dans 00005_00055_00011.png, labelisé en speed_limit_unknown\n",
            " Aucun panneau détecté dans 00005_00061_00003.png, labelisé en speed_limit_unknown\n",
            " Aucun panneau détecté dans 00005_00060_00001.png, labelisé en speed_limit_unknown\n",
            " Aucun panneau détecté dans 00005_00061_00004.png, labelisé en speed_limit_unknown\n",
            " Aucun panneau détecté dans 00005_00060_00022.png, labelisé en speed_limit_unknown\n",
            " Aucun panneau détecté dans 00005_00056_00003.png, labelisé en speed_limit_unknown\n",
            " Aucun panneau détecté dans 00005_00061_00000.png, labelisé en speed_limit_unknown\n",
            " Aucun panneau détecté dans 00005_00060_00005.png, labelisé en speed_limit_unknown\n",
            " Aucun panneau détecté dans 00005_00055_00017.png, labelisé en speed_limit_unknown\n",
            " Aucun panneau détecté dans 00005_00056_00004.png, labelisé en speed_limit_unknown\n",
            " Aucun panneau détecté dans 00005_00057_00001.png, labelisé en speed_limit_unknown\n",
            " Aucun panneau détecté dans 00005_00061_00008.png, labelisé en speed_limit_unknown\n",
            " Aucun panneau détecté dans 00005_00057_00003.png, labelisé en speed_limit_unknown\n",
            " Aucun panneau détecté dans 00005_00060_00012.png, labelisé en speed_limit_unknown\n",
            " Aucun panneau détecté dans 00005_00055_00018.png, labelisé en speed_limit_unknown\n",
            " Aucun panneau détecté dans 00005_00061_00001.png, labelisé en speed_limit_unknown\n",
            " Aucun panneau détecté dans 00005_00056_00000.png, labelisé en speed_limit_unknown\n",
            " Aucun panneau détecté dans 00005_00060_00003.png, labelisé en speed_limit_unknown\n",
            " Aucun panneau détecté dans 00005_00055_00014.png, labelisé en speed_limit_unknown\n",
            " Aucun panneau détecté dans 00005_00061_00016.png, labelisé en speed_limit_unknown\n",
            " Aucun panneau détecté dans 00005_00055_00013.png, labelisé en speed_limit_unknown\n",
            " Aucun panneau détecté dans 00005_00056_00005.png, labelisé en speed_limit_unknown\n",
            " Aucun panneau détecté dans 00005_00060_00018.png, labelisé en speed_limit_unknown\n",
            " Aucun panneau détecté dans 00005_00061_00009.png, labelisé en speed_limit_unknown\n",
            " Aucun panneau détecté dans 00005_00056_00007.png, labelisé en speed_limit_unknown\n",
            " Aucun panneau détecté dans 00005_00055_00027.png, labelisé en speed_limit_unknown\n",
            " Aucun panneau détecté dans 00005_00056_00008.png, labelisé en speed_limit_unknown\n",
            " Aucun panneau détecté dans 00005_00061_00017.png, labelisé en speed_limit_unknown\n",
            " Aucun panneau détecté dans 00005_00055_00028.png, labelisé en speed_limit_unknown\n",
            " Aucun panneau détecté dans 00005_00055_00029.png, labelisé en speed_limit_unknown\n",
            " Aucun panneau détecté dans 00005_00056_00001.png, labelisé en speed_limit_unknown\n",
            " Aucun panneau détecté dans 00005_00055_00020.png, labelisé en speed_limit_unknown\n",
            " Aucun panneau détecté dans 00005_00061_00002.png, labelisé en speed_limit_unknown\n",
            " Aucun panneau détecté dans 00005_00057_00006.png, labelisé en speed_limit_unknown\n",
            " Aucun panneau détecté dans 00005_00060_00008.png, labelisé en speed_limit_unknown\n",
            " Aucun panneau détecté dans 00005_00060_00017.png, labelisé en speed_limit_unknown\n",
            " Aucun panneau détecté dans 00005_00060_00010.png, labelisé en speed_limit_unknown\n",
            " Aucun panneau détecté dans 00005_00061_00014.png, labelisé en speed_limit_unknown\n",
            " Aucun panneau détecté dans 00005_00057_00007.png, labelisé en speed_limit_unknown\n",
            "🔄 Génération de 20 augmentations pour Speed_limit_90kmh\n"
          ]
        }
      ]
    },
    {
      "cell_type": "markdown",
      "source": [
        "## ex1"
      ],
      "metadata": {
        "id": "R944XhRm0PfV"
      }
    },
    {
      "cell_type": "code",
      "source": [
        "import os\n",
        "import shutil\n",
        "import yaml\n",
        "import cv2\n",
        "import numpy as np\n",
        "from sklearn.model_selection import train_test_split\n",
        "from collections import Counter\n",
        "import imgaug.augmenters as iaa\n",
        "from imgaug.augmentables.bbs import BoundingBox, BoundingBoxesOnImage\n",
        "\n",
        "def augment_image(image, bbox):\n",
        "    \"\"\"Applique data augmentation à une image et ajuste les bounding boxes\"\"\"\n",
        "    augmenter = iaa.Sequential([\n",
        "        iaa.Affine(rotate=(-10, 10)),\n",
        "        iaa.AddToBrightness((-30, 30)),\n",
        "        iaa.GaussianBlur(sigma=(0, 0.5)),\n",
        "        iaa.Multiply((0.8, 1.2))\n",
        "    ])\n",
        "\n",
        "    # Convertir bbox YOLO en format (x1, y1, x2, y2)\n",
        "    h, w = image.shape[:2]\n",
        "    x_center, y_center, width, height = bbox\n",
        "    x1 = int((x_center - width/2) * w)\n",
        "    y1 = int((y_center - height/2) * h)\n",
        "    x2 = int((x_center + width/2) * w)\n",
        "    y2 = int((y_center + height/2) * h)\n",
        "\n",
        "    # Créer un objet BoundingBoxesOnImage\n",
        "    bbs = BoundingBoxesOnImage([\n",
        "        BoundingBox(x1=x1, y1=y1, x2=x2, y2=y2)\n",
        "    ], shape=image.shape)\n",
        "\n",
        "    # Appliquer l'augmentation\n",
        "    image_aug, bbs_aug = augmenter(image=image, bounding_boxes=bbs)\n",
        "\n",
        "    # Récupérer la bbox augmentée\n",
        "    bb_aug = bbs_aug.bounding_boxes[0]\n",
        "\n",
        "    # Reconvertir en format YOLO\n",
        "    x_center = (bb_aug.x1 + bb_aug.x2) / (2 * w)\n",
        "    y_center = (bb_aug.y1 + bb_aug.y2) / (2 * h)\n",
        "    width = (bb_aug.x2 - bb_aug.x1) / w\n",
        "    height = (bb_aug.y2 - bb_aug.y1) / h\n",
        "\n",
        "    # S'assurer que les coordonnées sont dans les limites [0, 1]\n",
        "    x_center = np.clip(x_center, 0, 1)\n",
        "    y_center = np.clip(y_center, 0, 1)\n",
        "    width = np.clip(width, 0, 1)\n",
        "    height = np.clip(height, 0, 1)\n",
        "\n",
        "    return image_aug, [x_center, y_center, width, height]\n",
        "\n",
        "def prepare_dataset(source_dir, output_dir, min_samples_per_class=100):\n",
        "    \"\"\"Prépare le dataset avec équilibrage des classes\"\"\"\n",
        "    # 1. Création des dossiers\n",
        "    images_dir = os.path.join(output_dir, \"images\")\n",
        "    labels_dir = os.path.join(output_dir, \"labels\")\n",
        "    os.makedirs(images_dir, exist_ok=True)\n",
        "    os.makedirs(labels_dir, exist_ok=True)\n",
        "\n",
        "    # 2. Mapping des classes\n",
        "    class_folders = sorted([f for f in os.listdir(source_dir)\n",
        "                          if os.path.isdir(os.path.join(source_dir, f))])\n",
        "    class_map = {folder: idx for idx, folder in enumerate(class_folders)}\n",
        "\n",
        "    print(\"✅ Mapping des classes :\")\n",
        "    for name, idx in class_map.items():\n",
        "        print(f\"{idx}: {name}\")\n",
        "\n",
        "    # 3. Copie et augmentation des données\n",
        "    class_counts = Counter()\n",
        "\n",
        "    for class_name, class_id in class_map.items():\n",
        "        class_path = os.path.join(source_dir, class_name)\n",
        "        if not os.path.isdir(class_path):\n",
        "            continue\n",
        "\n",
        "        print(f\"\\nTraitement de la classe {class_name} (ID: {class_id})\")\n",
        "\n",
        "        # Copier les images originales\n",
        "        images = [f for f in os.listdir(class_path)\n",
        "                 if f.lower().endswith(('.jpg', '.png', '.jpeg'))]\n",
        "\n",
        "        if not images:\n",
        "            print(f\"⚠️ Aucune image trouvée pour la classe {class_name}\")\n",
        "            continue\n",
        "\n",
        "        for img_name in images:\n",
        "            src_img_path = os.path.join(class_path, img_name)\n",
        "            dst_img_name = f\"{class_name}_{img_name}\"\n",
        "            dst_img_path = os.path.join(images_dir, dst_img_name)\n",
        "            dst_lbl_path = os.path.join(labels_dir, os.path.splitext(dst_img_name)[0] + \".txt\")\n",
        "\n",
        "            try:\n",
        "                shutil.copyfile(src_img_path, dst_img_path)\n",
        "\n",
        "                # Créer l'annotation\n",
        "                with open(dst_lbl_path, 'w') as f:\n",
        "                    f.write(f\"{class_id} 0.5 0.5 0.3 0.3\\n\")\n",
        "\n",
        "                class_counts[class_id] += 1\n",
        "            except Exception as e:\n",
        "                print(f\"⚠️ Erreur lors du traitement de {img_name}: {str(e)}\")\n",
        "\n",
        "        # Augmentation des données si nécessaire\n",
        "        if class_counts[class_id] < min_samples_per_class:\n",
        "            needed = min_samples_per_class - class_counts[class_id]\n",
        "            print(f\"Augmentation de {needed} images pour la classe {class_name}\")\n",
        "\n",
        "            for i in range(needed):\n",
        "                try:\n",
        "                    # Sélectionner une image aléatoire de la classe\n",
        "                    src_img = np.random.choice(images)\n",
        "                    src_img_path = os.path.join(class_path, src_img)\n",
        "\n",
        "                    # Lire l'image\n",
        "                    image = cv2.imread(src_img_path)\n",
        "                    if image is None:\n",
        "                        print(f\"⚠️ Impossible de lire l'image {src_img}\")\n",
        "                        continue\n",
        "\n",
        "                    # Augmenter l'image\n",
        "                    aug_image, aug_bbox = augment_image(image, [0.5, 0.5, 0.3, 0.3])\n",
        "\n",
        "                    # Sauvegarder l'image augmentée\n",
        "                    aug_name = f\"{class_name}_aug_{i}_{src_img}\"\n",
        "                    cv2.imwrite(os.path.join(images_dir, aug_name), aug_image)\n",
        "\n",
        "                    # Sauvegarder l'annotation\n",
        "                    with open(os.path.join(labels_dir, f\"{os.path.splitext(aug_name)[0]}.txt\"), 'w') as f:\n",
        "                        f.write(f\"{class_id} {aug_bbox[0]:.6f} {aug_bbox[1]:.6f} {aug_bbox[2]:.6f} {aug_bbox[3]:.6f}\\n\")\n",
        "\n",
        "                    class_counts[class_id] += 1\n",
        "                except Exception as e:\n",
        "                    print(f\"⚠️ Erreur lors de l'augmentation: {str(e)}\")\n",
        "                    continue\n",
        "\n",
        "    # 4. Split stratifié train/val\n",
        "    all_images = []\n",
        "    for img_name in os.listdir(images_dir):\n",
        "        try:\n",
        "            label_path = os.path.join(labels_dir, os.path.splitext(img_name)[0] + '.txt')\n",
        "            if os.path.exists(label_path):\n",
        "                with open(label_path) as f:\n",
        "                    class_id = int(f.readline().split()[0])\n",
        "                    all_images.append((img_name, class_id))\n",
        "        except Exception as e:\n",
        "            print(f\"⚠️ Erreur lors de la lecture du label pour {img_name}: {str(e)}\")\n",
        "\n",
        "    if not all_images:\n",
        "        raise ValueError(\"Aucune image valide trouvée pour le split train/val\")\n",
        "\n",
        "    X = [img[0] for img in all_images]\n",
        "    y = [img[1] for img in all_images]\n",
        "\n",
        "    train_imgs, val_imgs, train_labels, val_labels = train_test_split(\n",
        "        X, y, test_size=0.2, random_state=42, stratify=y\n",
        "    )\n",
        "\n",
        "    # 5. Création structure train/val\n",
        "    for split in ['train', 'val']:\n",
        "        for folder in ['images', 'labels']:\n",
        "            os.makedirs(os.path.join(output_dir, split, folder), exist_ok=True)\n",
        "\n",
        "    # 6. Distribution des fichiers\n",
        "    for img, split_name in [(img, 'train') for img in train_imgs] + [(img, 'val') for img in val_imgs]:\n",
        "        try:\n",
        "            label = os.path.splitext(img)[0] + \".txt\"\n",
        "            shutil.copy(os.path.join(images_dir, img),\n",
        "                       os.path.join(output_dir, split_name, \"images\", img))\n",
        "            shutil.copy(os.path.join(labels_dir, label),\n",
        "                       os.path.join(output_dir, split_name, \"labels\", label))\n",
        "        except Exception as e:\n",
        "            print(f\"⚠️ Erreur lors de la copie de {img}: {str(e)}\")\n",
        "\n",
        "    # 7. Création dataset.yaml\n",
        "    dataset_yaml = {\n",
        "        'path': output_dir,\n",
        "        'train': 'train/images',\n",
        "        'val': 'val/images',\n",
        "        'nc': len(class_map),\n",
        "        'names': class_folders\n",
        "    }\n",
        "\n",
        "    yaml_path = os.path.join(output_dir, 'dataset.yaml')\n",
        "    with open(yaml_path, 'w') as f:\n",
        "        yaml.dump(dataset_yaml, f, sort_keys=False)\n",
        "\n",
        "    # 8. Afficher les statistiques finales\n",
        "    print(\"\\n📊 Distribution finale des classes:\")\n",
        "    for split in ['train', 'val']:\n",
        "        print(f\"\\nEnsemble {split}:\")\n",
        "        split_counts = Counter()\n",
        "        labels_path = os.path.join(output_dir, split, 'labels')\n",
        "        for label_file in os.listdir(labels_path):\n",
        "            try:\n",
        "                with open(os.path.join(labels_path, label_file)) as f:\n",
        "                    class_id = int(f.readline().split()[0])\n",
        "                    split_counts[class_id] += 1\n",
        "            except Exception as e:\n",
        "                print(f\"⚠️ Erreur lors de la lecture du label {label_file}: {str(e)}\")\n",
        "\n",
        "        for class_id in sorted(split_counts.keys()):\n",
        "            print(f\"Classe {class_id} ({class_folders[class_id]}): {split_counts[class_id]} exemples\")\n",
        "\n",
        "    print(f\"\\n✅ Dataset préparé avec succès!\")\n",
        "    print(f\"✅ Fichier YAML créé: {yaml_path}\")\n",
        "\n",
        "if __name__ == \"__main__\":\n",
        "    # Configuration\n",
        "    source_dir = \"/content/drive/MyDrive/sli1/database\"\n",
        "    output_dir = \"/content/drive/MyDrive/sli1/Faissal\"\n",
        "    min_samples = 100  # Nombre minimum d'échantillons par classe\n",
        "\n",
        "    # Préparation du dataset\n",
        "    prepare_dataset(source_dir, output_dir, min_samples)"
      ],
      "metadata": {
        "colab": {
          "base_uri": "https://localhost:8080/"
        },
        "id": "JGFtGMmw-ehj",
        "outputId": "07de6d32-f6fa-40b6-ea9c-8938abd1c6c6"
      },
      "execution_count": null,
      "outputs": [
        {
          "output_type": "stream",
          "name": "stdout",
          "text": [
            "✅ Mapping des classes :\n",
            "0: End_speed_limit_80\n",
            "1: End_speed_passing_limits\n",
            "2: Road_works-sli_100Kmh\n",
            "3: Road_works-sli_20Kmh\n",
            "4: Road_works-sli_30Kmh\n",
            "5: Road_works-sli_40Kmh\n",
            "6: Road_works-sli_50Kmh\n",
            "7: Road_works-sli_60Kmh\n",
            "8: Road_works-sli_70Kmh\n",
            "9: Road_works-sli_80Kmh\n",
            "10: Road_works-sli_90Kmh\n",
            "11: Speed_limit_100kmh\n",
            "12: Speed_limit_110kmh\n",
            "13: Speed_limit_120kmh\n",
            "14: Speed_limit_15kmh\n",
            "15: Speed_limit_20kmh\n",
            "16: Speed_limit_30kmh\n",
            "17: Speed_limit_40kmh\n",
            "18: Speed_limit_50kmh\n",
            "19: Speed_limit_5kmh\n",
            "20: Speed_limit_60kmh\n",
            "21: Speed_limit_70kmh\n",
            "22: Speed_limit_80kmh\n",
            "23: Speed_limit_90kmh\n",
            "\n",
            "Traitement de la classe End_speed_limit_80 (ID: 0)\n",
            "\n",
            "Traitement de la classe End_speed_passing_limits (ID: 1)\n",
            "\n",
            "Traitement de la classe Road_works-sli_100Kmh (ID: 2)\n",
            "Augmentation de 98 images pour la classe Road_works-sli_100Kmh\n",
            "\n",
            "Traitement de la classe Road_works-sli_20Kmh (ID: 3)\n",
            "Augmentation de 94 images pour la classe Road_works-sli_20Kmh\n",
            "\n",
            "Traitement de la classe Road_works-sli_30Kmh (ID: 4)\n",
            "Augmentation de 97 images pour la classe Road_works-sli_30Kmh\n",
            "\n",
            "Traitement de la classe Road_works-sli_40Kmh (ID: 5)\n",
            "Augmentation de 99 images pour la classe Road_works-sli_40Kmh\n",
            "\n",
            "Traitement de la classe Road_works-sli_50Kmh (ID: 6)\n",
            "Augmentation de 98 images pour la classe Road_works-sli_50Kmh\n",
            "\n",
            "Traitement de la classe Road_works-sli_60Kmh (ID: 7)\n",
            "Augmentation de 99 images pour la classe Road_works-sli_60Kmh\n",
            "\n",
            "Traitement de la classe Road_works-sli_70Kmh (ID: 8)\n",
            "Augmentation de 99 images pour la classe Road_works-sli_70Kmh\n",
            "\n",
            "Traitement de la classe Road_works-sli_80Kmh (ID: 9)\n",
            "Augmentation de 99 images pour la classe Road_works-sli_80Kmh\n",
            "\n",
            "Traitement de la classe Road_works-sli_90Kmh (ID: 10)\n",
            "Augmentation de 97 images pour la classe Road_works-sli_90Kmh\n",
            "\n",
            "Traitement de la classe Speed_limit_100kmh (ID: 11)\n",
            "\n",
            "Traitement de la classe Speed_limit_110kmh (ID: 12)\n",
            "Augmentation de 44 images pour la classe Speed_limit_110kmh\n",
            "\n",
            "Traitement de la classe Speed_limit_120kmh (ID: 13)\n",
            "\n",
            "Traitement de la classe Speed_limit_15kmh (ID: 14)\n",
            "Augmentation de 54 images pour la classe Speed_limit_15kmh\n",
            "\n",
            "Traitement de la classe Speed_limit_20kmh (ID: 15)\n",
            "\n",
            "Traitement de la classe Speed_limit_30kmh (ID: 16)\n",
            "\n",
            "Traitement de la classe Speed_limit_40kmh (ID: 17)\n",
            "\n",
            "Traitement de la classe Speed_limit_50kmh (ID: 18)\n",
            "\n",
            "Traitement de la classe Speed_limit_5kmh (ID: 19)\n",
            "\n",
            "Traitement de la classe Speed_limit_60kmh (ID: 20)\n",
            "\n",
            "Traitement de la classe Speed_limit_70kmh (ID: 21)\n",
            "\n",
            "Traitement de la classe Speed_limit_80kmh (ID: 22)\n",
            "\n",
            "Traitement de la classe Speed_limit_90kmh (ID: 23)\n",
            "Augmentation de 60 images pour la classe Speed_limit_90kmh\n",
            "\n",
            "📊 Distribution finale des classes:\n",
            "\n",
            "Ensemble train:\n",
            "Classe 0 (End_speed_limit_80): 316 exemples\n",
            "Classe 1 (End_speed_passing_limits): 192 exemples\n",
            "Classe 2 (Road_works-sli_100Kmh): 80 exemples\n",
            "Classe 3 (Road_works-sli_20Kmh): 80 exemples\n",
            "Classe 4 (Road_works-sli_30Kmh): 80 exemples\n",
            "Classe 5 (Road_works-sli_40Kmh): 80 exemples\n",
            "Classe 6 (Road_works-sli_50Kmh): 80 exemples\n",
            "Classe 7 (Road_works-sli_60Kmh): 80 exemples\n",
            "Classe 8 (Road_works-sli_70Kmh): 80 exemples\n",
            "Classe 9 (Road_works-sli_80Kmh): 80 exemples\n",
            "Classe 10 (Road_works-sli_90Kmh): 80 exemples\n",
            "Classe 11 (Speed_limit_100kmh): 222 exemples\n",
            "Classe 12 (Speed_limit_110kmh): 80 exemples\n",
            "Classe 13 (Speed_limit_120kmh): 180 exemples\n",
            "Classe 14 (Speed_limit_15kmh): 80 exemples\n",
            "Classe 15 (Speed_limit_20kmh): 229 exemples\n",
            "Classe 16 (Speed_limit_30kmh): 238 exemples\n",
            "Classe 17 (Speed_limit_40kmh): 316 exemples\n",
            "Classe 18 (Speed_limit_50kmh): 290 exemples\n",
            "Classe 19 (Speed_limit_5kmh): 102 exemples\n",
            "Classe 20 (Speed_limit_60kmh): 255 exemples\n",
            "Classe 21 (Speed_limit_70kmh): 286 exemples\n",
            "Classe 22 (Speed_limit_80kmh): 273 exemples\n",
            "Classe 23 (Speed_limit_90kmh): 80 exemples\n",
            "\n",
            "Ensemble val:\n",
            "Classe 0 (End_speed_limit_80): 79 exemples\n",
            "Classe 1 (End_speed_passing_limits): 48 exemples\n",
            "Classe 2 (Road_works-sli_100Kmh): 20 exemples\n",
            "Classe 3 (Road_works-sli_20Kmh): 20 exemples\n",
            "Classe 4 (Road_works-sli_30Kmh): 20 exemples\n",
            "Classe 5 (Road_works-sli_40Kmh): 20 exemples\n",
            "Classe 6 (Road_works-sli_50Kmh): 20 exemples\n",
            "Classe 7 (Road_works-sli_60Kmh): 20 exemples\n",
            "Classe 8 (Road_works-sli_70Kmh): 20 exemples\n",
            "Classe 9 (Road_works-sli_80Kmh): 20 exemples\n",
            "Classe 10 (Road_works-sli_90Kmh): 20 exemples\n",
            "Classe 11 (Speed_limit_100kmh): 56 exemples\n",
            "Classe 12 (Speed_limit_110kmh): 20 exemples\n",
            "Classe 13 (Speed_limit_120kmh): 45 exemples\n",
            "Classe 14 (Speed_limit_15kmh): 20 exemples\n",
            "Classe 15 (Speed_limit_20kmh): 57 exemples\n",
            "Classe 16 (Speed_limit_30kmh): 59 exemples\n",
            "Classe 17 (Speed_limit_40kmh): 79 exemples\n",
            "Classe 18 (Speed_limit_50kmh): 73 exemples\n",
            "Classe 19 (Speed_limit_5kmh): 26 exemples\n",
            "Classe 20 (Speed_limit_60kmh): 64 exemples\n",
            "Classe 21 (Speed_limit_70kmh): 71 exemples\n",
            "Classe 22 (Speed_limit_80kmh): 68 exemples\n",
            "Classe 23 (Speed_limit_90kmh): 20 exemples\n",
            "\n",
            "✅ Dataset préparé avec succès!\n",
            "✅ Fichier YAML créé: /content/drive/MyDrive/sli1/Faissal/dataset.yaml\n"
          ]
        }
      ]
    },
    {
      "cell_type": "code",
      "source": [
        "pip install ultralytics"
      ],
      "metadata": {
        "colab": {
          "base_uri": "https://localhost:8080/"
        },
        "id": "6O4XzCzrATUE",
        "outputId": "621e933d-4aa1-45ea-e964-ad75a7fde44b"
      },
      "execution_count": null,
      "outputs": [
        {
          "output_type": "stream",
          "name": "stdout",
          "text": [
            "Collecting ultralytics\n",
            "  Downloading ultralytics-8.3.115-py3-none-any.whl.metadata (37 kB)\n",
            "Requirement already satisfied: numpy<=2.1.1,>=1.23.0 in /usr/local/lib/python3.11/dist-packages (from ultralytics) (2.0.2)\n",
            "Requirement already satisfied: matplotlib>=3.3.0 in /usr/local/lib/python3.11/dist-packages (from ultralytics) (3.10.0)\n",
            "Requirement already satisfied: opencv-python>=4.6.0 in /usr/local/lib/python3.11/dist-packages (from ultralytics) (4.11.0.86)\n",
            "Requirement already satisfied: pillow>=7.1.2 in /usr/local/lib/python3.11/dist-packages (from ultralytics) (11.2.1)\n",
            "Requirement already satisfied: pyyaml>=5.3.1 in /usr/local/lib/python3.11/dist-packages (from ultralytics) (6.0.2)\n",
            "Requirement already satisfied: requests>=2.23.0 in /usr/local/lib/python3.11/dist-packages (from ultralytics) (2.32.3)\n",
            "Requirement already satisfied: scipy>=1.4.1 in /usr/local/lib/python3.11/dist-packages (from ultralytics) (1.14.1)\n",
            "Requirement already satisfied: torch>=1.8.0 in /usr/local/lib/python3.11/dist-packages (from ultralytics) (2.6.0+cpu)\n",
            "Requirement already satisfied: torchvision>=0.9.0 in /usr/local/lib/python3.11/dist-packages (from ultralytics) (0.21.0+cpu)\n",
            "Requirement already satisfied: tqdm>=4.64.0 in /usr/local/lib/python3.11/dist-packages (from ultralytics) (4.67.1)\n",
            "Requirement already satisfied: psutil in /usr/local/lib/python3.11/dist-packages (from ultralytics) (5.9.5)\n",
            "Collecting py-cpuinfo (from ultralytics)\n",
            "  Downloading py_cpuinfo-9.0.0-py3-none-any.whl.metadata (794 bytes)\n",
            "Requirement already satisfied: pandas>=1.1.4 in /usr/local/lib/python3.11/dist-packages (from ultralytics) (2.2.2)\n",
            "Requirement already satisfied: seaborn>=0.11.0 in /usr/local/lib/python3.11/dist-packages (from ultralytics) (0.13.2)\n",
            "Collecting ultralytics-thop>=2.0.0 (from ultralytics)\n",
            "  Downloading ultralytics_thop-2.0.14-py3-none-any.whl.metadata (9.4 kB)\n",
            "Requirement already satisfied: contourpy>=1.0.1 in /usr/local/lib/python3.11/dist-packages (from matplotlib>=3.3.0->ultralytics) (1.3.2)\n",
            "Requirement already satisfied: cycler>=0.10 in /usr/local/lib/python3.11/dist-packages (from matplotlib>=3.3.0->ultralytics) (0.12.1)\n",
            "Requirement already satisfied: fonttools>=4.22.0 in /usr/local/lib/python3.11/dist-packages (from matplotlib>=3.3.0->ultralytics) (4.57.0)\n",
            "Requirement already satisfied: kiwisolver>=1.3.1 in /usr/local/lib/python3.11/dist-packages (from matplotlib>=3.3.0->ultralytics) (1.4.8)\n",
            "Requirement already satisfied: packaging>=20.0 in /usr/local/lib/python3.11/dist-packages (from matplotlib>=3.3.0->ultralytics) (24.2)\n",
            "Requirement already satisfied: pyparsing>=2.3.1 in /usr/local/lib/python3.11/dist-packages (from matplotlib>=3.3.0->ultralytics) (3.2.3)\n",
            "Requirement already satisfied: python-dateutil>=2.7 in /usr/local/lib/python3.11/dist-packages (from matplotlib>=3.3.0->ultralytics) (2.9.0.post0)\n",
            "Requirement already satisfied: pytz>=2020.1 in /usr/local/lib/python3.11/dist-packages (from pandas>=1.1.4->ultralytics) (2025.2)\n",
            "Requirement already satisfied: tzdata>=2022.7 in /usr/local/lib/python3.11/dist-packages (from pandas>=1.1.4->ultralytics) (2025.2)\n",
            "Requirement already satisfied: charset-normalizer<4,>=2 in /usr/local/lib/python3.11/dist-packages (from requests>=2.23.0->ultralytics) (3.4.1)\n",
            "Requirement already satisfied: idna<4,>=2.5 in /usr/local/lib/python3.11/dist-packages (from requests>=2.23.0->ultralytics) (3.10)\n",
            "Requirement already satisfied: urllib3<3,>=1.21.1 in /usr/local/lib/python3.11/dist-packages (from requests>=2.23.0->ultralytics) (2.3.0)\n",
            "Requirement already satisfied: certifi>=2017.4.17 in /usr/local/lib/python3.11/dist-packages (from requests>=2.23.0->ultralytics) (2025.1.31)\n",
            "Requirement already satisfied: filelock in /usr/local/lib/python3.11/dist-packages (from torch>=1.8.0->ultralytics) (3.18.0)\n",
            "Requirement already satisfied: typing-extensions>=4.10.0 in /usr/local/lib/python3.11/dist-packages (from torch>=1.8.0->ultralytics) (4.13.2)\n",
            "Requirement already satisfied: networkx in /usr/local/lib/python3.11/dist-packages (from torch>=1.8.0->ultralytics) (3.4.2)\n",
            "Requirement already satisfied: jinja2 in /usr/local/lib/python3.11/dist-packages (from torch>=1.8.0->ultralytics) (3.1.6)\n",
            "Requirement already satisfied: fsspec in /usr/local/lib/python3.11/dist-packages (from torch>=1.8.0->ultralytics) (2025.3.2)\n",
            "Requirement already satisfied: sympy==1.13.1 in /usr/local/lib/python3.11/dist-packages (from torch>=1.8.0->ultralytics) (1.13.1)\n",
            "Requirement already satisfied: mpmath<1.4,>=1.1.0 in /usr/local/lib/python3.11/dist-packages (from sympy==1.13.1->torch>=1.8.0->ultralytics) (1.3.0)\n",
            "Requirement already satisfied: six>=1.5 in /usr/local/lib/python3.11/dist-packages (from python-dateutil>=2.7->matplotlib>=3.3.0->ultralytics) (1.17.0)\n",
            "Requirement already satisfied: MarkupSafe>=2.0 in /usr/local/lib/python3.11/dist-packages (from jinja2->torch>=1.8.0->ultralytics) (3.0.2)\n",
            "Downloading ultralytics-8.3.115-py3-none-any.whl (983 kB)\n",
            "\u001b[2K   \u001b[90m━━━━━━━━━━━━━━━━━━━━━━━━━━━━━━━━━━━━━━━━\u001b[0m \u001b[32m983.5/983.5 kB\u001b[0m \u001b[31m11.5 MB/s\u001b[0m eta \u001b[36m0:00:00\u001b[0m\n",
            "\u001b[?25hDownloading ultralytics_thop-2.0.14-py3-none-any.whl (26 kB)\n",
            "Downloading py_cpuinfo-9.0.0-py3-none-any.whl (22 kB)\n",
            "Installing collected packages: py-cpuinfo, ultralytics-thop, ultralytics\n",
            "Successfully installed py-cpuinfo-9.0.0 ultralytics-8.3.115 ultralytics-thop-2.0.14\n"
          ]
        }
      ]
    },
    {
      "cell_type": "code",
      "source": [
        "pip install opencv-python\n"
      ],
      "metadata": {
        "colab": {
          "base_uri": "https://localhost:8080/"
        },
        "id": "30O7kCl-jAZS",
        "outputId": "c98806c7-4127-4721-8172-d314324c47b7"
      },
      "execution_count": null,
      "outputs": [
        {
          "output_type": "stream",
          "name": "stdout",
          "text": [
            "Collecting opencv-python\n",
            "  Downloading opencv_python-4.11.0.86-cp37-abi3-manylinux_2_17_x86_64.manylinux2014_x86_64.whl.metadata (20 kB)\n",
            "Requirement already satisfied: numpy>=1.21.2 in /usr/local/lib/python3.11/dist-packages (from opencv-python) (2.0.2)\n",
            "Downloading opencv_python-4.11.0.86-cp37-abi3-manylinux_2_17_x86_64.manylinux2014_x86_64.whl (63.0 MB)\n",
            "\u001b[2K   \u001b[90m━━━━━━━━━━━━━━━━━━━━━━━━━━━━━━━━━━━━━━━━\u001b[0m \u001b[32m63.0/63.0 MB\u001b[0m \u001b[31m20.4 MB/s\u001b[0m eta \u001b[36m0:00:00\u001b[0m\n",
            "\u001b[?25hInstalling collected packages: opencv-python\n",
            "Successfully installed opencv-python-4.11.0.86\n"
          ]
        }
      ]
    },
    {
      "cell_type": "code",
      "source": [
        "import os\n",
        "import cv2\n",
        "import matplotlib.pyplot as plt\n",
        "\n",
        "# 👉 Change ce chemin par le tien !\n",
        "image_folder = \"/content/drive/MyDrive/sli1/Faissal/train/images\"\n",
        "\n",
        "# 📦 Stocker toutes les dimensions\n",
        "widths, heights = [], []\n",
        "\n",
        "for filename in os.listdir(image_folder):\n",
        "    if filename.lower().endswith(('.jpg', '.jpeg', '.png')):\n",
        "        img_path = os.path.join(image_folder, filename)\n",
        "        img = cv2.imread(img_path)\n",
        "        if img is not None:\n",
        "            h, w = img.shape[:2]\n",
        "            widths.append(w)\n",
        "            heights.append(h)\n",
        "\n",
        "# 📈 Résumé\n",
        "print(f\"📷 Nombre d'images analysées : {len(widths)}\")\n",
        "print(f\"📏 Taille moyenne : {int(sum(widths)/len(widths))} x {int(sum(heights)/len(heights))}\")\n",
        "print(f\"📉 Taille min     : {min(widths)} x {min(heights)}\")\n",
        "print(f\"📈 Taille max     : {max(widths)} x {max(heights)}\")\n",
        "\n",
        "# 📊 Distribution\n",
        "plt.figure(figsize=(10,5))\n",
        "plt.hist(widths, bins=30, alpha=0.6, label='Largeurs')\n",
        "plt.hist(heights, bins=30, alpha=0.6, label='Hauteurs')\n",
        "plt.title(\"Distribution des tailles d'images\")\n",
        "plt.xlabel(\"Pixels\")\n",
        "plt.ylabel(\"Nombre d'images\")\n",
        "plt.legend()\n",
        "plt.grid(True)\n",
        "plt.show()"
      ],
      "metadata": {
        "colab": {
          "base_uri": "https://localhost:8080/",
          "height": 556
        },
        "id": "PJ8finEriclz",
        "outputId": "2e558b0e-12d4-49db-b3a1-45b9bc3e7238"
      },
      "execution_count": null,
      "outputs": [
        {
          "output_type": "stream",
          "name": "stdout",
          "text": [
            "📷 Nombre d'images analysées : 3859\n",
            "📏 Taille moyenne : 145 x 149\n",
            "📉 Taille min     : 25 x 25\n",
            "📈 Taille max     : 975 x 1390\n"
          ]
        },
        {
          "output_type": "display_data",
          "data": {
            "text/plain": [
              "<Figure size 1000x500 with 1 Axes>"
            ],
            "image/png": "[encoded data removed]"
          },
          "metadata": {}
        }
      ]
    },
    {
      "cell_type": "code",
      "source": [
        "from ultralytics import YOLO\n",
        "import torch\n",
        "import os\n",
        "import yaml\n",
        "from pathlib import Path\n",
        "\n",
        "# Pour éviter les erreurs liées à OpenMP\n",
        "os.environ['KMP_DUPLICATE_LIB_OK'] = 'TRUE'\n",
        "\n",
        "# === CONFIGURATION ===\n",
        "yaml_path = '/content/drive/MyDrive/sli1/Faissal/dataset.yaml'\n",
        "model_name = 'yolov8n.pt'\n",
        "project_name = 'sli_detector'\n",
        "\n",
        "def verify_dataset(yaml_path):\n",
        "    \"\"\"Vérifie la validité du dataset\"\"\"\n",
        "    try:\n",
        "        with open(yaml_path, 'r') as f:\n",
        "            data = yaml.safe_load(f)\n",
        "\n",
        "        required_keys = ['path', 'train', 'val', 'nc', 'names']\n",
        "        for key in required_keys:\n",
        "            if key not in data:\n",
        "                raise ValueError(f\"Clé manquante dans dataset.yaml: {key}\")\n",
        "\n",
        "        # Vérifier l'existence des dossiers\n",
        "        base_path = Path(data['path'])\n",
        "        train_path = base_path / data['train']\n",
        "        val_path = base_path / data['val']\n",
        "\n",
        "        if not train_path.exists():\n",
        "            raise ValueError(f\"Dossier d'entraînement non trouvé: {train_path}\")\n",
        "        if not val_path.exists():\n",
        "            raise ValueError(f\"Dossier de validation non trouvé: {val_path}\")\n",
        "\n",
        "        print(\"✅ Vérification du dataset réussie\")\n",
        "        print(f\"📊 Nombre de classes: {data['nc']}\")\n",
        "        print(\"📋 Classes:\")\n",
        "        for idx, name in enumerate(data['names']):\n",
        "            print(f\"   {idx}: {name}\")\n",
        "\n",
        "        return True\n",
        "    except Exception as e:\n",
        "        print(f\"❌ Erreur lors de la vérification du dataset: {str(e)}\")\n",
        "        return False\n",
        "\n",
        "def train_model(yaml_path, model_name='yolov8n.pt', project_name='sli_detector'):\n",
        "    \"\"\"Entraîne le modèle YOLOv8 avec les paramètres optimisés\"\"\"\n",
        "    print(f\"⚙️ Configuration utilisée:\")\n",
        "    print(f\"   - Dataset: {yaml_path}\")\n",
        "    print(f\"   - Modèle: {model_name}\")\n",
        "    print(f\"   - Projet: {project_name}\")\n",
        "\n",
        "    # Vérifier si GPU disponible\n",
        "    device = '0' if torch.cuda.is_available() else 'cpu'\n",
        "    print(f\"🖥️ Utilisation de: {'GPU' if device == '0' else 'CPU'}\")\n",
        "\n",
        "    try:\n",
        "        # Chargement du modèle\n",
        "        model = YOLO(model_name)\n",
        "\n",
        "        # Paramètres d'entraînement optimisés pour la détection de panneaux\n",
        "        results = model.train(\n",
        "            data=yaml_path,\n",
        "            epochs=55,\n",
        "            imgsz=720,\n",
        "            batch=16,\n",
        "            name=project_name,\n",
        "            device=device,\n",
        "            val=True,\n",
        "            mosaic=0.2,\n",
        "            scale=0.5,\n",
        "            multi_scale=True,\n",
        "            fliplr=0.2,\n",
        "            hsv_h=0.015,\n",
        "            hsv_s=0.6,\n",
        "            hsv_v=0.4,\n",
        "            copy_paste=0.0,\n",
        "            mixup=0.0,\n",
        "            lr0=0.01,\n",
        "            lrf=0.001,\n",
        "            momentum=0.937,\n",
        "            weight_decay=0.0005,\n",
        "            warmup_epochs=3.0,\n",
        "            warmup_momentum=0.8,\n",
        "            warmup_bias_lr=0.1,\n",
        "            box=7.5,\n",
        "            cls=0.5,\n",
        "            dfl=1.5,\n",
        ")\n",
        "\n",
        "        return results, True\n",
        "\n",
        "    except Exception as e:\n",
        "        print(f\"❌ Erreur lors de l'entraînement: {str(e)}\")\n",
        "        return None, False\n",
        "\n",
        "def save_training_info(results, project_name):\n",
        "    \"\"\"Sauvegarde les informations d'entraînement\"\"\"\n",
        "    try:\n",
        "        output_dir = Path(f\"runs/detect/{project_name}\")\n",
        "        info_file = output_dir / \"training_info.txt\"\n",
        "\n",
        "        with open(info_file, 'w') as f:\n",
        "            f.write(\"=== Résultats d'entraînement ===\\n\")\n",
        "            f.write(f\"Meilleure précision (mAP50): {results.results_dict['metrics/mAP50(B)']:.4f}\\n\")\n",
        "            f.write(f\"Meilleure précision (mAP50-95): {results.results_dict['metrics/mAP50-95(B)']:.4f}\\n\")\n",
        "            f.write(f\"Epochs effectuées: {results.results_dict['epoch']}\\n\")\n",
        "\n",
        "        print(f\"✅ Informations d'entraînement sauvegardées dans: {info_file}\")\n",
        "    except Exception as e:\n",
        "        print(f\"⚠️ Erreur lors de la sauvegarde des informations: {str(e)}\")\n",
        "\n",
        "if __name__ == \"__main__\":\n",
        "    print(\"🚀 Démarrage de l'entraînement du modèle YOLOv8...\")\n",
        "\n",
        "    # Vérification du dataset\n",
        "    if not verify_dataset(yaml_path):\n",
        "        print(\"❌ Arrêt de l'entraînement dû aux erreurs dans le dataset\")\n",
        "        exit(1)\n",
        "\n",
        "    # Entraînement\n",
        "    results, success = train_model(yaml_path, model_name, project_name)\n",
        "\n",
        "    if success:\n",
        "        print(\"\\n✅ Entraînement terminé avec succès!\")\n",
        "        print(f\"📁 Meilleur modèle sauvegardé: runs/detect/{project_name}/weights/best.pt\")\n",
        "\n",
        "        # Sauvegarder les informations d'entraînement\n",
        "        if results is not None:\n",
        "            save_training_info(results, project_name)\n",
        "    else:\n",
        "        print(\"❌ L'entraînement a échoué\")"
      ],
      "metadata": {
        "colab": {
          "base_uri": "https://localhost:8080/"
        },
        "id": "mnRZ0nlaAL0T",
        "outputId": "76be0025-f412-468c-c902-7946fc3875e3"
      },
      "execution_count": null,
      "outputs": [
        {
          "output_type": "stream",
          "name": "stdout",
          "text": [
            "Creating new Ultralytics Settings v0.0.6 file ✅ \n",
            "View Ultralytics Settings with 'yolo settings' or at '/root/.config/Ultralytics/settings.json'\n",
            "Update Settings with 'yolo settings key=value', i.e. 'yolo settings runs_dir=path/to/dir'. For help see https://docs.ultralytics.com/quickstart/#ultralytics-settings.\n",
            "🚀 Démarrage de l'entraînement du modèle YOLOv8...\n",
            "✅ Vérification du dataset réussie\n",
            "📊 Nombre de classes: 24\n",
            "📋 Classes:\n",
            "   0: End_speed_limit_80\n",
            "   1: End_speed_passing_limits\n",
            "   2: Road_works-sli_100Kmh\n",
            "   3: Road_works-sli_20Kmh\n",
            "   4: Road_works-sli_30Kmh\n",
            "   5: Road_works-sli_40Kmh\n",
            "   6: Road_works-sli_50Kmh\n",
            "   7: Road_works-sli_60Kmh\n",
            "   8: Road_works-sli_70Kmh\n",
            "   9: Road_works-sli_80Kmh\n",
            "   10: Road_works-sli_90Kmh\n",
            "   11: Speed_limit_100kmh\n",
            "   12: Speed_limit_110kmh\n",
            "   13: Speed_limit_120kmh\n",
            "   14: Speed_limit_15kmh\n",
            "   15: Speed_limit_20kmh\n",
            "   16: Speed_limit_30kmh\n",
            "   17: Speed_limit_40kmh\n",
            "   18: Speed_limit_50kmh\n",
            "   19: Speed_limit_5kmh\n",
            "   20: Speed_limit_60kmh\n",
            "   21: Speed_limit_70kmh\n",
            "   22: Speed_limit_80kmh\n",
            "   23: Speed_limit_90kmh\n",
            "⚙️ Configuration utilisée:\n",
            "   - Dataset: /content/drive/MyDrive/sli1/Faissal/dataset.yaml\n",
            "   - Modèle: yolov8n.pt\n",
            "   - Projet: sli_detector\n",
            "🖥️ Utilisation de: CPU\n",
            "Downloading https://github.com/ultralytics/assets/releases/download/v8.3.0/yolov8n.pt to 'yolov8n.pt'...\n"
          ]
        },
        {
          "output_type": "stream",
          "name": "stderr",
          "text": [
            "100%|██████████| 6.25M/6.25M [00:00<00:00, 78.3MB/s]\n"
          ]
        },
        {
          "output_type": "stream",
          "name": "stdout",
          "text": [
            "Ultralytics 8.3.115 🚀 Python-3.11.12 torch-2.6.0+cpu CPU (Intel Xeon 2.00GHz)\n",
            "\u001b[34m\u001b[1mengine/trainer: \u001b[0mtask=detect, mode=train, model=yolov8n.pt, data=/content/drive/MyDrive/sli1/Faissal/dataset.yaml, epochs=55, time=None, patience=100, batch=16, imgsz=720, save=True, save_period=-1, cache=False, device=cpu, workers=8, project=None, name=sli_detector, exist_ok=False, pretrained=True, optimizer=auto, verbose=True, seed=0, deterministic=True, single_cls=False, rect=False, cos_lr=False, close_mosaic=10, resume=False, amp=True, fraction=1.0, profile=False, freeze=None, multi_scale=True, overlap_mask=True, mask_ratio=4, dropout=0.0, val=True, split=val, save_json=False, conf=None, iou=0.7, max_det=300, half=False, dnn=False, plots=True, source=None, vid_stride=1, stream_buffer=False, visualize=False, augment=False, agnostic_nms=False, classes=None, retina_masks=False, embed=None, show=False, save_frames=False, save_txt=False, save_conf=False, save_crop=False, show_labels=True, show_conf=True, show_boxes=True, line_width=None, format=torchscript, keras=False, optimize=False, int8=False, dynamic=False, simplify=True, opset=None, workspace=None, nms=False, lr0=0.01, lrf=0.001, momentum=0.937, weight_decay=0.0005, warmup_epochs=3.0, warmup_momentum=0.8, warmup_bias_lr=0.1, box=7.5, cls=0.5, dfl=1.5, pose=12.0, kobj=1.0, nbs=64, hsv_h=0.015, hsv_s=0.6, hsv_v=0.4, degrees=0.0, translate=0.1, scale=0.5, shear=0.0, perspective=0.0, flipud=0.0, fliplr=0.2, bgr=0.0, mosaic=0.2, mixup=0.0, copy_paste=0.0, copy_paste_mode=flip, auto_augment=randaugment, erasing=0.4, cfg=None, tracker=botsort.yaml, save_dir=runs/detect/sli_detector\n",
            "Downloading https://ultralytics.com/assets/Arial.ttf to '/root/.config/Ultralytics/Arial.ttf'...\n"
          ]
        },
        {
          "output_type": "stream",
          "name": "stderr",
          "text": [
            "100%|██████████| 755k/755k [00:00<00:00, 9.31MB/s]"
          ]
        },
        {
          "output_type": "stream",
          "name": "stdout",
          "text": [
            "Overriding model.yaml nc=80 with nc=24\n",
            "\n",
            "                   from  n    params  module                                       arguments                     \n",
            "  0                  -1  1       464  ultralytics.nn.modules.conv.Conv             [3, 16, 3, 2]                 \n",
            "  1                  -1  1      4672  ultralytics.nn.modules.conv.Conv             [16, 32, 3, 2]                \n",
            "  2                  -1  1      7360  ultralytics.nn.modules.block.C2f             [32, 32, 1, True]             \n",
            "  3                  -1  1     18560  ultralytics.nn.modules.conv.Conv             [32, 64, 3, 2]                \n",
            "  4                  -1  2     49664  ultralytics.nn.modules.block.C2f             [64, 64, 2, True]             \n",
            "  5                  -1  1     73984  ultralytics.nn.modules.conv.Conv             [64, 128, 3, 2]               \n",
            "  6                  -1  2    197632  ultralytics.nn.modules.block.C2f             [128, 128, 2, True]           \n",
            "  7                  -1  1    295424  ultralytics.nn.modules.conv.Conv             [128, 256, 3, 2]              \n",
            "  8                  -1  1    460288  ultralytics.nn.modules.block.C2f             [256, 256, 1, True]           \n",
            "  9                  -1  1    164608  ultralytics.nn.modules.block.SPPF            [256, 256, 5]                 \n",
            " 10                  -1  1         0  torch.nn.modules.upsampling.Upsample         [None, 2, 'nearest']          \n",
            " 11             [-1, 6]  1         0  ultralytics.nn.modules.conv.Concat           [1]                           \n",
            " 12                  -1  1    148224  ultralytics.nn.modules.block.C2f             [384, 128, 1]                 \n",
            " 13                  -1  1         0  torch.nn.modules.upsampling.Upsample         [None, 2, 'nearest']          \n",
            " 14             [-1, 4]  1         0  ultralytics.nn.modules.conv.Concat           [1]                           \n",
            " 15                  -1  1     37248  ultralytics.nn.modules.block.C2f             [192, 64, 1]                  \n",
            " 16                  -1  1     36992  ultralytics.nn.modules.conv.Conv             [64, 64, 3, 2]                \n",
            " 17            [-1, 12]  1         0  ultralytics.nn.modules.conv.Concat           [1]                           \n",
            " 18                  -1  1    123648  ultralytics.nn.modules.block.C2f             [192, 128, 1]                 \n",
            " 19                  -1  1    147712  ultralytics.nn.modules.conv.Conv             [128, 128, 3, 2]              \n",
            " 20             [-1, 9]  1         0  ultralytics.nn.modules.conv.Concat           [1]                           \n",
            " 21                  -1  1    493056  ultralytics.nn.modules.block.C2f             [384, 256, 1]                 \n",
            " 22        [15, 18, 21]  1    755992  ultralytics.nn.modules.head.Detect           [24, [64, 128, 256]]          \n"
          ]
        },
        {
          "output_type": "stream",
          "name": "stderr",
          "text": [
            "\n"
          ]
        },
        {
          "output_type": "stream",
          "name": "stdout",
          "text": [
            "Model summary: 129 layers, 3,015,528 parameters, 3,015,512 gradients, 8.2 GFLOPs\n",
            "\n",
            "Transferred 319/355 items from pretrained weights\n",
            "Freezing layer 'model.22.dfl.conv.weight'\n",
            "WARNING ⚠️ imgsz=[720] must be multiple of max stride 32, updating to [736]\n",
            "\u001b[34m\u001b[1mtrain: \u001b[0mFast image access ✅ (ping: 0.5±0.0 ms, read: 6.2±6.9 MB/s, size: 7.0 KB)\n"
          ]
        },
        {
          "output_type": "stream",
          "name": "stderr",
          "text": [
            "\u001b[34m\u001b[1mtrain: \u001b[0mScanning /content/drive/MyDrive/sli1/Faissal/train/labels.cache... 3859 images, 0 backgrounds, 0 corrupt: 100%|██████████| 3859/3859 [00:00<?, ?it/s]\n"
          ]
        },
        {
          "output_type": "stream",
          "name": "stdout",
          "text": [
            "\u001b[34m\u001b[1mval: \u001b[0mFast image access ✅ (ping: 0.7±0.6 ms, read: 0.1±0.1 MB/s, size: 11.3 KB)\n"
          ]
        },
        {
          "output_type": "stream",
          "name": "stderr",
          "text": [
            "\u001b[34m\u001b[1mval: \u001b[0mScanning /content/drive/MyDrive/sli1/Faissal/val/labels.cache... 965 images, 0 backgrounds, 0 corrupt: 100%|██████████| 965/965 [00:00<?, ?it/s]\n"
          ]
        },
        {
          "output_type": "stream",
          "name": "stdout",
          "text": [
            "Plotting labels to runs/detect/sli_detector/labels.jpg... \n",
            "\u001b[34m\u001b[1moptimizer:\u001b[0m 'optimizer=auto' found, ignoring 'lr0=0.01' and 'momentum=0.937' and determining best 'optimizer', 'lr0' and 'momentum' automatically... \n",
            "\u001b[34m\u001b[1moptimizer:\u001b[0m AdamW(lr=0.000357, momentum=0.9) with parameter groups 57 weight(decay=0.0), 64 weight(decay=0.0005), 63 bias(decay=0.0)\n",
            "Image sizes 736 train, 736 val\n",
            "Using 0 dataloader workers\n",
            "Logging results to \u001b[1mruns/detect/sli_detector\u001b[0m\n",
            "Starting training for 55 epochs...\n",
            "\n",
            "      Epoch    GPU_mem   box_loss   cls_loss   dfl_loss  Instances       Size\n"
          ]
        },
        {
          "output_type": "stream",
          "name": "stderr",
          "text": [
            "       1/55         0G      1.902      5.559      2.027          3        800: 100%|██████████| 242/242 [28:26<00:00,  7.05s/it]\n",
            "                 Class     Images  Instances      Box(P          R      mAP50  mAP50-95): 100%|██████████| 31/31 [08:07<00:00, 15.72s/it]"
          ]
        },
        {
          "output_type": "stream",
          "name": "stdout",
          "text": [
            "                   all        965        965      0.479      0.337      0.381      0.203\n"
          ]
        },
        {
          "output_type": "stream",
          "name": "stderr",
          "text": [
            "\n"
          ]
        },
        {
          "output_type": "stream",
          "name": "stdout",
          "text": [
            "\n",
            "      Epoch    GPU_mem   box_loss   cls_loss   dfl_loss  Instances       Size\n"
          ]
        },
        {
          "output_type": "stream",
          "name": "stderr",
          "text": [
            "       2/55         0G      1.546      3.854      1.588         19        736:  81%|████████  | 196/242 [23:52<03:44,  4.88s/it]"
          ]
        }
      ]
    },
    {
      "cell_type": "code",
      "source": [
        "import os\n",
        "import random\n",
        "import shutil\n",
        "from sklearn.model_selection import train_test_split\n",
        "import yaml\n",
        "\n",
        "# === CONFIGURATION ===\n",
        "source_dir = \"/content/drive/MyDrive/speed_limit_detection1/database\"\n",
        "output_dir = \"/content/drive/MyDrive/sli1/dataset\"\n",
        "images_dir = os.path.join(output_dir, \"images\")\n",
        "labels_dir = os.path.join(output_dir, \"labels\")\n",
        "\n",
        "# === CLASSES SELON TON YAML ===\n",
        "class_map = {\n",
        "    \"Speed_limit_20kmh\": 0,\n",
        "    \"Speed_limit_30kmh\": 1,\n",
        "    \"Speed_limit_50kmh\": 2,\n",
        "    \"Speed_limit_60kmh\": 3,\n",
        "    \"Speed_limit_70kmh\": 4,\n",
        "    \"Speed_limit_80kmh\": 5,\n",
        "    \"End_speed_limit_80\": 6,\n",
        "    \"Speed_limit_100kmh\": 7,\n",
        "    \"Speed_limit_120kmh\": 8,\n",
        "    \"Speed_limit_5kmh\": 9,\n",
        "    \"Speed_limit_15kmh\": 10,\n",
        "    \"Speed_limit_110kmh\": 11,\n",
        "    \"Speed_limit_90kmh\": 12,\n",
        "    \"Speed_limit_40kmh\": 13,\n",
        "    \"Road_work\": 14,\n",
        "    \"End_speed_passing_limits\": 15\n",
        "}\n",
        "\n",
        "# Création des dossiers\n",
        "os.makedirs(images_dir, exist_ok=True)\n",
        "os.makedirs(labels_dir, exist_ok=True)\n",
        "\n",
        "# === COPIER LES IMAGES ET CRÉER LES LABELS ===\n",
        "for class_folder, class_id in class_map.items():\n",
        "    class_path = os.path.join(source_dir, class_folder)\n",
        "    if not os.path.exists(class_path):\n",
        "        print(f\"⚠️ Dossier non trouvé : {class_path}\")\n",
        "        continue\n",
        "\n",
        "    for filename in os.listdir(class_path):\n",
        "        if filename.lower().endswith(('.jpg', '.jpeg', '.png')):\n",
        "            # Générer un nom unique en cas de doublons\n",
        "            new_filename = f\"{class_folder}_{filename}\"\n",
        "            src_path = os.path.join(class_path, filename)\n",
        "            dst_img_path = os.path.join(images_dir, new_filename)\n",
        "            dst_txt_path = os.path.join(labels_dir, os.path.splitext(new_filename)[0] + \".txt\")\n",
        "\n",
        "            # Copier l’image\n",
        "            shutil.copyfile(src_path, dst_img_path)\n",
        "\n",
        "            # Créer un label fictif centré (à modifier après avec vraies bboxes)\n",
        "            with open(dst_txt_path, 'w') as f:\n",
        "                f.write(f\"{class_id} 0.5 0.5 0.5 0.5\\n\")\n",
        "\n",
        "# === SÉPARATION TRAIN / VAL (80/20) ===\n",
        "all_images = os.listdir(images_dir)\n",
        "train_imgs, val_imgs = train_test_split(all_images, test_size=0.2, random_state=42)\n",
        "\n",
        "# Créer les dossiers YOLO\n",
        "for split in ['train', 'val']:\n",
        "    for folder in ['images', 'labels']:\n",
        "        os.makedirs(os.path.join(output_dir, split, folder), exist_ok=True)\n",
        "\n",
        "# Copier les fichiers dans train/val\n",
        "for img_list, split in [(train_imgs, 'train'), (val_imgs, 'val')]:\n",
        "    for img in img_list:\n",
        "        label = os.path.splitext(img)[0] + \".txt\"\n",
        "        shutil.copy(os.path.join(images_dir, img), os.path.join(output_dir, split, \"images\", img))\n",
        "        shutil.copy(os.path.join(labels_dir, label), os.path.join(output_dir, split, \"labels\", label))\n",
        "\n",
        "# === GÉNÉRER LE FICHIER dataset.yaml ===\n",
        "dataset_yaml = {\n",
        "    'path': output_dir,\n",
        "    'train': 'train/images',\n",
        "    'val': 'val/images',\n",
        "    'nc': 16,\n",
        "    'names': [\n",
        "        \"Speed_limit_20kmh\",\n",
        "        \"Speed_limit_30kmh\",\n",
        "        \"Speed_limit_50kmh\",\n",
        "        \"Speed_limit_60kmh\",\n",
        "        \"Speed_limit_70kmh\",\n",
        "        \"Speed_limit_80kmh\",\n",
        "        \"End_speed_limit_80\",\n",
        "        \"Speed_limit_100kmh\",\n",
        "        \"Speed_limit_120kmh\",\n",
        "        \"Speed_limit_5kmh\",\n",
        "        \"Speed_limit_15kmh\",\n",
        "        \"Speed_limit_110kmh\",\n",
        "        \"Speed_limit_90kmh\",\n",
        "        \"Speed_limit_40kmh\",\n",
        "        \"Road_work\",\n",
        "        \"End_speed_passing_limits\"\n",
        "    ]\n",
        "}\n",
        "\n",
        "yaml_path = os.path.join(output_dir, 'dataset.yaml')\n",
        "with open(yaml_path, 'w') as f:\n",
        "    yaml.dump(dataset_yaml, f, sort_keys=False)\n",
        "\n",
        "print(f\"✅ Dataset prêt !\\n- Images : {images_dir}\\n- Labels : {labels_dir}\\n- YAML : {yaml_path}\")"
      ],
      "metadata": {
        "colab": {
          "base_uri": "https://localhost:8080/"
        },
        "id": "qIa4TpqW4eua",
        "outputId": "b5166eab-9c7a-4a44-d830-71a585bfb164"
      },
      "execution_count": null,
      "outputs": [
        {
          "output_type": "stream",
          "name": "stdout",
          "text": [
            "✅ Dataset prêt !\n",
            "- Images : /content/drive/MyDrive/sli1/dataset/images\n",
            "- Labels : /content/drive/MyDrive/sli1/dataset/labels\n",
            "- YAML : /content/drive/MyDrive/sli1/dataset/dataset.yaml\n"
          ]
        }
      ]
    },
    {
      "cell_type": "code",
      "source": [
        "pip install ultralytics"
      ],
      "metadata": {
        "colab": {
          "base_uri": "https://localhost:8080/"
        },
        "id": "tb80iLetcn3z",
        "outputId": "393a5b8d-0fcc-45f1-d5b1-db00a4757256"
      },
      "execution_count": null,
      "outputs": [
        {
          "output_type": "stream",
          "name": "stdout",
          "text": [
            "Requirement already satisfied: ultralytics in /usr/local/lib/python3.11/dist-packages (8.3.113)\n",
            "Requirement already satisfied: numpy<=2.1.1,>=1.23.0 in /usr/local/lib/python3.11/dist-packages (from ultralytics) (2.0.2)\n",
            "Requirement already satisfied: matplotlib>=3.3.0 in /usr/local/lib/python3.11/dist-packages (from ultralytics) (3.10.0)\n",
            "Requirement already satisfied: opencv-python>=4.6.0 in /usr/local/lib/python3.11/dist-packages (from ultralytics) (4.11.0.86)\n",
            "Requirement already satisfied: pillow>=7.1.2 in /usr/local/lib/python3.11/dist-packages (from ultralytics) (11.1.0)\n",
            "Requirement already satisfied: pyyaml>=5.3.1 in /usr/local/lib/python3.11/dist-packages (from ultralytics) (6.0.2)\n",
            "Requirement already satisfied: requests>=2.23.0 in /usr/local/lib/python3.11/dist-packages (from ultralytics) (2.32.3)\n",
            "Requirement already satisfied: scipy>=1.4.1 in /usr/local/lib/python3.11/dist-packages (from ultralytics) (1.14.1)\n",
            "Requirement already satisfied: torch>=1.8.0 in /usr/local/lib/python3.11/dist-packages (from ultralytics) (2.6.0+cu124)\n",
            "Requirement already satisfied: torchvision>=0.9.0 in /usr/local/lib/python3.11/dist-packages (from ultralytics) (0.21.0+cu124)\n",
            "Requirement already satisfied: tqdm>=4.64.0 in /usr/local/lib/python3.11/dist-packages (from ultralytics) (4.67.1)\n",
            "Requirement already satisfied: psutil in /usr/local/lib/python3.11/dist-packages (from ultralytics) (5.9.5)\n",
            "Requirement already satisfied: py-cpuinfo in /usr/local/lib/python3.11/dist-packages (from ultralytics) (9.0.0)\n",
            "Requirement already satisfied: pandas>=1.1.4 in /usr/local/lib/python3.11/dist-packages (from ultralytics) (2.2.2)\n",
            "Requirement already satisfied: seaborn>=0.11.0 in /usr/local/lib/python3.11/dist-packages (from ultralytics) (0.13.2)\n",
            "Requirement already satisfied: ultralytics-thop>=2.0.0 in /usr/local/lib/python3.11/dist-packages (from ultralytics) (2.0.14)\n",
            "Requirement already satisfied: contourpy>=1.0.1 in /usr/local/lib/python3.11/dist-packages (from matplotlib>=3.3.0->ultralytics) (1.3.2)\n",
            "Requirement already satisfied: cycler>=0.10 in /usr/local/lib/python3.11/dist-packages (from matplotlib>=3.3.0->ultralytics) (0.12.1)\n",
            "Requirement already satisfied: fonttools>=4.22.0 in /usr/local/lib/python3.11/dist-packages (from matplotlib>=3.3.0->ultralytics) (4.57.0)\n",
            "Requirement already satisfied: kiwisolver>=1.3.1 in /usr/local/lib/python3.11/dist-packages (from matplotlib>=3.3.0->ultralytics) (1.4.8)\n",
            "Requirement already satisfied: packaging>=20.0 in /usr/local/lib/python3.11/dist-packages (from matplotlib>=3.3.0->ultralytics) (24.2)\n",
            "Requirement already satisfied: pyparsing>=2.3.1 in /usr/local/lib/python3.11/dist-packages (from matplotlib>=3.3.0->ultralytics) (3.2.3)\n",
            "Requirement already satisfied: python-dateutil>=2.7 in /usr/local/lib/python3.11/dist-packages (from matplotlib>=3.3.0->ultralytics) (2.8.2)\n",
            "Requirement already satisfied: pytz>=2020.1 in /usr/local/lib/python3.11/dist-packages (from pandas>=1.1.4->ultralytics) (2025.2)\n",
            "Requirement already satisfied: tzdata>=2022.7 in /usr/local/lib/python3.11/dist-packages (from pandas>=1.1.4->ultralytics) (2025.2)\n",
            "Requirement already satisfied: charset-normalizer<4,>=2 in /usr/local/lib/python3.11/dist-packages (from requests>=2.23.0->ultralytics) (3.4.1)\n",
            "Requirement already satisfied: idna<4,>=2.5 in /usr/local/lib/python3.11/dist-packages (from requests>=2.23.0->ultralytics) (3.10)\n",
            "Requirement already satisfied: urllib3<3,>=1.21.1 in /usr/local/lib/python3.11/dist-packages (from requests>=2.23.0->ultralytics) (2.3.0)\n",
            "Requirement already satisfied: certifi>=2017.4.17 in /usr/local/lib/python3.11/dist-packages (from requests>=2.23.0->ultralytics) (2025.1.31)\n",
            "Requirement already satisfied: filelock in /usr/local/lib/python3.11/dist-packages (from torch>=1.8.0->ultralytics) (3.18.0)\n",
            "Requirement already satisfied: typing-extensions>=4.10.0 in /usr/local/lib/python3.11/dist-packages (from torch>=1.8.0->ultralytics) (4.13.2)\n",
            "Requirement already satisfied: networkx in /usr/local/lib/python3.11/dist-packages (from torch>=1.8.0->ultralytics) (3.4.2)\n",
            "Requirement already satisfied: jinja2 in /usr/local/lib/python3.11/dist-packages (from torch>=1.8.0->ultralytics) (3.1.6)\n",
            "Requirement already satisfied: fsspec in /usr/local/lib/python3.11/dist-packages (from torch>=1.8.0->ultralytics) (2025.3.2)\n",
            "Requirement already satisfied: nvidia-cuda-nvrtc-cu12==12.4.127 in /usr/local/lib/python3.11/dist-packages (from torch>=1.8.0->ultralytics) (12.4.127)\n",
            "Requirement already satisfied: nvidia-cuda-runtime-cu12==12.4.127 in /usr/local/lib/python3.11/dist-packages (from torch>=1.8.0->ultralytics) (12.4.127)\n",
            "Requirement already satisfied: nvidia-cuda-cupti-cu12==12.4.127 in /usr/local/lib/python3.11/dist-packages (from torch>=1.8.0->ultralytics) (12.4.127)\n",
            "Requirement already satisfied: nvidia-cudnn-cu12==9.1.0.70 in /usr/local/lib/python3.11/dist-packages (from torch>=1.8.0->ultralytics) (9.1.0.70)\n",
            "Requirement already satisfied: nvidia-cublas-cu12==12.4.5.8 in /usr/local/lib/python3.11/dist-packages (from torch>=1.8.0->ultralytics) (12.4.5.8)\n",
            "Requirement already satisfied: nvidia-cufft-cu12==11.2.1.3 in /usr/local/lib/python3.11/dist-packages (from torch>=1.8.0->ultralytics) (11.2.1.3)\n",
            "Requirement already satisfied: nvidia-curand-cu12==10.3.5.147 in /usr/local/lib/python3.11/dist-packages (from torch>=1.8.0->ultralytics) (10.3.5.147)\n",
            "Requirement already satisfied: nvidia-cusolver-cu12==11.6.1.9 in /usr/local/lib/python3.11/dist-packages (from torch>=1.8.0->ultralytics) (11.6.1.9)\n",
            "Requirement already satisfied: nvidia-cusparse-cu12==12.3.1.170 in /usr/local/lib/python3.11/dist-packages (from torch>=1.8.0->ultralytics) (12.3.1.170)\n",
            "Requirement already satisfied: nvidia-cusparselt-cu12==0.6.2 in /usr/local/lib/python3.11/dist-packages (from torch>=1.8.0->ultralytics) (0.6.2)\n",
            "Requirement already satisfied: nvidia-nccl-cu12==2.21.5 in /usr/local/lib/python3.11/dist-packages (from torch>=1.8.0->ultralytics) (2.21.5)\n",
            "Requirement already satisfied: nvidia-nvtx-cu12==12.4.127 in /usr/local/lib/python3.11/dist-packages (from torch>=1.8.0->ultralytics) (12.4.127)\n",
            "Requirement already satisfied: nvidia-nvjitlink-cu12==12.4.127 in /usr/local/lib/python3.11/dist-packages (from torch>=1.8.0->ultralytics) (12.4.127)\n",
            "Requirement already satisfied: triton==3.2.0 in /usr/local/lib/python3.11/dist-packages (from torch>=1.8.0->ultralytics) (3.2.0)\n",
            "Requirement already satisfied: sympy==1.13.1 in /usr/local/lib/python3.11/dist-packages (from torch>=1.8.0->ultralytics) (1.13.1)\n",
            "Requirement already satisfied: mpmath<1.4,>=1.1.0 in /usr/local/lib/python3.11/dist-packages (from sympy==1.13.1->torch>=1.8.0->ultralytics) (1.3.0)\n",
            "Requirement already satisfied: six>=1.5 in /usr/local/lib/python3.11/dist-packages (from python-dateutil>=2.7->matplotlib>=3.3.0->ultralytics) (1.17.0)\n",
            "Requirement already satisfied: MarkupSafe>=2.0 in /usr/local/lib/python3.11/dist-packages (from jinja2->torch>=1.8.0->ultralytics) (3.0.2)\n"
          ]
        }
      ]
    },
    {
      "cell_type": "code",
      "source": [
        "import os\n",
        "import shutil\n",
        "import yaml\n",
        "from sklearn.model_selection import train_test_split\n",
        "\n",
        "# 1. Dossier source contenant les 16 classes (chaque dossier = une classe)\n",
        "source_dir = \"/content/drive/MyDrive/speed_limit_detection1/database\"\n",
        "\n",
        "# 2. Dossier de sortie\n",
        "output_dir = \"/content/drive/MyDrive/SLI2/dataset\"\n",
        "images_dir = os.path.join(output_dir, \"images\")\n",
        "labels_dir = os.path.join(output_dir, \"labels\")\n",
        "\n",
        "# 3. Nettoyage et préparation\n",
        "os.makedirs(images_dir, exist_ok=True)\n",
        "os.makedirs(labels_dir, exist_ok=True)\n",
        "\n",
        "# 4. Créer le mapping dynamique des classes\n",
        "class_folders = sorted(os.listdir(source_dir))  # ordre alphabétique\n",
        "class_map = {folder: idx for idx, folder in enumerate(class_folders)}\n",
        "\n",
        "print(\"✅ Mapping des classes (automatique) :\")\n",
        "for name, idx in class_map.items():\n",
        "    print(f\"{idx}: {name}\")\n",
        "\n",
        "# 5. Générer les images et labels\n",
        "for class_name, class_id in class_map.items():\n",
        "    class_path = os.path.join(source_dir, class_name)\n",
        "    for filename in os.listdir(class_path):\n",
        "        if filename.lower().endswith(('.jpg', '.png', '.jpeg')):\n",
        "            src_img_path = os.path.join(class_path, filename)\n",
        "            dst_img_path = os.path.join(images_dir, filename)\n",
        "            dst_lbl_path = os.path.join(labels_dir, os.path.splitext(filename)[0] + \".txt\")\n",
        "\n",
        "            # Copier l'image\n",
        "            shutil.copyfile(src_img_path, dst_img_path)\n",
        "\n",
        "            # Créer un label fictif pour chaque image (class_id au centre)\n",
        "            with open(dst_lbl_path, 'w') as f:\n",
        "                f.write(f\"{class_id} 0.5 0.5 0.5 0.5\\n\")  # à remplacer par bbox réelle si dispo\n",
        "\n",
        "# 6. Séparation train / val\n",
        "all_images = os.listdir(images_dir)\n",
        "train_imgs, val_imgs = train_test_split(all_images, test_size=0.2, random_state=42)\n",
        "\n",
        "for split in ['train', 'val']:\n",
        "    for folder in ['images', 'labels']:\n",
        "        os.makedirs(os.path.join(output_dir, split, folder), exist_ok=True)\n",
        "\n",
        "for img_list, split in [(train_imgs, 'train'), (val_imgs, 'val')]:\n",
        "    for img in img_list:\n",
        "        label = os.path.splitext(img)[0] + \".txt\"\n",
        "        shutil.copy(os.path.join(images_dir, img), os.path.join(output_dir, split, \"images\", img))\n",
        "        shutil.copy(os.path.join(labels_dir, label), os.path.join(output_dir, split, \"labels\", label))\n",
        "\n",
        "# 7. Création du fichier dataset.yaml\n",
        "dataset_yaml = {\n",
        "    'path': output_dir,\n",
        "    'train': 'train/images',\n",
        "    'val': 'val/images',\n",
        "    'nc': len(class_map),\n",
        "    'names': [name for name in class_folders]\n",
        "}\n",
        "\n",
        "yaml_path = os.path.join(output_dir, 'dataset.yaml')\n",
        "with open(yaml_path, 'w') as f:\n",
        "    yaml.dump(dataset_yaml, f, sort_keys=False)\n",
        "\n",
        "print(f\"\\n✅ Fichier 'dataset.yaml' créé ici : {yaml_path}\")"
      ],
      "metadata": {
        "colab": {
          "base_uri": "https://localhost:8080/"
        },
        "id": "D7IExWBdF5tp",
        "outputId": "bc24b3c8-e27d-4689-bdab-cf9fcaf09d5d"
      },
      "execution_count": null,
      "outputs": [
        {
          "output_type": "stream",
          "name": "stdout",
          "text": [
            "✅ Mapping des classes (automatique) :\n",
            "0: End_speed_limit_80\n",
            "1: End_speed_passing_limits\n",
            "2: Road_work\n",
            "3: Speed_limit_100kmh\n",
            "4: Speed_limit_110kmh\n",
            "5: Speed_limit_120kmh\n",
            "6: Speed_limit_15kmh\n",
            "7: Speed_limit_20kmh\n",
            "8: Speed_limit_30kmh\n",
            "9: Speed_limit_40kmh\n",
            "10: Speed_limit_50kmh\n",
            "11: Speed_limit_5kmh\n",
            "12: Speed_limit_60kmh\n",
            "13: Speed_limit_70kmh\n",
            "14: Speed_limit_80kmh\n",
            "15: Speed_limit_90kmh\n",
            "\n",
            "✅ Fichier 'dataset.yaml' créé ici : /content/drive/MyDrive/SLI2/dataset/dataset.yaml\n"
          ]
        }
      ]
    },
    {
      "cell_type": "code",
      "source": [
        "import os\n",
        "import shutil\n",
        "import yaml\n",
        "from sklearn.model_selection import train_test_split\n",
        "# 2. Dossier de sortie\n",
        "source_dir = \"/content/drive/MyDrive/speed_limit_detection1/database\"\n",
        "output_dir = \"/content/drive/MyDrive/sli1/dataset\"\n",
        "images_dir = os.path.join(output_dir, \"images\")\n",
        "labels_dir = os.path.join(output_dir, \"labels\")\n",
        "class_folders = sorted(os.listdir(source_dir))\n",
        "class_map = {folder: idx for idx, folder in enumerate(class_folders)}\n",
        "# 7. Création du fichier dataset.yaml\n",
        "dataset_yaml = {\n",
        "    'path': output_dir,\n",
        "    'train': 'train/images',\n",
        "    'val': 'val/images',\n",
        "    'nc': len(class_map),\n",
        "    'names': [name for name in class_folders]\n",
        "}\n",
        "\n",
        "yaml_path = os.path.join(output_dir, 'dataset.yaml')\n",
        "with open(yaml_path, 'w') as f:\n",
        "    yaml.dump(dataset_yaml, f, sort_keys=False)\n",
        "\n",
        "print(f\"\\n✅ Fichier 'dataset.yaml' créé ici : {yaml_path}\")"
      ],
      "metadata": {
        "colab": {
          "base_uri": "https://localhost:8080/"
        },
        "id": "RyNiU-CZpyq_",
        "outputId": "02e10534-43b7-44d3-e273-79c7461190f8"
      },
      "execution_count": null,
      "outputs": [
        {
          "output_type": "stream",
          "name": "stdout",
          "text": [
            "\n",
            "✅ Fichier 'dataset.yaml' créé ici : /content/drive/MyDrive/SLI2/dataset/dataset.yaml\n"
          ]
        }
      ]
    },
    {
      "cell_type": "code",
      "source": [
        "from ultralytics import YOLO\n",
        "import torch\n",
        "import os\n",
        "\n",
        "#  Pour éviter les erreurs liées à OpenMP\n",
        "os.environ['KMP_DUPLICATE_LIB_OK'] = 'TRUE'\n",
        "\n",
        "# === CONFIGURATION ===\n",
        "#  Assure-toi que ce chemin soit accessible. Tu peux soit :\n",
        "# - Mettre le fichier dataset.yaml dans Colab (/content/)\n",
        "# - OU le laisser dans Drive si tu veux\n",
        "yaml_path = '/content/drive/MyDrive/sli1/dataset/dataset.yaml'  #  Mets ton fichier ici via upload ou copie depuis Drive\n",
        "model_name = 'yolov8n.pt'            #  Ce modèle sera téléchargé automatiquement par Ultralytics\n",
        "project_name = 'sli_detector'\n",
        "\n",
        "def train_model():\n",
        "    print(f\" Configuration utilisée : {yaml_path}\")\n",
        "\n",
        "    #  Chargement automatique du modèle YOLOv8 nano\n",
        "    #  Pas besoin de le télécharger manuellement, Ultralytics le fait pour toi\n",
        "    model = YOLO(model_name)\n",
        "\n",
        "    #  Entraînement du modèle\n",
        "    results = model.train(\n",
        "        data=yaml_path,              # fichier .yaml avec les chemins vers tes images\n",
        "        epochs=100,                  # nombre d’époques\n",
        "        imgsz=640,                   # taille des images\n",
        "        batch=16,                    # taille de lot\n",
        "        name=project_name,           # nom du projet\n",
        "        verbose=True,                # affichage des logs\n",
        "        device='0' if torch.cuda.is_available() else 'cpu',  # GPU si dispo\n",
        "        patience=20,                 # early stopping\n",
        "        save=True,                   # sauvegarde des checkpoints\n",
        "        pretrained=True,             # utilise le modèle pré-entraîné\n",
        "        optimizer='auto',             # choix automatique de l’optimiseur\n",
        "        val=True,                    # forcer l'évaluation à chaque epoch\n",
        "        seed=42                      # pour reproductibilité\n",
        "    )\n",
        "\n",
        "    return results\n",
        "\n",
        "if __name__ == \"__main__\":\n",
        "    print(\"==>  Démarrage de l'entraînement du modèle YOLOv8...\")\n",
        "\n",
        "    if not os.path.exists(yaml_path):\n",
        "        print(f\" ERREUR : Fichier dataset.yaml introuvable à : {yaml_path}\")\n",
        "    else:\n",
        "        results = train_model()\n",
        "        print(\"\\n Entraînement terminé !\")\n",
        "        print(f\" Meilleur modèle sauvegardé ici : runs/detect/{project_name}/weights/best.pt\")\n"
      ],
      "metadata": {
        "colab": {
          "base_uri": "https://localhost:8080/"
        },
        "id": "O7w3IY3Ac5zG",
        "outputId": "e4a5eccb-ccbb-46a5-ddee-d894b592bf9d"
      },
      "execution_count": null,
      "outputs": [
        {
          "output_type": "stream",
          "name": "stdout",
          "text": [
            "==>  Démarrage de l'entraînement du modèle YOLOv8...\n",
            " Configuration utilisée : /content/drive/MyDrive/sli1/dataset/dataset.yaml\n",
            "Ultralytics 8.3.113 🚀 Python-3.11.12 torch-2.6.0+cu124 CUDA:0 (Tesla T4, 15095MiB)\n",
            "\u001b[34m\u001b[1mengine/trainer: \u001b[0mtask=detect, mode=train, model=yolov8n.pt, data=/content/drive/MyDrive/sli1/dataset/dataset.yaml, epochs=100, time=None, patience=20, batch=16, imgsz=640, save=True, save_period=-1, cache=False, device=0, workers=8, project=None, name=sli_detector2, exist_ok=False, pretrained=True, optimizer=auto, verbose=True, seed=42, deterministic=True, single_cls=False, rect=False, cos_lr=False, close_mosaic=10, resume=False, amp=True, fraction=1.0, profile=False, freeze=None, multi_scale=False, overlap_mask=True, mask_ratio=4, dropout=0.0, val=True, split=val, save_json=False, conf=None, iou=0.7, max_det=300, half=False, dnn=False, plots=True, source=None, vid_stride=1, stream_buffer=False, visualize=False, augment=False, agnostic_nms=False, classes=None, retina_masks=False, embed=None, show=False, save_frames=False, save_txt=False, save_conf=False, save_crop=False, show_labels=True, show_conf=True, show_boxes=True, line_width=None, format=torchscript, keras=False, optimize=False, int8=False, dynamic=False, simplify=True, opset=None, workspace=None, nms=False, lr0=0.01, lrf=0.01, momentum=0.937, weight_decay=0.0005, warmup_epochs=3.0, warmup_momentum=0.8, warmup_bias_lr=0.1, box=7.5, cls=0.5, dfl=1.5, pose=12.0, kobj=1.0, nbs=64, hsv_h=0.015, hsv_s=0.7, hsv_v=0.4, degrees=0.0, translate=0.1, scale=0.5, shear=0.0, perspective=0.0, flipud=0.0, fliplr=0.5, bgr=0.0, mosaic=1.0, mixup=0.0, copy_paste=0.0, copy_paste_mode=flip, auto_augment=randaugment, erasing=0.4, cfg=None, tracker=botsort.yaml, save_dir=runs/detect/sli_detector2\n",
            "Overriding model.yaml nc=80 with nc=16\n",
            "\n",
            "                   from  n    params  module                                       arguments                     \n",
            "  0                  -1  1       464  ultralytics.nn.modules.conv.Conv             [3, 16, 3, 2]                 \n",
            "  1                  -1  1      4672  ultralytics.nn.modules.conv.Conv             [16, 32, 3, 2]                \n",
            "  2                  -1  1      7360  ultralytics.nn.modules.block.C2f             [32, 32, 1, True]             \n",
            "  3                  -1  1     18560  ultralytics.nn.modules.conv.Conv             [32, 64, 3, 2]                \n",
            "  4                  -1  2     49664  ultralytics.nn.modules.block.C2f             [64, 64, 2, True]             \n",
            "  5                  -1  1     73984  ultralytics.nn.modules.conv.Conv             [64, 128, 3, 2]               \n",
            "  6                  -1  2    197632  ultralytics.nn.modules.block.C2f             [128, 128, 2, True]           \n",
            "  7                  -1  1    295424  ultralytics.nn.modules.conv.Conv             [128, 256, 3, 2]              \n",
            "  8                  -1  1    460288  ultralytics.nn.modules.block.C2f             [256, 256, 1, True]           \n",
            "  9                  -1  1    164608  ultralytics.nn.modules.block.SPPF            [256, 256, 5]                 \n",
            " 10                  -1  1         0  torch.nn.modules.upsampling.Upsample         [None, 2, 'nearest']          \n",
            " 11             [-1, 6]  1         0  ultralytics.nn.modules.conv.Concat           [1]                           \n",
            " 12                  -1  1    148224  ultralytics.nn.modules.block.C2f             [384, 128, 1]                 \n",
            " 13                  -1  1         0  torch.nn.modules.upsampling.Upsample         [None, 2, 'nearest']          \n",
            " 14             [-1, 4]  1         0  ultralytics.nn.modules.conv.Concat           [1]                           \n",
            " 15                  -1  1     37248  ultralytics.nn.modules.block.C2f             [192, 64, 1]                  \n",
            " 16                  -1  1     36992  ultralytics.nn.modules.conv.Conv             [64, 64, 3, 2]                \n",
            " 17            [-1, 12]  1         0  ultralytics.nn.modules.conv.Concat           [1]                           \n",
            " 18                  -1  1    123648  ultralytics.nn.modules.block.C2f             [192, 128, 1]                 \n",
            " 19                  -1  1    147712  ultralytics.nn.modules.conv.Conv             [128, 128, 3, 2]              \n",
            " 20             [-1, 9]  1         0  ultralytics.nn.modules.conv.Concat           [1]                           \n",
            " 21                  -1  1    493056  ultralytics.nn.modules.block.C2f             [384, 256, 1]                 \n",
            " 22        [15, 18, 21]  1    754432  ultralytics.nn.modules.head.Detect           [16, [64, 128, 256]]          \n",
            "Model summary: 129 layers, 3,013,968 parameters, 3,013,952 gradients, 8.2 GFLOPs\n",
            "\n",
            "Transferred 319/355 items from pretrained weights\n",
            "Freezing layer 'model.22.dfl.conv.weight'\n",
            "\u001b[34m\u001b[1mAMP: \u001b[0mrunning Automatic Mixed Precision (AMP) checks...\n",
            "\u001b[34m\u001b[1mAMP: \u001b[0mchecks passed ✅\n",
            "\u001b[34m\u001b[1mtrain: \u001b[0mFast image access ✅ (ping: 1.6±2.8 ms, read: 1.4±1.1 MB/s, size: 5.8 KB)\n"
          ]
        },
        {
          "output_type": "stream",
          "name": "stderr",
          "text": [
            "\u001b[34m\u001b[1mtrain: \u001b[0mScanning /content/drive/MyDrive/sli1/dataset/train/labels.cache... 13284 images, 0 backgrounds, 0 corrupt: 100%|██████████| 13284/13284 [00:00<?, ?it/s]\n"
          ]
        },
        {
          "output_type": "stream",
          "name": "stdout",
          "text": [
            "\u001b[34m\u001b[1malbumentations: \u001b[0mBlur(p=0.01, blur_limit=(3, 7)), MedianBlur(p=0.01, blur_limit=(3, 7)), ToGray(p=0.01, num_output_channels=3, method='weighted_average'), CLAHE(p=0.01, clip_limit=(1.0, 4.0), tile_grid_size=(8, 8))\n",
            "\u001b[34m\u001b[1mval: \u001b[0mFast image access ✅ (ping: 1.6±2.8 ms, read: 3.0±1.7 MB/s, size: 4.3 KB)\n"
          ]
        },
        {
          "output_type": "stream",
          "name": "stderr",
          "text": [
            "\u001b[34m\u001b[1mval: \u001b[0mScanning /content/drive/MyDrive/sli1/dataset/val/labels.cache... 3322 images, 0 backgrounds, 0 corrupt: 100%|██████████| 3322/3322 [00:00<?, ?it/s]\n"
          ]
        },
        {
          "output_type": "stream",
          "name": "stdout",
          "text": [
            "Plotting labels to runs/detect/sli_detector2/labels.jpg... \n",
            "\u001b[34m\u001b[1moptimizer:\u001b[0m 'optimizer=auto' found, ignoring 'lr0=0.01' and 'momentum=0.937' and determining best 'optimizer', 'lr0' and 'momentum' automatically... \n",
            "\u001b[34m\u001b[1moptimizer:\u001b[0m SGD(lr=0.01, momentum=0.9) with parameter groups 57 weight(decay=0.0), 64 weight(decay=0.0005), 63 bias(decay=0.0)\n",
            "Image sizes 640 train, 640 val\n",
            "Using 2 dataloader workers\n",
            "Logging results to \u001b[1mruns/detect/sli_detector2\u001b[0m\n",
            "Starting training for 100 epochs...\n",
            "\n",
            "      Epoch    GPU_mem   box_loss   cls_loss   dfl_loss  Instances       Size\n"
          ]
        },
        {
          "output_type": "stream",
          "name": "stderr",
          "text": [
            "      1/100      2.06G      1.099      2.981      1.382          6        640: 100%|██████████| 831/831 [35:13<00:00,  2.54s/it]\n",
            "                 Class     Images  Instances      Box(P          R      mAP50  mAP50-95): 100%|██████████| 104/104 [00:35<00:00,  2.97it/s]\n"
          ]
        },
        {
          "output_type": "stream",
          "name": "stdout",
          "text": [
            "                   all       3322       3322      0.799      0.512      0.604      0.467\n",
            "\n",
            "      Epoch    GPU_mem   box_loss   cls_loss   dfl_loss  Instances       Size\n"
          ]
        },
        {
          "output_type": "stream",
          "name": "stderr",
          "text": [
            "      2/100      2.97G     0.8227      1.591      1.143          9        640: 100%|██████████| 831/831 [04:12<00:00,  3.29it/s]\n",
            "                 Class     Images  Instances      Box(P          R      mAP50  mAP50-95): 100%|██████████| 104/104 [00:31<00:00,  3.28it/s]\n"
          ]
        },
        {
          "output_type": "stream",
          "name": "stdout",
          "text": [
            "                   all       3322       3322      0.842      0.643      0.733      0.615\n",
            "\n",
            "      Epoch    GPU_mem   box_loss   cls_loss   dfl_loss  Instances       Size\n"
          ]
        },
        {
          "output_type": "stream",
          "name": "stderr",
          "text": [
            "      3/100      2.97G     0.8008      1.256      1.119          5        640: 100%|██████████| 831/831 [04:11<00:00,  3.30it/s]\n",
            "                 Class     Images  Instances      Box(P          R      mAP50  mAP50-95): 100%|██████████| 104/104 [00:30<00:00,  3.44it/s]"
          ]
        },
        {
          "output_type": "stream",
          "name": "stdout",
          "text": [
            "                   all       3322       3322      0.807      0.652      0.753       0.64\n"
          ]
        },
        {
          "output_type": "stream",
          "name": "stderr",
          "text": [
            "\n"
          ]
        },
        {
          "output_type": "stream",
          "name": "stdout",
          "text": [
            "\n",
            "      Epoch    GPU_mem   box_loss   cls_loss   dfl_loss  Instances       Size\n"
          ]
        },
        {
          "output_type": "stream",
          "name": "stderr",
          "text": [
            "      4/100      2.97G     0.7602     0.9959      1.101         11        640: 100%|██████████| 831/831 [04:11<00:00,  3.31it/s]\n",
            "                 Class     Images  Instances      Box(P          R      mAP50  mAP50-95): 100%|██████████| 104/104 [00:30<00:00,  3.43it/s]"
          ]
        },
        {
          "output_type": "stream",
          "name": "stdout",
          "text": [
            "                   all       3322       3322      0.952      0.763      0.834      0.733\n"
          ]
        },
        {
          "output_type": "stream",
          "name": "stderr",
          "text": [
            "\n"
          ]
        },
        {
          "output_type": "stream",
          "name": "stdout",
          "text": [
            "\n",
            "      Epoch    GPU_mem   box_loss   cls_loss   dfl_loss  Instances       Size\n"
          ]
        },
        {
          "output_type": "stream",
          "name": "stderr",
          "text": [
            "      5/100      2.97G     0.6984     0.8164      1.069         11        640: 100%|██████████| 831/831 [04:10<00:00,  3.31it/s]\n",
            "                 Class     Images  Instances      Box(P          R      mAP50  mAP50-95): 100%|██████████| 104/104 [00:30<00:00,  3.45it/s]"
          ]
        },
        {
          "output_type": "stream",
          "name": "stdout",
          "text": [
            "                   all       3322       3322      0.883      0.774      0.865       0.77\n"
          ]
        },
        {
          "output_type": "stream",
          "name": "stderr",
          "text": [
            "\n"
          ]
        },
        {
          "output_type": "stream",
          "name": "stdout",
          "text": [
            "\n",
            "      Epoch    GPU_mem   box_loss   cls_loss   dfl_loss  Instances       Size\n"
          ]
        },
        {
          "output_type": "stream",
          "name": "stderr",
          "text": [
            "      6/100      2.97G     0.6514     0.7207      1.046         13        640: 100%|██████████| 831/831 [04:16<00:00,  3.24it/s]\n",
            "                 Class     Images  Instances      Box(P          R      mAP50  mAP50-95): 100%|██████████| 104/104 [00:32<00:00,  3.22it/s]"
          ]
        },
        {
          "output_type": "stream",
          "name": "stdout",
          "text": [
            "                   all       3322       3322      0.809       0.88      0.856      0.796\n"
          ]
        },
        {
          "output_type": "stream",
          "name": "stderr",
          "text": [
            "\n"
          ]
        },
        {
          "output_type": "stream",
          "name": "stdout",
          "text": [
            "\n",
            "      Epoch    GPU_mem   box_loss   cls_loss   dfl_loss  Instances       Size\n"
          ]
        },
        {
          "output_type": "stream",
          "name": "stderr",
          "text": [
            "      7/100      2.99G     0.6248       0.68      1.037         10        640: 100%|██████████| 831/831 [04:31<00:00,  3.06it/s]\n",
            "                 Class     Images  Instances      Box(P          R      mAP50  mAP50-95): 100%|██████████| 104/104 [00:30<00:00,  3.37it/s]\n"
          ]
        },
        {
          "output_type": "stream",
          "name": "stdout",
          "text": [
            "                   all       3322       3322      0.889      0.877        0.9      0.836\n",
            "\n",
            "      Epoch    GPU_mem   box_loss   cls_loss   dfl_loss  Instances       Size\n"
          ]
        },
        {
          "output_type": "stream",
          "name": "stderr",
          "text": [
            "      8/100      2.99G     0.6022     0.6393      1.026          9        640: 100%|██████████| 831/831 [04:14<00:00,  3.26it/s]\n",
            "                 Class     Images  Instances      Box(P          R      mAP50  mAP50-95): 100%|██████████| 104/104 [00:32<00:00,  3.25it/s]"
          ]
        },
        {
          "output_type": "stream",
          "name": "stdout",
          "text": [
            "                   all       3322       3322      0.849      0.949      0.907      0.842\n"
          ]
        },
        {
          "output_type": "stream",
          "name": "stderr",
          "text": [
            "\n"
          ]
        },
        {
          "output_type": "stream",
          "name": "stdout",
          "text": [
            "\n",
            "      Epoch    GPU_mem   box_loss   cls_loss   dfl_loss  Instances       Size\n"
          ]
        },
        {
          "output_type": "stream",
          "name": "stderr",
          "text": [
            "      9/100      2.99G     0.5885     0.6135      1.022          9        640: 100%|██████████| 831/831 [04:17<00:00,  3.22it/s]\n",
            "                 Class     Images  Instances      Box(P          R      mAP50  mAP50-95): 100%|██████████| 104/104 [00:30<00:00,  3.38it/s]"
          ]
        },
        {
          "output_type": "stream",
          "name": "stdout",
          "text": [
            "                   all       3322       3322      0.851      0.922      0.919      0.848\n"
          ]
        },
        {
          "output_type": "stream",
          "name": "stderr",
          "text": [
            "\n"
          ]
        },
        {
          "output_type": "stream",
          "name": "stdout",
          "text": [
            "\n",
            "      Epoch    GPU_mem   box_loss   cls_loss   dfl_loss  Instances       Size\n"
          ]
        },
        {
          "output_type": "stream",
          "name": "stderr",
          "text": [
            "     10/100      2.99G     0.5758     0.5948      1.015          5        640: 100%|██████████| 831/831 [04:15<00:00,  3.25it/s]\n",
            "                 Class     Images  Instances      Box(P          R      mAP50  mAP50-95): 100%|██████████| 104/104 [00:30<00:00,  3.36it/s]"
          ]
        },
        {
          "output_type": "stream",
          "name": "stdout",
          "text": [
            "                   all       3322       3322      0.993      0.859      0.931      0.885\n"
          ]
        },
        {
          "output_type": "stream",
          "name": "stderr",
          "text": [
            "\n"
          ]
        },
        {
          "output_type": "stream",
          "name": "stdout",
          "text": [
            "\n",
            "      Epoch    GPU_mem   box_loss   cls_loss   dfl_loss  Instances       Size\n"
          ]
        },
        {
          "output_type": "stream",
          "name": "stderr",
          "text": [
            "     11/100      2.99G     0.5633     0.5792       1.01         11        640: 100%|██████████| 831/831 [04:14<00:00,  3.27it/s]\n",
            "                 Class     Images  Instances      Box(P          R      mAP50  mAP50-95): 100%|██████████| 104/104 [00:31<00:00,  3.35it/s]"
          ]
        },
        {
          "output_type": "stream",
          "name": "stdout",
          "text": [
            "                   all       3322       3322      0.921      0.918      0.919      0.873\n"
          ]
        },
        {
          "output_type": "stream",
          "name": "stderr",
          "text": [
            "\n"
          ]
        },
        {
          "output_type": "stream",
          "name": "stdout",
          "text": [
            "\n",
            "      Epoch    GPU_mem   box_loss   cls_loss   dfl_loss  Instances       Size\n"
          ]
        },
        {
          "output_type": "stream",
          "name": "stderr",
          "text": [
            "     12/100      2.99G      0.552     0.5592      1.007         10        640: 100%|██████████| 831/831 [04:13<00:00,  3.27it/s]\n",
            "                 Class     Images  Instances      Box(P          R      mAP50  mAP50-95):   3%|▎         | 3/104 [00:01<00:39,  2.58it/s]"
          ]
        }
      ]
    },
    {
      "cell_type": "code",
      "source": [
        "import os\n",
        "print([f for f in os.listdir() if f.startswith(\"torch\")])"
      ],
      "metadata": {
        "id": "r3dP3wgW1bx9",
        "colab": {
          "base_uri": "https://localhost:8080/"
        },
        "outputId": "85ebac5d-5860-4e58-dbf6-45c71c883f0f"
      },
      "execution_count": null,
      "outputs": [
        {
          "output_type": "stream",
          "name": "stdout",
          "text": [
            "[]\n"
          ]
        }
      ]
    },
    {
      "cell_type": "code",
      "source": [
        "import os\n",
        "os.kill(os.getpid(), 9)"
      ],
      "metadata": {
        "id": "DVHR3Yxqr9jN"
      },
      "execution_count": null,
      "outputs": []
    },
    {
      "cell_type": "code",
      "source": [
        "from ultralytics import YOLO\n",
        "import torch\n",
        "import os\n",
        "import yaml\n",
        "import shutil\n",
        "\n",
        "# Fix OpenMP runtime error\n",
        "os.environ['KMP_DUPLICATE_LIB_OK'] = 'TRUE'\n",
        "\n",
        "def create_dataset_yaml(dataset_dir):\n",
        "    yaml_content = {\n",
        "        'path': dataset_dir,  # dataset root dir\n",
        "        'train': 'train/images',  # train images\n",
        "        'val': 'val/images',      # val images\n",
        "        'test': 'test/images',    # test images\n",
        "        'nc': 12,  # number of classes\n",
        "        'names': {  # class names\n",
        "            0: 'speed_limit_20',\n",
        "            1: 'speed_limit_30',\n",
        "            2: 'speed_limit_50',\n",
        "            3: 'speed_limit_60',\n",
        "            4: 'speed_limit_70',\n",
        "            5: 'speed_limit_80',\n",
        "            6: 'speed_limit_100',\n",
        "            7: 'speed_limit_120',\n",
        "            8: 'speed_limit_90',\n",
        "            9: 'speed_limit_110',\n",
        "            10: 'speed_limit_130',\n",
        "            11: 'speed_limit_unknown'  # Add this for any unexpected classes\n",
        "        }\n",
        "    }\n",
        "    yaml_path = os.path.join(os.path.dirname(dataset_dir), 'dataset.yaml')\n",
        "    with open(yaml_path, 'w') as f:\n",
        "        yaml.dump(yaml_content, f, sort_keys=False)\n",
        "    print(f\"Created dataset.yaml at: {yaml_path}\")\n",
        "    return yaml_path\n",
        "\n",
        "def setup_dataset_structure():\n",
        "    # Define base directory\n",
        "    base_dir = os.path.dirname(os.path.abspath(__file__))\n",
        "    dataset_dir = os.path.join(base_dir, 'dataset')\n",
        "\n",
        "    # Create dataset directories\n",
        "    dirs = [\n",
        "        os.path.join(dataset_dir, 'train', 'images'),\n",
        "        os.path.join(dataset_dir, 'train', 'labels'),\n",
        "        os.path.join(dataset_dir, 'val', 'images'),\n",
        "        os.path.join(dataset_dir, 'val', 'labels'),\n",
        "        os.path.join(dataset_dir, 'test', 'images'),\n",
        "        os.path.join(dataset_dir, 'test', 'labels')\n",
        "    ]\n",
        "\n",
        "    for d in dirs:\n",
        "        os.makedirs(d, exist_ok=True)\n",
        "        print(f\"Created directory: {d}\")\n",
        "\n",
        "    return dataset_dir\n",
        "\n",
        "def train_model():\n",
        "    # Setup dataset structure\n",
        "    dataset_dir = setup_dataset_structure()\n",
        "\n",
        "    # Check if dataset directories are empty\n",
        "    train_images = os.path.join(dataset_dir, 'train', 'images')\n",
        "    if not os.listdir(train_images):\n",
        "        print(f\"Warning: Training images directory is empty: {train_images}\")\n",
        "        print(\"Please copy your dataset files to the correct directories before training.\")\n",
        "        return None\n",
        "\n",
        "    # Create dataset.yaml\n",
        "    yaml_path = create_dataset_yaml(dataset_dir)\n",
        "\n",
        "    # Load a model\n",
        "    model = YOLO('yolov8n.pt')  # load pretrained model\n",
        "\n",
        "    # Train the model\n",
        "    results = model.train(\n",
        "        data=yaml_path,\n",
        "        epochs=30,\n",
        "        imgsz=640,\n",
        "        batch=-1,\n",
        "        name='speed_limit_detector',\n",
        "        verbose=True,\n",
        "        device='0' if torch.cuda.is_available() else 'cpu',\n",
        "        patience=20,  # Early stopping patience\n",
        "        save=True,    # Save checkpoints\n",
        "        pretrained=True,\n",
        "        optimizer='auto'\n",
        "    )\n",
        "\n",
        "    return results\n",
        "\n",
        "if __name__ == \"__main__\":\n",
        "    print(\"Setting up dataset structure...\")\n",
        "    dataset_dir = setup_dataset_structure()\n",
        "\n",
        "    print(\"\\nPlease ensure your dataset files are in these directories:\")\n",
        "    print(f\"Training images: {os.path.join(dataset_dir, 'train', 'images')}\")\n",
        "    print(f\"Training labels: {os.path.join(dataset_dir, 'train', 'labels')}\")\n",
        "    print(f\"Validation images: {os.path.join(dataset_dir, 'val', 'images')}\")\n",
        "    print(f\"Validation labels: {os.path.join(dataset_dir, 'val', 'labels')}\")\n",
        "\n",
        "    user_input = input(\"\\nHave you copied your dataset files to these directories? (yes/no): \")\n",
        "    if user_input.lower() == 'yes':\n",
        "        print(\"\\nStarting training...\")\n",
        "        results = train_model()\n",
        "        if results:\n",
        "            print(\"Training completed successfully!\")\n",
        "            print(\"Best model saved at: runs/detect/speed_limit_detector/weights/best.pt\")\n",
        "    else:\n",
        "        print(\"\\nPlease copy your dataset files to the correct directories and run the script again.\")"
      ],
      "metadata": {
        "id": "wkBCs7U_sOFA"
      },
      "execution_count": null,
      "outputs": []
    },
    {
      "cell_type": "markdown",
      "source": [
        "## new test"
      ],
      "metadata": {
        "id": "aSlzZCZq-njA"
      }
    },
    {
      "cell_type": "code",
      "source": [
        "pip install ultralytics"
      ],
      "metadata": {
        "id": "NpxmMBKj-r1h",
        "colab": {
          "base_uri": "https://localhost:8080/"
        },
        "outputId": "005e18c6-d712-4e9b-fc5e-ad0960d66307"
      },
      "execution_count": null,
      "outputs": [
        {
          "output_type": "stream",
          "name": "stdout",
          "text": [
            "Collecting ultralytics\n",
            "  Downloading ultralytics-8.3.136-py3-none-any.whl.metadata (37 kB)\n",
            "Requirement already satisfied: numpy>=1.23.0 in /usr/local/lib/python3.11/dist-packages (from ultralytics) (2.0.2)\n",
            "Requirement already satisfied: matplotlib>=3.3.0 in /usr/local/lib/python3.11/dist-packages (from ultralytics) (3.10.0)\n",
            "Requirement already satisfied: opencv-python>=4.6.0 in /usr/local/lib/python3.11/dist-packages (from ultralytics) (4.11.0.86)\n",
            "Requirement already satisfied: pillow>=7.1.2 in /usr/local/lib/python3.11/dist-packages (from ultralytics) (11.2.1)\n",
            "Requirement already satisfied: pyyaml>=5.3.1 in /usr/local/lib/python3.11/dist-packages (from ultralytics) (6.0.2)\n",
            "Requirement already satisfied: requests>=2.23.0 in /usr/local/lib/python3.11/dist-packages (from ultralytics) (2.32.3)\n",
            "Requirement already satisfied: scipy>=1.4.1 in /usr/local/lib/python3.11/dist-packages (from ultralytics) (1.15.3)\n",
            "Requirement already satisfied: torch>=1.8.0 in /usr/local/lib/python3.11/dist-packages (from ultralytics) (2.6.0+cu124)\n",
            "Requirement already satisfied: torchvision>=0.9.0 in /usr/local/lib/python3.11/dist-packages (from ultralytics) (0.21.0+cu124)\n",
            "Requirement already satisfied: tqdm>=4.64.0 in /usr/local/lib/python3.11/dist-packages (from ultralytics) (4.67.1)\n",
            "Requirement already satisfied: psutil in /usr/local/lib/python3.11/dist-packages (from ultralytics) (5.9.5)\n",
            "Requirement already satisfied: py-cpuinfo in /usr/local/lib/python3.11/dist-packages (from ultralytics) (9.0.0)\n",
            "Requirement already satisfied: pandas>=1.1.4 in /usr/local/lib/python3.11/dist-packages (from ultralytics) (2.2.2)\n",
            "Collecting ultralytics-thop>=2.0.0 (from ultralytics)\n",
            "  Downloading ultralytics_thop-2.0.14-py3-none-any.whl.metadata (9.4 kB)\n",
            "Requirement already satisfied: contourpy>=1.0.1 in /usr/local/lib/python3.11/dist-packages (from matplotlib>=3.3.0->ultralytics) (1.3.2)\n",
            "Requirement already satisfied: cycler>=0.10 in /usr/local/lib/python3.11/dist-packages (from matplotlib>=3.3.0->ultralytics) (0.12.1)\n",
            "Requirement already satisfied: fonttools>=4.22.0 in /usr/local/lib/python3.11/dist-packages (from matplotlib>=3.3.0->ultralytics) (4.58.0)\n",
            "Requirement already satisfied: kiwisolver>=1.3.1 in /usr/local/lib/python3.11/dist-packages (from matplotlib>=3.3.0->ultralytics) (1.4.8)\n",
            "Requirement already satisfied: packaging>=20.0 in /usr/local/lib/python3.11/dist-packages (from matplotlib>=3.3.0->ultralytics) (24.2)\n",
            "Requirement already satisfied: pyparsing>=2.3.1 in /usr/local/lib/python3.11/dist-packages (from matplotlib>=3.3.0->ultralytics) (3.2.3)\n",
            "Requirement already satisfied: python-dateutil>=2.7 in /usr/local/lib/python3.11/dist-packages (from matplotlib>=3.3.0->ultralytics) (2.9.0.post0)\n",
            "Requirement already satisfied: pytz>=2020.1 in /usr/local/lib/python3.11/dist-packages (from pandas>=1.1.4->ultralytics) (2025.2)\n",
            "Requirement already satisfied: tzdata>=2022.7 in /usr/local/lib/python3.11/dist-packages (from pandas>=1.1.4->ultralytics) (2025.2)\n",
            "Requirement already satisfied: charset-normalizer<4,>=2 in /usr/local/lib/python3.11/dist-packages (from requests>=2.23.0->ultralytics) (3.4.2)\n",
            "Requirement already satisfied: idna<4,>=2.5 in /usr/local/lib/python3.11/dist-packages (from requests>=2.23.0->ultralytics) (3.10)\n",
            "Requirement already satisfied: urllib3<3,>=1.21.1 in /usr/local/lib/python3.11/dist-packages (from requests>=2.23.0->ultralytics) (2.4.0)\n",
            "Requirement already satisfied: certifi>=2017.4.17 in /usr/local/lib/python3.11/dist-packages (from requests>=2.23.0->ultralytics) (2025.4.26)\n",
            "Requirement already satisfied: filelock in /usr/local/lib/python3.11/dist-packages (from torch>=1.8.0->ultralytics) (3.18.0)\n",
            "Requirement already satisfied: typing-extensions>=4.10.0 in /usr/local/lib/python3.11/dist-packages (from torch>=1.8.0->ultralytics) (4.13.2)\n",
            "Requirement already satisfied: networkx in /usr/local/lib/python3.11/dist-packages (from torch>=1.8.0->ultralytics) (3.4.2)\n",
            "Requirement already satisfied: jinja2 in /usr/local/lib/python3.11/dist-packages (from torch>=1.8.0->ultralytics) (3.1.6)\n",
            "Requirement already satisfied: fsspec in /usr/local/lib/python3.11/dist-packages (from torch>=1.8.0->ultralytics) (2025.3.2)\n",
            "Collecting nvidia-cuda-nvrtc-cu12==12.4.127 (from torch>=1.8.0->ultralytics)\n",
            "  Downloading nvidia_cuda_nvrtc_cu12-12.4.127-py3-none-manylinux2014_x86_64.whl.metadata (1.5 kB)\n",
            "Collecting nvidia-cuda-runtime-cu12==12.4.127 (from torch>=1.8.0->ultralytics)\n",
            "  Downloading nvidia_cuda_runtime_cu12-12.4.127-py3-none-manylinux2014_x86_64.whl.metadata (1.5 kB)\n",
            "Collecting nvidia-cuda-cupti-cu12==12.4.127 (from torch>=1.8.0->ultralytics)\n",
            "  Downloading nvidia_cuda_cupti_cu12-12.4.127-py3-none-manylinux2014_x86_64.whl.metadata (1.6 kB)\n",
            "Collecting nvidia-cudnn-cu12==9.1.0.70 (from torch>=1.8.0->ultralytics)\n",
            "  Downloading nvidia_cudnn_cu12-9.1.0.70-py3-none-manylinux2014_x86_64.whl.metadata (1.6 kB)\n",
            "Collecting nvidia-cublas-cu12==12.4.5.8 (from torch>=1.8.0->ultralytics)\n",
            "  Downloading nvidia_cublas_cu12-12.4.5.8-py3-none-manylinux2014_x86_64.whl.metadata (1.5 kB)\n",
            "Collecting nvidia-cufft-cu12==11.2.1.3 (from torch>=1.8.0->ultralytics)\n",
            "  Downloading nvidia_cufft_cu12-11.2.1.3-py3-none-manylinux2014_x86_64.whl.metadata (1.5 kB)\n",
            "Collecting nvidia-curand-cu12==10.3.5.147 (from torch>=1.8.0->ultralytics)\n",
            "  Downloading nvidia_curand_cu12-10.3.5.147-py3-none-manylinux2014_x86_64.whl.metadata (1.5 kB)\n",
            "Collecting nvidia-cusolver-cu12==11.6.1.9 (from torch>=1.8.0->ultralytics)\n",
            "  Downloading nvidia_cusolver_cu12-11.6.1.9-py3-none-manylinux2014_x86_64.whl.metadata (1.6 kB)\n",
            "Collecting nvidia-cusparse-cu12==12.3.1.170 (from torch>=1.8.0->ultralytics)\n",
            "  Downloading nvidia_cusparse_cu12-12.3.1.170-py3-none-manylinux2014_x86_64.whl.metadata (1.6 kB)\n",
            "Requirement already satisfied: nvidia-cusparselt-cu12==0.6.2 in /usr/local/lib/python3.11/dist-packages (from torch>=1.8.0->ultralytics) (0.6.2)\n",
            "Requirement already satisfied: nvidia-nccl-cu12==2.21.5 in /usr/local/lib/python3.11/dist-packages (from torch>=1.8.0->ultralytics) (2.21.5)\n",
            "Requirement already satisfied: nvidia-nvtx-cu12==12.4.127 in /usr/local/lib/python3.11/dist-packages (from torch>=1.8.0->ultralytics) (12.4.127)\n",
            "Collecting nvidia-nvjitlink-cu12==12.4.127 (from torch>=1.8.0->ultralytics)\n",
            "  Downloading nvidia_nvjitlink_cu12-12.4.127-py3-none-manylinux2014_x86_64.whl.metadata (1.5 kB)\n",
            "Requirement already satisfied: triton==3.2.0 in /usr/local/lib/python3.11/dist-packages (from torch>=1.8.0->ultralytics) (3.2.0)\n",
            "Requirement already satisfied: sympy==1.13.1 in /usr/local/lib/python3.11/dist-packages (from torch>=1.8.0->ultralytics) (1.13.1)\n",
            "Requirement already satisfied: mpmath<1.4,>=1.1.0 in /usr/local/lib/python3.11/dist-packages (from sympy==1.13.1->torch>=1.8.0->ultralytics) (1.3.0)\n",
            "Requirement already satisfied: six>=1.5 in /usr/local/lib/python3.11/dist-packages (from python-dateutil>=2.7->matplotlib>=3.3.0->ultralytics) (1.17.0)\n",
            "Requirement already satisfied: MarkupSafe>=2.0 in /usr/local/lib/python3.11/dist-packages (from jinja2->torch>=1.8.0->ultralytics) (3.0.2)\n",
            "Downloading ultralytics-8.3.136-py3-none-any.whl (1.0 MB)\n",
            "\u001b[2K   \u001b[90m━━━━━━━━━━━━━━━━━━━━━━━━━━━━━━━━━━━━━━━━\u001b[0m \u001b[32m1.0/1.0 MB\u001b[0m \u001b[31m60.5 MB/s\u001b[0m eta \u001b[36m0:00:00\u001b[0m\n",
            "\u001b[?25hDownloading nvidia_cublas_cu12-12.4.5.8-py3-none-manylinux2014_x86_64.whl (363.4 MB)\n",
            "\u001b[2K   \u001b[90m━━━━━━━━━━━━━━━━━━━━━━━━━━━━━━━━━━━━━━━━\u001b[0m \u001b[32m363.4/363.4 MB\u001b[0m \u001b[31m4.4 MB/s\u001b[0m eta \u001b[36m0:00:00\u001b[0m\n",
            "\u001b[?25hDownloading nvidia_cuda_cupti_cu12-12.4.127-py3-none-manylinux2014_x86_64.whl (13.8 MB)\n",
            "\u001b[2K   \u001b[90m━━━━━━━━━━━━━━━━━━━━━━━━━━━━━━━━━━━━━━━━\u001b[0m \u001b[32m13.8/13.8 MB\u001b[0m \u001b[31m53.5 MB/s\u001b[0m eta \u001b[36m0:00:00\u001b[0m\n",
            "\u001b[?25hDownloading nvidia_cuda_nvrtc_cu12-12.4.127-py3-none-manylinux2014_x86_64.whl (24.6 MB)\n",
            "\u001b[2K   \u001b[90m━━━━━━━━━━━━━━━━━━━━━━━━━━━━━━━━━━━━━━━━\u001b[0m \u001b[32m24.6/24.6 MB\u001b[0m \u001b[31m36.2 MB/s\u001b[0m eta \u001b[36m0:00:00\u001b[0m\n",
            "\u001b[?25hDownloading nvidia_cuda_runtime_cu12-12.4.127-py3-none-manylinux2014_x86_64.whl (883 kB)\n",
            "\u001b[2K   \u001b[90m━━━━━━━━━━━━━━━━━━━━━━━━━━━━━━━━━━━━━━━━\u001b[0m \u001b[32m883.7/883.7 kB\u001b[0m \u001b[31m41.7 MB/s\u001b[0m eta \u001b[36m0:00:00\u001b[0m\n",
            "\u001b[?25hDownloading nvidia_cudnn_cu12-9.1.0.70-py3-none-manylinux2014_x86_64.whl (664.8 MB)\n",
            "\u001b[2K   \u001b[90m━━━━━━━━━━━━━━━━━━━━━━━━━━━━━━━━━━━━━━━━\u001b[0m \u001b[32m664.8/664.8 MB\u001b[0m \u001b[31m2.3 MB/s\u001b[0m eta \u001b[36m0:00:00\u001b[0m\n",
            "\u001b[?25hDownloading nvidia_cufft_cu12-11.2.1.3-py3-none-manylinux2014_x86_64.whl (211.5 MB)\n",
            "\u001b[2K   \u001b[90m━━━━━━━━━━━━━━━━━━━━━━━━━━━━━━━━━━━━━━━━\u001b[0m \u001b[32m211.5/211.5 MB\u001b[0m \u001b[31m6.5 MB/s\u001b[0m eta \u001b[36m0:00:00\u001b[0m\n",
            "\u001b[?25hDownloading nvidia_curand_cu12-10.3.5.147-py3-none-manylinux2014_x86_64.whl (56.3 MB)\n",
            "\u001b[2K   \u001b[90m━━━━━━━━━━━━━━━━━━━━━━━━━━━━━━━━━━━━━━━━\u001b[0m \u001b[32m56.3/56.3 MB\u001b[0m \u001b[31m11.8 MB/s\u001b[0m eta \u001b[36m0:00:00\u001b[0m\n",
            "\u001b[?25hDownloading nvidia_cusolver_cu12-11.6.1.9-py3-none-manylinux2014_x86_64.whl (127.9 MB)\n",
            "\u001b[2K   \u001b[90m━━━━━━━━━━━━━━━━━━━━━━━━━━━━━━━━━━━━━━━━\u001b[0m \u001b[32m127.9/127.9 MB\u001b[0m \u001b[31m7.5 MB/s\u001b[0m eta \u001b[36m0:00:00\u001b[0m\n",
            "\u001b[?25hDownloading nvidia_cusparse_cu12-12.3.1.170-py3-none-manylinux2014_x86_64.whl (207.5 MB)\n",
            "\u001b[2K   \u001b[90m━━━━━━━━━━━━━━━━━━━━━━━━━━━━━━━━━━━━━━━━\u001b[0m \u001b[32m207.5/207.5 MB\u001b[0m \u001b[31m5.4 MB/s\u001b[0m eta \u001b[36m0:00:00\u001b[0m\n",
            "\u001b[?25hDownloading nvidia_nvjitlink_cu12-12.4.127-py3-none-manylinux2014_x86_64.whl (21.1 MB)\n",
            "\u001b[2K   \u001b[90m━━━━━━━━━━━━━━━━━━━━━━━━━━━━━━━━━━━━━━━━\u001b[0m \u001b[32m21.1/21.1 MB\u001b[0m \u001b[31m45.4 MB/s\u001b[0m eta \u001b[36m0:00:00\u001b[0m\n",
            "\u001b[?25hDownloading ultralytics_thop-2.0.14-py3-none-any.whl (26 kB)\n",
            "Installing collected packages: nvidia-nvjitlink-cu12, nvidia-curand-cu12, nvidia-cufft-cu12, nvidia-cuda-runtime-cu12, nvidia-cuda-nvrtc-cu12, nvidia-cuda-cupti-cu12, nvidia-cublas-cu12, nvidia-cusparse-cu12, nvidia-cudnn-cu12, nvidia-cusolver-cu12, ultralytics-thop, ultralytics\n",
            "  Attempting uninstall: nvidia-nvjitlink-cu12\n",
            "    Found existing installation: nvidia-nvjitlink-cu12 12.5.82\n",
            "    Uninstalling nvidia-nvjitlink-cu12-12.5.82:\n",
            "      Successfully uninstalled nvidia-nvjitlink-cu12-12.5.82\n",
            "  Attempting uninstall: nvidia-curand-cu12\n",
            "    Found existing installation: nvidia-curand-cu12 10.3.6.82\n",
            "    Uninstalling nvidia-curand-cu12-10.3.6.82:\n",
            "      Successfully uninstalled nvidia-curand-cu12-10.3.6.82\n",
            "  Attempting uninstall: nvidia-cufft-cu12\n",
            "    Found existing installation: nvidia-cufft-cu12 11.2.3.61\n",
            "    Uninstalling nvidia-cufft-cu12-11.2.3.61:\n",
            "      Successfully uninstalled nvidia-cufft-cu12-11.2.3.61\n",
            "  Attempting uninstall: nvidia-cuda-runtime-cu12\n",
            "    Found existing installation: nvidia-cuda-runtime-cu12 12.5.82\n",
            "    Uninstalling nvidia-cuda-runtime-cu12-12.5.82:\n",
            "      Successfully uninstalled nvidia-cuda-runtime-cu12-12.5.82\n",
            "  Attempting uninstall: nvidia-cuda-nvrtc-cu12\n",
            "    Found existing installation: nvidia-cuda-nvrtc-cu12 12.5.82\n",
            "    Uninstalling nvidia-cuda-nvrtc-cu12-12.5.82:\n",
            "      Successfully uninstalled nvidia-cuda-nvrtc-cu12-12.5.82\n",
            "  Attempting uninstall: nvidia-cuda-cupti-cu12\n",
            "    Found existing installation: nvidia-cuda-cupti-cu12 12.5.82\n",
            "    Uninstalling nvidia-cuda-cupti-cu12-12.5.82:\n",
            "      Successfully uninstalled nvidia-cuda-cupti-cu12-12.5.82\n",
            "  Attempting uninstall: nvidia-cublas-cu12\n",
            "    Found existing installation: nvidia-cublas-cu12 12.5.3.2\n",
            "    Uninstalling nvidia-cublas-cu12-12.5.3.2:\n",
            "      Successfully uninstalled nvidia-cublas-cu12-12.5.3.2\n",
            "  Attempting uninstall: nvidia-cusparse-cu12\n",
            "    Found existing installation: nvidia-cusparse-cu12 12.5.1.3\n",
            "    Uninstalling nvidia-cusparse-cu12-12.5.1.3:\n",
            "      Successfully uninstalled nvidia-cusparse-cu12-12.5.1.3\n",
            "  Attempting uninstall: nvidia-cudnn-cu12\n",
            "    Found existing installation: nvidia-cudnn-cu12 9.3.0.75\n",
            "    Uninstalling nvidia-cudnn-cu12-9.3.0.75:\n",
            "      Successfully uninstalled nvidia-cudnn-cu12-9.3.0.75\n",
            "  Attempting uninstall: nvidia-cusolver-cu12\n",
            "    Found existing installation: nvidia-cusolver-cu12 11.6.3.83\n",
            "    Uninstalling nvidia-cusolver-cu12-11.6.3.83:\n",
            "      Successfully uninstalled nvidia-cusolver-cu12-11.6.3.83\n",
            "Successfully installed nvidia-cublas-cu12-12.4.5.8 nvidia-cuda-cupti-cu12-12.4.127 nvidia-cuda-nvrtc-cu12-12.4.127 nvidia-cuda-runtime-cu12-12.4.127 nvidia-cudnn-cu12-9.1.0.70 nvidia-cufft-cu12-11.2.1.3 nvidia-curand-cu12-10.3.5.147 nvidia-cusolver-cu12-11.6.1.9 nvidia-cusparse-cu12-12.3.1.170 nvidia-nvjitlink-cu12-12.4.127 ultralytics-8.3.136 ultralytics-thop-2.0.14\n"
          ]
        }
      ]
    },
    {
      "cell_type": "code",
      "source": [
        "from ultralytics import YOLO\n",
        "import torch\n",
        "import os\n",
        "import yaml\n",
        "import shutil\n",
        "\n",
        "# Fix OpenMP runtime error\n",
        "os.environ['KMP_DUPLICATE_LIB_OK'] = 'TRUE'\n",
        "\n",
        "def setup_dataset_structure():\n",
        "    # Define base directory\n",
        "    base_dir = '/content/drive/MyDrive/sli1'\n",
        "    dataset_dir = os.path.join(base_dir, 'data_3914')\n",
        "\n",
        "    # Create dataset directories\n",
        "    dirs = [\n",
        "        os.path.join(dataset_dir, 'train', 'images'),\n",
        "        os.path.join(dataset_dir, 'train', 'labels'),\n",
        "        os.path.join(dataset_dir, 'val', 'images'),\n",
        "        os.path.join(dataset_dir, 'val', 'labels'),\n",
        "        os.path.join(dataset_dir, 'test', 'images'),\n",
        "        os.path.join(dataset_dir, 'test', 'labels')\n",
        "    ]\n",
        "\n",
        "    for d in dirs:\n",
        "        os.makedirs(d, exist_ok=True)\n",
        "        print(f\"Created directory: {d}\")\n",
        "\n",
        "    return dataset_dir\n",
        "\n",
        "def train_model():\n",
        "    # Setup dataset structure\n",
        "    dataset_dir = setup_dataset_structure()\n",
        "\n",
        "    # Check if dataset directories are empty\n",
        "    train_images = os.path.join(dataset_dir, 'train', 'images')\n",
        "    if not os.listdir(train_images):\n",
        "        print(f\"Warning: Training images directory is empty: {train_images}\")\n",
        "        print(\"Please copy your dataset files to the correct directories before training.\")\n",
        "        return None\n",
        "\n",
        "    # Create dataset.yaml\n",
        "    yaml_path = '/content/drive/MyDrive/sli1/data_3914/data.yaml'\n",
        "\n",
        "    # Load a model\n",
        "    model = YOLO('yolov8n.pt')  # load pretrained model\n",
        "\n",
        "    # Train the model\n",
        "    results = model.train(\n",
        "        data=yaml_path,\n",
        "        epochs=280,\n",
        "        imgsz=640,\n",
        "        batch=16,\n",
        "        name='speed_limit_detector',\n",
        "        verbose=True,\n",
        "        device='0' if torch.cuda.is_available() else 'cpu',\n",
        "        patience=20,  # Early stopping patience\n",
        "        save=True,    # Save checkpoints\n",
        "        pretrained=True,\n",
        "        optimizer='auto'\n",
        "    )\n",
        "\n",
        "    return results\n",
        "\n",
        "if __name__ == \"__main__\":\n",
        "    print(\"Setting up dataset structure...\")\n",
        "    dataset_dir = setup_dataset_structure()\n",
        "\n",
        "    print(\"\\nPlease ensure your dataset files are in these directories:\")\n",
        "    print(f\"Training images: {os.path.join(dataset_dir, 'train', 'images')}\")\n",
        "    print(f\"Training labels: {os.path.join(dataset_dir, 'train', 'labels')}\")\n",
        "    print(f\"Validation images: {os.path.join(dataset_dir, 'val', 'images')}\")\n",
        "    print(f\"Validation labels: {os.path.join(dataset_dir, 'val', 'labels')}\")\n",
        "\n",
        "    user_input = input(\"\\nHave you copied your dataset files to these directories? (yes/no): \")\n",
        "    if user_input.lower() == 'yes':\n",
        "        print(\"\\nStarting training...\")\n",
        "        results = train_model()\n",
        "        if results:\n",
        "            print(\"Training completed successfully!\")\n",
        "            print(\"Best model saved at: runs/detect/speed_limit_detector/weights/best.pt\")\n",
        "    else:\n",
        "        print(\"\\nPlease copy your dataset files to the correct directories and run the script again.\")"
      ],
      "metadata": {
        "id": "LQYtKPWT-pcX",
        "colab": {
          "base_uri": "https://localhost:8080/"
        },
        "outputId": "71acf521-0684-4df3-a054-ec9e1e47d9db"
      },
      "execution_count": null,
      "outputs": [
        {
          "output_type": "stream",
          "name": "stdout",
          "text": [
            "Creating new Ultralytics Settings v0.0.6 file ✅ \n",
            "View Ultralytics Settings with 'yolo settings' or at '/root/.config/Ultralytics/settings.json'\n",
            "Update Settings with 'yolo settings key=value', i.e. 'yolo settings runs_dir=path/to/dir'. For help see https://docs.ultralytics.com/quickstart/#ultralytics-settings.\n",
            "Setting up dataset structure...\n",
            "Created directory: /content/drive/MyDrive/sli1/data_3914/train/images\n",
            "Created directory: /content/drive/MyDrive/sli1/data_3914/train/labels\n",
            "Created directory: /content/drive/MyDrive/sli1/data_3914/val/images\n",
            "Created directory: /content/drive/MyDrive/sli1/data_3914/val/labels\n",
            "Created directory: /content/drive/MyDrive/sli1/data_3914/test/images\n",
            "Created directory: /content/drive/MyDrive/sli1/data_3914/test/labels\n",
            "\n",
            "Please ensure your dataset files are in these directories:\n",
            "Training images: /content/drive/MyDrive/sli1/data_3914/train/images\n",
            "Training labels: /content/drive/MyDrive/sli1/data_3914/train/labels\n",
            "Validation images: /content/drive/MyDrive/sli1/data_3914/val/images\n",
            "Validation labels: /content/drive/MyDrive/sli1/data_3914/val/labels\n",
            "\n",
            "Have you copied your dataset files to these directories? (yes/no): yes\n",
            "\n",
            "Starting training...\n",
            "Created directory: /content/drive/MyDrive/sli1/data_3914/train/images\n",
            "Created directory: /content/drive/MyDrive/sli1/data_3914/train/labels\n",
            "Created directory: /content/drive/MyDrive/sli1/data_3914/val/images\n",
            "Created directory: /content/drive/MyDrive/sli1/data_3914/val/labels\n",
            "Created directory: /content/drive/MyDrive/sli1/data_3914/test/images\n",
            "Created directory: /content/drive/MyDrive/sli1/data_3914/test/labels\n",
            "Downloading https://github.com/ultralytics/assets/releases/download/v8.3.0/yolov8n.pt to 'yolov8n.pt'...\n"
          ]
        },
        {
          "output_type": "stream",
          "name": "stderr",
          "text": [
            "100%|██████████| 6.25M/6.25M [00:00<00:00, 295MB/s]"
          ]
        },
        {
          "output_type": "stream",
          "name": "stdout",
          "text": [
            "Ultralytics 8.3.136 🚀 Python-3.11.12 torch-2.6.0+cu124 CUDA:0 (Tesla T4, 15095MiB)\n"
          ]
        },
        {
          "output_type": "stream",
          "name": "stderr",
          "text": [
            "\n"
          ]
        },
        {
          "output_type": "stream",
          "name": "stdout",
          "text": [
            "\u001b[34m\u001b[1mengine/trainer: \u001b[0magnostic_nms=False, amp=True, augment=False, auto_augment=randaugment, batch=16, bgr=0.0, box=7.5, cache=False, cfg=None, classes=None, close_mosaic=10, cls=0.5, conf=None, copy_paste=0.0, copy_paste_mode=flip, cos_lr=False, cutmix=0.0, data=/content/drive/MyDrive/sli1/data_3914/data.yaml, degrees=0.0, deterministic=True, device=0, dfl=1.5, dnn=False, dropout=0.0, dynamic=False, embed=None, epochs=280, erasing=0.4, exist_ok=False, fliplr=0.5, flipud=0.0, format=torchscript, fraction=1.0, freeze=None, half=False, hsv_h=0.015, hsv_s=0.7, hsv_v=0.4, imgsz=640, int8=False, iou=0.7, keras=False, kobj=1.0, line_width=None, lr0=0.01, lrf=0.01, mask_ratio=4, max_det=300, mixup=0.0, mode=train, model=yolov8n.pt, momentum=0.937, mosaic=1.0, multi_scale=False, name=speed_limit_detector, nbs=64, nms=False, opset=None, optimize=False, optimizer=auto, overlap_mask=True, patience=20, perspective=0.0, plots=True, pose=12.0, pretrained=True, profile=False, project=None, rect=False, resume=False, retina_masks=False, save=True, save_conf=False, save_crop=False, save_dir=runs/detect/speed_limit_detector, save_frames=False, save_json=False, save_period=-1, save_txt=False, scale=0.5, seed=0, shear=0.0, show=False, show_boxes=True, show_conf=True, show_labels=True, simplify=True, single_cls=False, source=None, split=val, stream_buffer=False, task=detect, time=None, tracker=botsort.yaml, translate=0.1, val=True, verbose=True, vid_stride=1, visualize=False, warmup_bias_lr=0.1, warmup_epochs=3.0, warmup_momentum=0.8, weight_decay=0.0005, workers=8, workspace=None\n",
            "Downloading https://ultralytics.com/assets/Arial.ttf to '/root/.config/Ultralytics/Arial.ttf'...\n"
          ]
        },
        {
          "output_type": "stream",
          "name": "stderr",
          "text": [
            "100%|██████████| 755k/755k [00:00<00:00, 102MB/s]"
          ]
        },
        {
          "output_type": "stream",
          "name": "stdout",
          "text": [
            "Overriding model.yaml nc=80 with nc=40\n",
            "\n",
            "                   from  n    params  module                                       arguments                     \n",
            "  0                  -1  1       464  ultralytics.nn.modules.conv.Conv             [3, 16, 3, 2]                 \n",
            "  1                  -1  1      4672  ultralytics.nn.modules.conv.Conv             [16, 32, 3, 2]                \n",
            "  2                  -1  1      7360  ultralytics.nn.modules.block.C2f             [32, 32, 1, True]             \n",
            "  3                  -1  1     18560  ultralytics.nn.modules.conv.Conv             [32, 64, 3, 2]                \n",
            "  4                  -1  2     49664  ultralytics.nn.modules.block.C2f             [64, 64, 2, True]             \n",
            "  5                  -1  1     73984  ultralytics.nn.modules.conv.Conv             [64, 128, 3, 2]               \n",
            "  6                  -1  2    197632  ultralytics.nn.modules.block.C2f             [128, 128, 2, True]           \n",
            "  7                  -1  1    295424  ultralytics.nn.modules.conv.Conv             [128, 256, 3, 2]              \n",
            "  8                  -1  1    460288  ultralytics.nn.modules.block.C2f             [256, 256, 1, True]           \n",
            "  9                  -1  1    164608  ultralytics.nn.modules.block.SPPF            [256, 256, 5]                 \n",
            " 10                  -1  1         0  torch.nn.modules.upsampling.Upsample         [None, 2, 'nearest']          \n",
            " 11             [-1, 6]  1         0  ultralytics.nn.modules.conv.Concat           [1]                           \n",
            " 12                  -1  1    148224  ultralytics.nn.modules.block.C2f             [384, 128, 1]                 \n",
            " 13                  -1  1         0  torch.nn.modules.upsampling.Upsample         [None, 2, 'nearest']          \n",
            " 14             [-1, 4]  1         0  ultralytics.nn.modules.conv.Concat           [1]                           \n",
            " 15                  -1  1     37248  ultralytics.nn.modules.block.C2f             [192, 64, 1]                  \n",
            " 16                  -1  1     36992  ultralytics.nn.modules.conv.Conv             [64, 64, 3, 2]                \n",
            " 17            [-1, 12]  1         0  ultralytics.nn.modules.conv.Concat           [1]                           \n",
            " 18                  -1  1    123648  ultralytics.nn.modules.block.C2f             [192, 128, 1]                 \n",
            " 19                  -1  1    147712  ultralytics.nn.modules.conv.Conv             [128, 128, 3, 2]              \n",
            " 20             [-1, 9]  1         0  ultralytics.nn.modules.conv.Concat           [1]                           \n",
            " 21                  -1  1    493056  ultralytics.nn.modules.block.C2f             [384, 256, 1]                 \n",
            " 22        [15, 18, 21]  1    759112  ultralytics.nn.modules.head.Detect           [40, [64, 128, 256]]          \n"
          ]
        },
        {
          "output_type": "stream",
          "name": "stderr",
          "text": [
            "\n"
          ]
        },
        {
          "output_type": "stream",
          "name": "stdout",
          "text": [
            "Model summary: 129 layers, 3,018,648 parameters, 3,018,632 gradients, 8.2 GFLOPs\n",
            "\n",
            "Transferred 319/355 items from pretrained weights\n",
            "Freezing layer 'model.22.dfl.conv.weight'\n",
            "\u001b[34m\u001b[1mAMP: \u001b[0mrunning Automatic Mixed Precision (AMP) checks...\n",
            "Downloading https://github.com/ultralytics/assets/releases/download/v8.3.0/yolo11n.pt to 'yolo11n.pt'...\n"
          ]
        },
        {
          "output_type": "stream",
          "name": "stderr",
          "text": [
            "100%|██████████| 5.35M/5.35M [00:00<00:00, 219MB/s]\n"
          ]
        },
        {
          "output_type": "stream",
          "name": "stdout",
          "text": [
            "\u001b[34m\u001b[1mAMP: \u001b[0mchecks passed ✅\n",
            "\u001b[34m\u001b[1mtrain: \u001b[0mFast image access ✅ (ping: 0.4±0.1 ms, read: 0.0±0.0 MB/s, size: 34.3 KB)\n"
          ]
        },
        {
          "output_type": "stream",
          "name": "stderr",
          "text": [
            "\u001b[34m\u001b[1mtrain: \u001b[0mScanning /content/drive/MyDrive/sli1/data_3914/train/labels... 2750 images, 1 backgrounds, 5 corrupt: 100%|██████████| 2750/2750 [41:13<00:00,  1.11it/s]"
          ]
        },
        {
          "output_type": "stream",
          "name": "stdout",
          "text": [
            "\u001b[34m\u001b[1mtrain: \u001b[0m/content/drive/MyDrive/sli1/data_3914/train/images/00006_00005_00027_png.rf.9fc512173cfb4dda61c17f70347e1f23.jpg: ignoring corrupt image/label: non-normalized or out of bounds coordinates [     1.0637      1.0448]\n",
            "\u001b[34m\u001b[1mtrain: \u001b[0m/content/drive/MyDrive/sli1/data_3914/train/images/Road_works-sli_100Kmh_aug_17_HC8-100Km-Reflective-Speed-limit-Sticker-190x190mm_png.rf.53fe250c9df1a134e2ccab2be6dbdd5d.jpg: ignoring corrupt image/label: non-normalized or out of bounds coordinates [     1.0319      1.0222      1.0319      1.0222]\n",
            "\u001b[34m\u001b[1mtrain: \u001b[0m/content/drive/MyDrive/sli1/data_3914/train/images/Road_works-sli_100Kmh_aug_88_HC8-100Km-Reflective-Speed-limit-Sticker-190x190mm_png.rf.e7e79e739e2199d342d0c50ea620e2b2.jpg: ignoring corrupt image/label: non-normalized or out of bounds coordinates [     1.4042      1.4044]\n",
            "\u001b[34m\u001b[1mtrain: \u001b[0m/content/drive/MyDrive/sli1/data_3914/train/images/Road_works-sli_20Kmh_aug_18_images_png.rf.4656eb4ab9413b3db3e89d81ead34fd1.jpg: ignoring corrupt image/label: non-normalized or out of bounds coordinates [     1.3895      1.3893]\n",
            "\u001b[34m\u001b[1mtrain: \u001b[0m/content/drive/MyDrive/sli1/data_3914/train/images/Road_works-sli_80Kmh_aug_18_images_4_png.rf.1d08780719940da3c8e8ad4f514de5a3.jpg: ignoring corrupt image/label: non-normalized or out of bounds coordinates [     1.3898      1.3888]\n"
          ]
        },
        {
          "output_type": "stream",
          "name": "stderr",
          "text": [
            "\n"
          ]
        },
        {
          "output_type": "stream",
          "name": "stdout",
          "text": [
            "\u001b[34m\u001b[1mtrain: \u001b[0mNew cache created: /content/drive/MyDrive/sli1/data_3914/train/labels.cache\n",
            "\u001b[34m\u001b[1malbumentations: \u001b[0mBlur(p=0.01, blur_limit=(3, 7)), MedianBlur(p=0.01, blur_limit=(3, 7)), ToGray(p=0.01, method='weighted_average', num_output_channels=3), CLAHE(p=0.01, clip_limit=(1.0, 4.0), tile_grid_size=(8, 8))\n",
            "\u001b[34m\u001b[1mval: \u001b[0mFast image access ✅ (ping: 0.6±0.2 ms, read: 0.1±0.0 MB/s, size: 35.2 KB)\n"
          ]
        },
        {
          "output_type": "stream",
          "name": "stderr",
          "text": [
            "\u001b[34m\u001b[1mval: \u001b[0mScanning /content/drive/MyDrive/sli1/data_3914/valid/labels... 776 images, 0 backgrounds, 0 corrupt: 100%|██████████| 776/776 [11:43<00:00,  1.10it/s]\n"
          ]
        },
        {
          "output_type": "stream",
          "name": "stdout",
          "text": [
            "\u001b[34m\u001b[1mval: \u001b[0mNew cache created: /content/drive/MyDrive/sli1/data_3914/valid/labels.cache\n",
            "Plotting labels to runs/detect/speed_limit_detector/labels.jpg... \n",
            "\u001b[34m\u001b[1moptimizer:\u001b[0m 'optimizer=auto' found, ignoring 'lr0=0.01' and 'momentum=0.937' and determining best 'optimizer', 'lr0' and 'momentum' automatically... \n",
            "\u001b[34m\u001b[1moptimizer:\u001b[0m SGD(lr=0.01, momentum=0.9) with parameter groups 57 weight(decay=0.0), 64 weight(decay=0.0005), 63 bias(decay=0.0)\n",
            "Image sizes 640 train, 640 val\n",
            "Using 2 dataloader workers\n",
            "Logging results to \u001b[1mruns/detect/speed_limit_detector\u001b[0m\n",
            "Starting training for 280 epochs...\n",
            "\n",
            "      Epoch    GPU_mem   box_loss   cls_loss   dfl_loss  Instances       Size\n"
          ]
        },
        {
          "output_type": "stream",
          "name": "stderr",
          "text": [
            "      1/280      2.13G      0.898      4.206      1.332         21        640: 100%|██████████| 172/172 [00:58<00:00,  2.96it/s]\n",
            "                 Class     Images  Instances      Box(P          R      mAP50  mAP50-95): 100%|██████████| 25/25 [00:09<00:00,  2.63it/s]"
          ]
        },
        {
          "output_type": "stream",
          "name": "stdout",
          "text": [
            "                   all        776        830      0.597      0.174     0.0829     0.0655\n"
          ]
        },
        {
          "output_type": "stream",
          "name": "stderr",
          "text": [
            "\n"
          ]
        },
        {
          "output_type": "stream",
          "name": "stdout",
          "text": [
            "\n",
            "      Epoch    GPU_mem   box_loss   cls_loss   dfl_loss  Instances       Size\n"
          ]
        },
        {
          "output_type": "stream",
          "name": "stderr",
          "text": [
            "      2/280      2.61G     0.8783      3.111      1.261         25        640: 100%|██████████| 172/172 [00:55<00:00,  3.11it/s]\n",
            "                 Class     Images  Instances      Box(P          R      mAP50  mAP50-95): 100%|██████████| 25/25 [00:08<00:00,  2.78it/s]\n"
          ]
        },
        {
          "output_type": "stream",
          "name": "stdout",
          "text": [
            "                   all        776        830      0.501      0.297      0.139      0.111\n",
            "\n",
            "      Epoch    GPU_mem   box_loss   cls_loss   dfl_loss  Instances       Size\n"
          ]
        },
        {
          "output_type": "stream",
          "name": "stderr",
          "text": [
            "      3/280      2.62G     0.9112      2.715      1.257         22        640: 100%|██████████| 172/172 [00:55<00:00,  3.12it/s]\n",
            "                 Class     Images  Instances      Box(P          R      mAP50  mAP50-95): 100%|██████████| 25/25 [00:07<00:00,  3.38it/s]\n"
          ]
        },
        {
          "output_type": "stream",
          "name": "stdout",
          "text": [
            "                   all        776        830      0.342      0.404      0.149      0.102\n",
            "\n",
            "      Epoch    GPU_mem   box_loss   cls_loss   dfl_loss  Instances       Size\n"
          ]
        },
        {
          "output_type": "stream",
          "name": "stderr",
          "text": [
            "      4/280      2.63G     0.9167      2.532       1.25         21        640: 100%|██████████| 172/172 [00:54<00:00,  3.17it/s]\n",
            "                 Class     Images  Instances      Box(P          R      mAP50  mAP50-95): 100%|██████████| 25/25 [00:08<00:00,  2.81it/s]\n"
          ]
        },
        {
          "output_type": "stream",
          "name": "stdout",
          "text": [
            "                   all        776        830      0.338      0.367      0.195      0.142\n",
            "\n",
            "      Epoch    GPU_mem   box_loss   cls_loss   dfl_loss  Instances       Size\n"
          ]
        },
        {
          "output_type": "stream",
          "name": "stderr",
          "text": [
            "      5/280      2.64G     0.8975      2.373      1.232         22        640: 100%|██████████| 172/172 [00:53<00:00,  3.21it/s]\n",
            "                 Class     Images  Instances      Box(P          R      mAP50  mAP50-95): 100%|██████████| 25/25 [00:07<00:00,  3.41it/s]\n"
          ]
        },
        {
          "output_type": "stream",
          "name": "stdout",
          "text": [
            "                   all        776        830      0.443      0.298      0.232      0.191\n",
            "\n",
            "      Epoch    GPU_mem   box_loss   cls_loss   dfl_loss  Instances       Size\n"
          ]
        },
        {
          "output_type": "stream",
          "name": "stderr",
          "text": [
            "      6/280      2.65G      0.881      2.208      1.207         26        640: 100%|██████████| 172/172 [00:54<00:00,  3.16it/s]\n",
            "                 Class     Images  Instances      Box(P          R      mAP50  mAP50-95): 100%|██████████| 25/25 [00:08<00:00,  2.81it/s]\n"
          ]
        },
        {
          "output_type": "stream",
          "name": "stdout",
          "text": [
            "                   all        776        830      0.365      0.391      0.229      0.189\n",
            "\n",
            "      Epoch    GPU_mem   box_loss   cls_loss   dfl_loss  Instances       Size\n"
          ]
        },
        {
          "output_type": "stream",
          "name": "stderr",
          "text": [
            "      7/280      2.66G     0.8488      2.067      1.189         28        640: 100%|██████████| 172/172 [00:54<00:00,  3.13it/s]\n",
            "                 Class     Images  Instances      Box(P          R      mAP50  mAP50-95): 100%|██████████| 25/25 [00:07<00:00,  3.33it/s]\n"
          ]
        },
        {
          "output_type": "stream",
          "name": "stdout",
          "text": [
            "                   all        776        830      0.382      0.408      0.277      0.236\n",
            "\n",
            "      Epoch    GPU_mem   box_loss   cls_loss   dfl_loss  Instances       Size\n"
          ]
        },
        {
          "output_type": "stream",
          "name": "stderr",
          "text": [
            "      8/280      2.67G     0.8358      1.962      1.179         23        640: 100%|██████████| 172/172 [00:55<00:00,  3.11it/s]\n",
            "                 Class     Images  Instances      Box(P          R      mAP50  mAP50-95): 100%|██████████| 25/25 [00:08<00:00,  2.83it/s]\n"
          ]
        },
        {
          "output_type": "stream",
          "name": "stdout",
          "text": [
            "                   all        776        830      0.662      0.283      0.311       0.27\n",
            "\n",
            "      Epoch    GPU_mem   box_loss   cls_loss   dfl_loss  Instances       Size\n"
          ]
        },
        {
          "output_type": "stream",
          "name": "stderr",
          "text": [
            "      9/280      2.69G     0.8125      1.816      1.166         19        640: 100%|██████████| 172/172 [00:55<00:00,  3.13it/s]\n",
            "                 Class     Images  Instances      Box(P          R      mAP50  mAP50-95): 100%|██████████| 25/25 [00:08<00:00,  3.11it/s]\n"
          ]
        },
        {
          "output_type": "stream",
          "name": "stdout",
          "text": [
            "                   all        776        830      0.531      0.471       0.38       0.33\n",
            "\n",
            "      Epoch    GPU_mem   box_loss   cls_loss   dfl_loss  Instances       Size\n"
          ]
        },
        {
          "output_type": "stream",
          "name": "stderr",
          "text": [
            "     10/280       2.7G     0.7971      1.754       1.16         22        640: 100%|██████████| 172/172 [00:53<00:00,  3.22it/s]\n",
            "                 Class     Images  Instances      Box(P          R      mAP50  mAP50-95): 100%|██████████| 25/25 [00:08<00:00,  2.85it/s]\n"
          ]
        },
        {
          "output_type": "stream",
          "name": "stdout",
          "text": [
            "                   all        776        830      0.527      0.439      0.359      0.313\n",
            "\n",
            "      Epoch    GPU_mem   box_loss   cls_loss   dfl_loss  Instances       Size\n"
          ]
        },
        {
          "output_type": "stream",
          "name": "stderr",
          "text": [
            "     11/280      2.71G     0.7696      1.625      1.145         26        640: 100%|██████████| 172/172 [00:54<00:00,  3.17it/s]\n",
            "                 Class     Images  Instances      Box(P          R      mAP50  mAP50-95): 100%|██████████| 25/25 [00:07<00:00,  3.21it/s]"
          ]
        },
        {
          "output_type": "stream",
          "name": "stdout",
          "text": [
            "                   all        776        830       0.58      0.433       0.43      0.379\n"
          ]
        },
        {
          "output_type": "stream",
          "name": "stderr",
          "text": [
            "\n"
          ]
        },
        {
          "output_type": "stream",
          "name": "stdout",
          "text": [
            "\n",
            "      Epoch    GPU_mem   box_loss   cls_loss   dfl_loss  Instances       Size\n"
          ]
        },
        {
          "output_type": "stream",
          "name": "stderr",
          "text": [
            "     12/280      2.72G     0.7856      1.596      1.149         17        640: 100%|██████████| 172/172 [00:53<00:00,  3.21it/s]\n",
            "                 Class     Images  Instances      Box(P          R      mAP50  mAP50-95): 100%|██████████| 25/25 [00:08<00:00,  2.84it/s]\n"
          ]
        },
        {
          "output_type": "stream",
          "name": "stdout",
          "text": [
            "                   all        776        830      0.522      0.541      0.441      0.392\n",
            "\n",
            "      Epoch    GPU_mem   box_loss   cls_loss   dfl_loss  Instances       Size\n"
          ]
        },
        {
          "output_type": "stream",
          "name": "stderr",
          "text": [
            "     13/280      2.73G     0.7594      1.496      1.133         19        640: 100%|██████████| 172/172 [00:54<00:00,  3.16it/s]\n",
            "                 Class     Images  Instances      Box(P          R      mAP50  mAP50-95): 100%|██████████| 25/25 [00:08<00:00,  3.01it/s]"
          ]
        },
        {
          "output_type": "stream",
          "name": "stdout",
          "text": [
            "                   all        776        830      0.645      0.509      0.506      0.451\n"
          ]
        },
        {
          "output_type": "stream",
          "name": "stderr",
          "text": [
            "\n"
          ]
        },
        {
          "output_type": "stream",
          "name": "stdout",
          "text": [
            "\n",
            "      Epoch    GPU_mem   box_loss   cls_loss   dfl_loss  Instances       Size\n"
          ]
        },
        {
          "output_type": "stream",
          "name": "stderr",
          "text": [
            "     14/280      2.74G      0.755      1.446      1.133         28        640: 100%|██████████| 172/172 [00:53<00:00,  3.22it/s]\n",
            "                 Class     Images  Instances      Box(P          R      mAP50  mAP50-95): 100%|██████████| 25/25 [00:08<00:00,  2.92it/s]"
          ]
        },
        {
          "output_type": "stream",
          "name": "stdout",
          "text": [
            "                   all        776        830      0.601      0.519      0.517      0.462\n"
          ]
        },
        {
          "output_type": "stream",
          "name": "stderr",
          "text": [
            "\n"
          ]
        },
        {
          "output_type": "stream",
          "name": "stdout",
          "text": [
            "\n",
            "      Epoch    GPU_mem   box_loss   cls_loss   dfl_loss  Instances       Size\n"
          ]
        },
        {
          "output_type": "stream",
          "name": "stderr",
          "text": [
            "     15/280      2.75G     0.7433      1.388      1.127         20        640: 100%|██████████| 172/172 [00:54<00:00,  3.17it/s]\n",
            "                 Class     Images  Instances      Box(P          R      mAP50  mAP50-95): 100%|██████████| 25/25 [00:08<00:00,  2.93it/s]"
          ]
        },
        {
          "output_type": "stream",
          "name": "stdout",
          "text": [
            "                   all        776        830      0.744      0.416      0.472      0.423\n"
          ]
        },
        {
          "output_type": "stream",
          "name": "stderr",
          "text": [
            "\n"
          ]
        },
        {
          "output_type": "stream",
          "name": "stdout",
          "text": [
            "\n",
            "      Epoch    GPU_mem   box_loss   cls_loss   dfl_loss  Instances       Size\n"
          ]
        },
        {
          "output_type": "stream",
          "name": "stderr",
          "text": [
            "     16/280      2.77G     0.7468      1.349      1.134         20        640: 100%|██████████| 172/172 [00:52<00:00,  3.28it/s]\n",
            "                 Class     Images  Instances      Box(P          R      mAP50  mAP50-95): 100%|██████████| 25/25 [00:08<00:00,  2.86it/s]\n"
          ]
        },
        {
          "output_type": "stream",
          "name": "stdout",
          "text": [
            "                   all        776        830      0.718      0.511      0.544       0.49\n",
            "\n",
            "      Epoch    GPU_mem   box_loss   cls_loss   dfl_loss  Instances       Size\n"
          ]
        },
        {
          "output_type": "stream",
          "name": "stderr",
          "text": [
            "     17/280      2.78G     0.7286      1.311      1.123         24        640: 100%|██████████| 172/172 [00:54<00:00,  3.15it/s]\n",
            "                 Class     Images  Instances      Box(P          R      mAP50  mAP50-95): 100%|██████████| 25/25 [00:08<00:00,  3.02it/s]\n"
          ]
        },
        {
          "output_type": "stream",
          "name": "stdout",
          "text": [
            "                   all        776        830      0.758      0.489      0.593      0.535\n",
            "\n",
            "      Epoch    GPU_mem   box_loss   cls_loss   dfl_loss  Instances       Size\n"
          ]
        },
        {
          "output_type": "stream",
          "name": "stderr",
          "text": [
            "     18/280      2.79G     0.7236       1.26      1.112         25        640: 100%|██████████| 172/172 [00:53<00:00,  3.23it/s]\n",
            "                 Class     Images  Instances      Box(P          R      mAP50  mAP50-95): 100%|██████████| 25/25 [00:08<00:00,  3.05it/s]"
          ]
        },
        {
          "output_type": "stream",
          "name": "stdout",
          "text": [
            "                   all        776        830      0.743      0.504      0.554      0.494\n"
          ]
        },
        {
          "output_type": "stream",
          "name": "stderr",
          "text": [
            "\n"
          ]
        },
        {
          "output_type": "stream",
          "name": "stdout",
          "text": [
            "\n",
            "      Epoch    GPU_mem   box_loss   cls_loss   dfl_loss  Instances       Size\n"
          ]
        },
        {
          "output_type": "stream",
          "name": "stderr",
          "text": [
            "     19/280       2.8G     0.7221       1.21      1.104         27        640: 100%|██████████| 172/172 [00:54<00:00,  3.17it/s]\n",
            "                 Class     Images  Instances      Box(P          R      mAP50  mAP50-95): 100%|██████████| 25/25 [00:08<00:00,  2.93it/s]"
          ]
        },
        {
          "output_type": "stream",
          "name": "stdout",
          "text": [
            "                   all        776        830      0.681      0.604      0.621      0.558\n"
          ]
        },
        {
          "output_type": "stream",
          "name": "stderr",
          "text": [
            "\n"
          ]
        },
        {
          "output_type": "stream",
          "name": "stdout",
          "text": [
            "\n",
            "      Epoch    GPU_mem   box_loss   cls_loss   dfl_loss  Instances       Size\n"
          ]
        },
        {
          "output_type": "stream",
          "name": "stderr",
          "text": [
            "     20/280      2.81G     0.7089      1.191      1.109         24        640: 100%|██████████| 172/172 [00:53<00:00,  3.22it/s]\n",
            "                 Class     Images  Instances      Box(P          R      mAP50  mAP50-95): 100%|██████████| 25/25 [00:08<00:00,  3.01it/s]"
          ]
        },
        {
          "output_type": "stream",
          "name": "stdout",
          "text": [
            "                   all        776        830      0.797      0.576      0.677      0.612\n"
          ]
        },
        {
          "output_type": "stream",
          "name": "stderr",
          "text": [
            "\n"
          ]
        },
        {
          "output_type": "stream",
          "name": "stdout",
          "text": [
            "\n",
            "      Epoch    GPU_mem   box_loss   cls_loss   dfl_loss  Instances       Size\n"
          ]
        },
        {
          "output_type": "stream",
          "name": "stderr",
          "text": [
            "     21/280      2.82G     0.7119      1.183      1.112         25        640: 100%|██████████| 172/172 [00:55<00:00,  3.11it/s]\n",
            "                 Class     Images  Instances      Box(P          R      mAP50  mAP50-95): 100%|██████████| 25/25 [00:08<00:00,  2.83it/s]"
          ]
        },
        {
          "output_type": "stream",
          "name": "stdout",
          "text": [
            "                   all        776        830      0.865      0.527      0.669      0.607\n"
          ]
        },
        {
          "output_type": "stream",
          "name": "stderr",
          "text": [
            "\n"
          ]
        },
        {
          "output_type": "stream",
          "name": "stdout",
          "text": [
            "\n",
            "      Epoch    GPU_mem   box_loss   cls_loss   dfl_loss  Instances       Size\n"
          ]
        },
        {
          "output_type": "stream",
          "name": "stderr",
          "text": [
            "     22/280      2.83G     0.6998      1.138      1.105         31        640: 100%|██████████| 172/172 [00:53<00:00,  3.22it/s]\n",
            "                 Class     Images  Instances      Box(P          R      mAP50  mAP50-95): 100%|██████████| 25/25 [00:08<00:00,  3.00it/s]"
          ]
        },
        {
          "output_type": "stream",
          "name": "stdout",
          "text": [
            "                   all        776        830      0.648      0.706      0.697      0.633\n"
          ]
        },
        {
          "output_type": "stream",
          "name": "stderr",
          "text": [
            "\n"
          ]
        },
        {
          "output_type": "stream",
          "name": "stdout",
          "text": [
            "\n",
            "      Epoch    GPU_mem   box_loss   cls_loss   dfl_loss  Instances       Size\n"
          ]
        },
        {
          "output_type": "stream",
          "name": "stderr",
          "text": [
            "     23/280      2.85G     0.6926      1.105        1.1         23        640: 100%|██████████| 172/172 [00:54<00:00,  3.15it/s]\n",
            "                 Class     Images  Instances      Box(P          R      mAP50  mAP50-95): 100%|██████████| 25/25 [00:08<00:00,  2.79it/s]\n"
          ]
        },
        {
          "output_type": "stream",
          "name": "stdout",
          "text": [
            "                   all        776        830      0.724      0.648      0.725      0.651\n",
            "\n",
            "      Epoch    GPU_mem   box_loss   cls_loss   dfl_loss  Instances       Size\n"
          ]
        },
        {
          "output_type": "stream",
          "name": "stderr",
          "text": [
            "     24/280      2.86G     0.6885      1.097      1.097         20        640: 100%|██████████| 172/172 [00:54<00:00,  3.18it/s]\n",
            "                 Class     Images  Instances      Box(P          R      mAP50  mAP50-95): 100%|██████████| 25/25 [00:07<00:00,  3.44it/s]"
          ]
        },
        {
          "output_type": "stream",
          "name": "stdout",
          "text": [
            "                   all        776        830      0.892      0.548      0.694       0.63\n"
          ]
        },
        {
          "output_type": "stream",
          "name": "stderr",
          "text": [
            "\n"
          ]
        },
        {
          "output_type": "stream",
          "name": "stdout",
          "text": [
            "\n",
            "      Epoch    GPU_mem   box_loss   cls_loss   dfl_loss  Instances       Size\n"
          ]
        },
        {
          "output_type": "stream",
          "name": "stderr",
          "text": [
            "     25/280      2.87G     0.6863      1.072      1.091         22        640: 100%|██████████| 172/172 [00:54<00:00,  3.16it/s]\n",
            "                 Class     Images  Instances      Box(P          R      mAP50  mAP50-95): 100%|██████████| 25/25 [00:08<00:00,  2.88it/s]\n"
          ]
        },
        {
          "output_type": "stream",
          "name": "stdout",
          "text": [
            "                   all        776        830      0.808      0.674      0.771      0.702\n",
            "\n",
            "      Epoch    GPU_mem   box_loss   cls_loss   dfl_loss  Instances       Size\n"
          ]
        },
        {
          "output_type": "stream",
          "name": "stderr",
          "text": [
            "     26/280      2.88G      0.686      1.051       1.09         25        640: 100%|██████████| 172/172 [00:53<00:00,  3.21it/s]\n",
            "                 Class     Images  Instances      Box(P          R      mAP50  mAP50-95): 100%|██████████| 25/25 [00:07<00:00,  3.29it/s]\n"
          ]
        },
        {
          "output_type": "stream",
          "name": "stdout",
          "text": [
            "                   all        776        830      0.815      0.709      0.778      0.716\n",
            "\n",
            "      Epoch    GPU_mem   box_loss   cls_loss   dfl_loss  Instances       Size\n"
          ]
        },
        {
          "output_type": "stream",
          "name": "stderr",
          "text": [
            "     27/280      2.89G     0.6832      1.026      1.092         22        640: 100%|██████████| 172/172 [00:54<00:00,  3.17it/s]\n",
            "                 Class     Images  Instances      Box(P          R      mAP50  mAP50-95): 100%|██████████| 25/25 [00:08<00:00,  2.80it/s]\n"
          ]
        },
        {
          "output_type": "stream",
          "name": "stdout",
          "text": [
            "                   all        776        830      0.831      0.721      0.782      0.713\n",
            "\n",
            "      Epoch    GPU_mem   box_loss   cls_loss   dfl_loss  Instances       Size\n"
          ]
        },
        {
          "output_type": "stream",
          "name": "stderr",
          "text": [
            "     28/280       2.9G     0.6864      1.017      1.086         34        640: 100%|██████████| 172/172 [00:54<00:00,  3.16it/s]\n",
            "                 Class     Images  Instances      Box(P          R      mAP50  mAP50-95): 100%|██████████| 25/25 [00:07<00:00,  3.38it/s]"
          ]
        },
        {
          "output_type": "stream",
          "name": "stdout",
          "text": [
            "                   all        776        830      0.807      0.741      0.765      0.704\n"
          ]
        },
        {
          "output_type": "stream",
          "name": "stderr",
          "text": [
            "\n"
          ]
        },
        {
          "output_type": "stream",
          "name": "stdout",
          "text": [
            "\n",
            "      Epoch    GPU_mem   box_loss   cls_loss   dfl_loss  Instances       Size\n"
          ]
        },
        {
          "output_type": "stream",
          "name": "stderr",
          "text": [
            "     29/280      2.91G     0.6788     0.9998      1.086         20        640: 100%|██████████| 172/172 [00:54<00:00,  3.17it/s]\n",
            "                 Class     Images  Instances      Box(P          R      mAP50  mAP50-95): 100%|██████████| 25/25 [00:08<00:00,  2.85it/s]\n"
          ]
        },
        {
          "output_type": "stream",
          "name": "stdout",
          "text": [
            "                   all        776        830      0.863      0.673      0.794      0.726\n",
            "\n",
            "      Epoch    GPU_mem   box_loss   cls_loss   dfl_loss  Instances       Size\n"
          ]
        },
        {
          "output_type": "stream",
          "name": "stderr",
          "text": [
            "     30/280      2.93G     0.6647     0.9806       1.08         25        640: 100%|██████████| 172/172 [00:54<00:00,  3.13it/s]\n",
            "                 Class     Images  Instances      Box(P          R      mAP50  mAP50-95): 100%|██████████| 25/25 [00:07<00:00,  3.27it/s]"
          ]
        },
        {
          "output_type": "stream",
          "name": "stdout",
          "text": [
            "                   all        776        830      0.844      0.746      0.807       0.74\n"
          ]
        },
        {
          "output_type": "stream",
          "name": "stderr",
          "text": [
            "\n"
          ]
        },
        {
          "output_type": "stream",
          "name": "stdout",
          "text": [
            "\n",
            "      Epoch    GPU_mem   box_loss   cls_loss   dfl_loss  Instances       Size\n"
          ]
        },
        {
          "output_type": "stream",
          "name": "stderr",
          "text": [
            "     31/280      2.94G     0.6607     0.9531      1.082         19        640: 100%|██████████| 172/172 [00:55<00:00,  3.09it/s]\n",
            "                 Class     Images  Instances      Box(P          R      mAP50  mAP50-95): 100%|██████████| 25/25 [00:08<00:00,  2.80it/s]"
          ]
        },
        {
          "output_type": "stream",
          "name": "stdout",
          "text": [
            "                   all        776        830      0.855      0.701      0.806      0.744\n"
          ]
        },
        {
          "output_type": "stream",
          "name": "stderr",
          "text": [
            "\n"
          ]
        },
        {
          "output_type": "stream",
          "name": "stdout",
          "text": [
            "\n",
            "      Epoch    GPU_mem   box_loss   cls_loss   dfl_loss  Instances       Size\n"
          ]
        },
        {
          "output_type": "stream",
          "name": "stderr",
          "text": [
            "     32/280      2.95G     0.6642     0.9467      1.081         22        640: 100%|██████████| 172/172 [00:55<00:00,  3.07it/s]\n",
            "                 Class     Images  Instances      Box(P          R      mAP50  mAP50-95): 100%|██████████| 25/25 [00:08<00:00,  2.97it/s]\n"
          ]
        },
        {
          "output_type": "stream",
          "name": "stdout",
          "text": [
            "                   all        776        830      0.906       0.74      0.828      0.765\n",
            "\n",
            "      Epoch    GPU_mem   box_loss   cls_loss   dfl_loss  Instances       Size\n"
          ]
        },
        {
          "output_type": "stream",
          "name": "stderr",
          "text": [
            "     33/280      2.96G     0.6605     0.9376      1.077         17        640: 100%|██████████| 172/172 [00:56<00:00,  3.05it/s]\n",
            "                 Class     Images  Instances      Box(P          R      mAP50  mAP50-95): 100%|██████████| 25/25 [00:07<00:00,  3.39it/s]"
          ]
        },
        {
          "output_type": "stream",
          "name": "stdout",
          "text": [
            "                   all        776        830      0.922      0.709      0.828      0.757\n"
          ]
        },
        {
          "output_type": "stream",
          "name": "stderr",
          "text": [
            "\n"
          ]
        },
        {
          "output_type": "stream",
          "name": "stdout",
          "text": [
            "\n",
            "      Epoch    GPU_mem   box_loss   cls_loss   dfl_loss  Instances       Size\n"
          ]
        },
        {
          "output_type": "stream",
          "name": "stderr",
          "text": [
            "     34/280      2.97G     0.6522      0.916       1.07         24        640: 100%|██████████| 172/172 [00:55<00:00,  3.09it/s]\n",
            "                 Class     Images  Instances      Box(P          R      mAP50  mAP50-95): 100%|██████████| 25/25 [00:08<00:00,  2.78it/s]\n"
          ]
        },
        {
          "output_type": "stream",
          "name": "stdout",
          "text": [
            "                   all        776        830      0.843      0.736      0.819      0.744\n",
            "\n",
            "      Epoch    GPU_mem   box_loss   cls_loss   dfl_loss  Instances       Size\n"
          ]
        },
        {
          "output_type": "stream",
          "name": "stderr",
          "text": [
            "     35/280      2.98G     0.6685     0.9397      1.085         20        640: 100%|██████████| 172/172 [00:54<00:00,  3.13it/s]\n",
            "                 Class     Images  Instances      Box(P          R      mAP50  mAP50-95): 100%|██████████| 25/25 [00:07<00:00,  3.44it/s]\n"
          ]
        },
        {
          "output_type": "stream",
          "name": "stdout",
          "text": [
            "                   all        776        830      0.963      0.716      0.871      0.802\n",
            "\n",
            "      Epoch    GPU_mem   box_loss   cls_loss   dfl_loss  Instances       Size\n"
          ]
        },
        {
          "output_type": "stream",
          "name": "stderr",
          "text": [
            "     36/280      2.99G      0.661     0.9212      1.083         31        640: 100%|██████████| 172/172 [00:53<00:00,  3.19it/s]\n",
            "                 Class     Images  Instances      Box(P          R      mAP50  mAP50-95): 100%|██████████| 25/25 [00:08<00:00,  2.83it/s]"
          ]
        },
        {
          "output_type": "stream",
          "name": "stdout",
          "text": [
            "                   all        776        830      0.908      0.741      0.834      0.769\n"
          ]
        },
        {
          "output_type": "stream",
          "name": "stderr",
          "text": [
            "\n"
          ]
        },
        {
          "output_type": "stream",
          "name": "stdout",
          "text": [
            "\n",
            "      Epoch    GPU_mem   box_loss   cls_loss   dfl_loss  Instances       Size\n"
          ]
        },
        {
          "output_type": "stream",
          "name": "stderr",
          "text": [
            "     37/280      3.01G     0.6547      0.904      1.076         20        640: 100%|██████████| 172/172 [00:54<00:00,  3.17it/s]\n",
            "                 Class     Images  Instances      Box(P          R      mAP50  mAP50-95): 100%|██████████| 25/25 [00:07<00:00,  3.46it/s]"
          ]
        },
        {
          "output_type": "stream",
          "name": "stdout",
          "text": [
            "                   all        776        830      0.907      0.707      0.827      0.762\n"
          ]
        },
        {
          "output_type": "stream",
          "name": "stderr",
          "text": [
            "\n"
          ]
        },
        {
          "output_type": "stream",
          "name": "stdout",
          "text": [
            "\n",
            "      Epoch    GPU_mem   box_loss   cls_loss   dfl_loss  Instances       Size\n"
          ]
        },
        {
          "output_type": "stream",
          "name": "stderr",
          "text": [
            "     38/280      3.02G     0.6495     0.9032      1.071         26        640: 100%|██████████| 172/172 [00:54<00:00,  3.16it/s]\n",
            "                 Class     Images  Instances      Box(P          R      mAP50  mAP50-95): 100%|██████████| 25/25 [00:08<00:00,  2.80it/s]\n"
          ]
        },
        {
          "output_type": "stream",
          "name": "stdout",
          "text": [
            "                   all        776        830      0.953      0.721      0.841      0.778\n",
            "\n",
            "      Epoch    GPU_mem   box_loss   cls_loss   dfl_loss  Instances       Size\n"
          ]
        },
        {
          "output_type": "stream",
          "name": "stderr",
          "text": [
            "     39/280      3.03G     0.6463     0.8915      1.067         29        640: 100%|██████████| 172/172 [00:54<00:00,  3.14it/s]\n",
            "                 Class     Images  Instances      Box(P          R      mAP50  mAP50-95): 100%|██████████| 25/25 [00:07<00:00,  3.42it/s]"
          ]
        },
        {
          "output_type": "stream",
          "name": "stdout",
          "text": [
            "                   all        776        830      0.847      0.817      0.837      0.769\n"
          ]
        },
        {
          "output_type": "stream",
          "name": "stderr",
          "text": [
            "\n"
          ]
        },
        {
          "output_type": "stream",
          "name": "stdout",
          "text": [
            "\n",
            "      Epoch    GPU_mem   box_loss   cls_loss   dfl_loss  Instances       Size\n"
          ]
        },
        {
          "output_type": "stream",
          "name": "stderr",
          "text": [
            "     40/280      3.04G     0.6475     0.8757      1.072         27        640: 100%|██████████| 172/172 [00:53<00:00,  3.19it/s]\n",
            "                 Class     Images  Instances      Box(P          R      mAP50  mAP50-95): 100%|██████████| 25/25 [00:08<00:00,  2.79it/s]"
          ]
        },
        {
          "output_type": "stream",
          "name": "stdout",
          "text": [
            "                   all        776        830      0.916      0.764      0.853      0.791\n"
          ]
        },
        {
          "output_type": "stream",
          "name": "stderr",
          "text": [
            "\n"
          ]
        },
        {
          "output_type": "stream",
          "name": "stdout",
          "text": [
            "\n",
            "      Epoch    GPU_mem   box_loss   cls_loss   dfl_loss  Instances       Size\n"
          ]
        },
        {
          "output_type": "stream",
          "name": "stderr",
          "text": [
            "     41/280      3.05G     0.6423     0.8753      1.071         26        640: 100%|██████████| 172/172 [00:53<00:00,  3.19it/s]\n",
            "                 Class     Images  Instances      Box(P          R      mAP50  mAP50-95): 100%|██████████| 25/25 [00:07<00:00,  3.38it/s]"
          ]
        },
        {
          "output_type": "stream",
          "name": "stdout",
          "text": [
            "                   all        776        830      0.864      0.808      0.862      0.802\n"
          ]
        },
        {
          "output_type": "stream",
          "name": "stderr",
          "text": [
            "\n"
          ]
        },
        {
          "output_type": "stream",
          "name": "stdout",
          "text": [
            "\n",
            "      Epoch    GPU_mem   box_loss   cls_loss   dfl_loss  Instances       Size\n"
          ]
        },
        {
          "output_type": "stream",
          "name": "stderr",
          "text": [
            "     42/280      3.06G     0.6456      0.852      1.071         24        640: 100%|██████████| 172/172 [00:54<00:00,  3.15it/s]\n",
            "                 Class     Images  Instances      Box(P          R      mAP50  mAP50-95): 100%|██████████| 25/25 [00:08<00:00,  2.80it/s]\n"
          ]
        },
        {
          "output_type": "stream",
          "name": "stdout",
          "text": [
            "                   all        776        830      0.862      0.784      0.866      0.805\n",
            "\n",
            "      Epoch    GPU_mem   box_loss   cls_loss   dfl_loss  Instances       Size\n"
          ]
        },
        {
          "output_type": "stream",
          "name": "stderr",
          "text": [
            "     43/280      3.07G      0.638     0.8671      1.065         26        640: 100%|██████████| 172/172 [00:53<00:00,  3.19it/s]\n",
            "                 Class     Images  Instances      Box(P          R      mAP50  mAP50-95): 100%|██████████| 25/25 [00:07<00:00,  3.34it/s]"
          ]
        },
        {
          "output_type": "stream",
          "name": "stdout",
          "text": [
            "                   all        776        830      0.885      0.765      0.854      0.794\n"
          ]
        },
        {
          "output_type": "stream",
          "name": "stderr",
          "text": [
            "\n"
          ]
        },
        {
          "output_type": "stream",
          "name": "stdout",
          "text": [
            "\n",
            "      Epoch    GPU_mem   box_loss   cls_loss   dfl_loss  Instances       Size\n"
          ]
        },
        {
          "output_type": "stream",
          "name": "stderr",
          "text": [
            "     44/280      3.09G     0.6315     0.8488      1.064         26        640: 100%|██████████| 172/172 [00:54<00:00,  3.18it/s]\n",
            "                 Class     Images  Instances      Box(P          R      mAP50  mAP50-95): 100%|██████████| 25/25 [00:08<00:00,  2.78it/s]\n"
          ]
        },
        {
          "output_type": "stream",
          "name": "stdout",
          "text": [
            "                   all        776        830      0.842      0.778      0.827      0.772\n",
            "\n",
            "      Epoch    GPU_mem   box_loss   cls_loss   dfl_loss  Instances       Size\n"
          ]
        },
        {
          "output_type": "stream",
          "name": "stderr",
          "text": [
            "     45/280       3.1G      0.641     0.8496      1.068         19        640: 100%|██████████| 172/172 [00:53<00:00,  3.19it/s]\n",
            "                 Class     Images  Instances      Box(P          R      mAP50  mAP50-95): 100%|██████████| 25/25 [00:07<00:00,  3.33it/s]\n"
          ]
        },
        {
          "output_type": "stream",
          "name": "stdout",
          "text": [
            "                   all        776        830       0.87      0.771      0.842       0.78\n",
            "\n",
            "      Epoch    GPU_mem   box_loss   cls_loss   dfl_loss  Instances       Size\n"
          ]
        },
        {
          "output_type": "stream",
          "name": "stderr",
          "text": [
            "     46/280      3.11G     0.6318     0.8395      1.063         23        640: 100%|██████████| 172/172 [00:53<00:00,  3.22it/s]\n",
            "                 Class     Images  Instances      Box(P          R      mAP50  mAP50-95): 100%|██████████| 25/25 [00:08<00:00,  2.86it/s]\n"
          ]
        },
        {
          "output_type": "stream",
          "name": "stdout",
          "text": [
            "                   all        776        830      0.821      0.809      0.859      0.801\n",
            "\n",
            "      Epoch    GPU_mem   box_loss   cls_loss   dfl_loss  Instances       Size\n"
          ]
        },
        {
          "output_type": "stream",
          "name": "stderr",
          "text": [
            "     47/280      3.12G     0.6288     0.8415       1.06         24        640: 100%|██████████| 172/172 [00:53<00:00,  3.20it/s]\n",
            "                 Class     Images  Instances      Box(P          R      mAP50  mAP50-95): 100%|██████████| 25/25 [00:08<00:00,  2.96it/s]"
          ]
        },
        {
          "output_type": "stream",
          "name": "stdout",
          "text": [
            "                   all        776        830      0.922      0.775      0.875      0.812\n"
          ]
        },
        {
          "output_type": "stream",
          "name": "stderr",
          "text": [
            "\n"
          ]
        },
        {
          "output_type": "stream",
          "name": "stdout",
          "text": [
            "\n",
            "      Epoch    GPU_mem   box_loss   cls_loss   dfl_loss  Instances       Size\n"
          ]
        },
        {
          "output_type": "stream",
          "name": "stderr",
          "text": [
            "     48/280      3.13G     0.6214     0.8032      1.059         23        640: 100%|██████████| 172/172 [00:56<00:00,  3.07it/s]\n",
            "                 Class     Images  Instances      Box(P          R      mAP50  mAP50-95): 100%|██████████| 25/25 [00:07<00:00,  3.26it/s]"
          ]
        },
        {
          "output_type": "stream",
          "name": "stdout",
          "text": [
            "                   all        776        830      0.917      0.792      0.849      0.793\n"
          ]
        },
        {
          "output_type": "stream",
          "name": "stderr",
          "text": [
            "\n"
          ]
        },
        {
          "output_type": "stream",
          "name": "stdout",
          "text": [
            "\n",
            "      Epoch    GPU_mem   box_loss   cls_loss   dfl_loss  Instances       Size\n"
          ]
        },
        {
          "output_type": "stream",
          "name": "stderr",
          "text": [
            "     49/280      3.14G     0.6221     0.8278      1.064         26        640: 100%|██████████| 172/172 [00:53<00:00,  3.19it/s]\n",
            "                 Class     Images  Instances      Box(P          R      mAP50  mAP50-95): 100%|██████████| 25/25 [00:08<00:00,  2.95it/s]"
          ]
        },
        {
          "output_type": "stream",
          "name": "stdout",
          "text": [
            "                   all        776        830      0.858      0.817       0.84       0.78\n"
          ]
        },
        {
          "output_type": "stream",
          "name": "stderr",
          "text": [
            "\n"
          ]
        },
        {
          "output_type": "stream",
          "name": "stdout",
          "text": [
            "\n",
            "      Epoch    GPU_mem   box_loss   cls_loss   dfl_loss  Instances       Size\n"
          ]
        },
        {
          "output_type": "stream",
          "name": "stderr",
          "text": [
            "     50/280      3.15G     0.6295     0.8254       1.06         28        640: 100%|██████████| 172/172 [00:53<00:00,  3.19it/s]\n",
            "                 Class     Images  Instances      Box(P          R      mAP50  mAP50-95): 100%|██████████| 25/25 [00:07<00:00,  3.38it/s]\n"
          ]
        },
        {
          "output_type": "stream",
          "name": "stdout",
          "text": [
            "                   all        776        830      0.935      0.782      0.859      0.791\n",
            "\n",
            "      Epoch    GPU_mem   box_loss   cls_loss   dfl_loss  Instances       Size\n"
          ]
        },
        {
          "output_type": "stream",
          "name": "stderr",
          "text": [
            "     51/280      3.17G     0.6256     0.8103      1.061         23        640: 100%|██████████| 172/172 [00:54<00:00,  3.17it/s]\n",
            "                 Class     Images  Instances      Box(P          R      mAP50  mAP50-95): 100%|██████████| 25/25 [00:08<00:00,  2.84it/s]\n"
          ]
        },
        {
          "output_type": "stream",
          "name": "stdout",
          "text": [
            "                   all        776        830      0.927      0.763      0.884       0.82\n",
            "\n",
            "      Epoch    GPU_mem   box_loss   cls_loss   dfl_loss  Instances       Size\n"
          ]
        },
        {
          "output_type": "stream",
          "name": "stderr",
          "text": [
            "     52/280      3.18G     0.6223     0.8025      1.058         21        640: 100%|██████████| 172/172 [00:54<00:00,  3.15it/s]\n",
            "                 Class     Images  Instances      Box(P          R      mAP50  mAP50-95): 100%|██████████| 25/25 [00:07<00:00,  3.31it/s]\n"
          ]
        },
        {
          "output_type": "stream",
          "name": "stdout",
          "text": [
            "                   all        776        830      0.935      0.793      0.881      0.824\n",
            "\n",
            "      Epoch    GPU_mem   box_loss   cls_loss   dfl_loss  Instances       Size\n"
          ]
        },
        {
          "output_type": "stream",
          "name": "stderr",
          "text": [
            "     53/280      3.19G     0.6222     0.8019      1.061         18        640: 100%|██████████| 172/172 [00:54<00:00,  3.16it/s]\n",
            "                 Class     Images  Instances      Box(P          R      mAP50  mAP50-95): 100%|██████████| 25/25 [00:08<00:00,  2.92it/s]"
          ]
        },
        {
          "output_type": "stream",
          "name": "stdout",
          "text": [
            "                   all        776        830      0.896      0.826      0.881       0.82\n"
          ]
        },
        {
          "output_type": "stream",
          "name": "stderr",
          "text": [
            "\n"
          ]
        },
        {
          "output_type": "stream",
          "name": "stdout",
          "text": [
            "\n",
            "      Epoch    GPU_mem   box_loss   cls_loss   dfl_loss  Instances       Size\n"
          ]
        },
        {
          "output_type": "stream",
          "name": "stderr",
          "text": [
            "     54/280       3.2G     0.6231     0.7801      1.059         19        640: 100%|██████████| 172/172 [00:54<00:00,  3.17it/s]\n",
            "                 Class     Images  Instances      Box(P          R      mAP50  mAP50-95): 100%|██████████| 25/25 [00:08<00:00,  2.98it/s]"
          ]
        },
        {
          "output_type": "stream",
          "name": "stdout",
          "text": [
            "                   all        776        830      0.931      0.782      0.914      0.854\n"
          ]
        },
        {
          "output_type": "stream",
          "name": "stderr",
          "text": [
            "\n"
          ]
        },
        {
          "output_type": "stream",
          "name": "stdout",
          "text": [
            "\n",
            "      Epoch    GPU_mem   box_loss   cls_loss   dfl_loss  Instances       Size\n"
          ]
        },
        {
          "output_type": "stream",
          "name": "stderr",
          "text": [
            "     55/280      3.21G     0.6148     0.7752      1.055         26        640: 100%|██████████| 172/172 [00:54<00:00,  3.17it/s]\n",
            "                 Class     Images  Instances      Box(P          R      mAP50  mAP50-95): 100%|██████████| 25/25 [00:07<00:00,  3.40it/s]"
          ]
        },
        {
          "output_type": "stream",
          "name": "stdout",
          "text": [
            "                   all        776        830      0.914       0.82       0.88      0.826\n"
          ]
        },
        {
          "output_type": "stream",
          "name": "stderr",
          "text": [
            "\n"
          ]
        },
        {
          "output_type": "stream",
          "name": "stdout",
          "text": [
            "\n",
            "      Epoch    GPU_mem   box_loss   cls_loss   dfl_loss  Instances       Size\n"
          ]
        },
        {
          "output_type": "stream",
          "name": "stderr",
          "text": [
            "     56/280      3.22G     0.6197     0.7745      1.057         29        640: 100%|██████████| 172/172 [00:54<00:00,  3.15it/s]\n",
            "                 Class     Images  Instances      Box(P          R      mAP50  mAP50-95): 100%|██████████| 25/25 [00:08<00:00,  2.93it/s]"
          ]
        },
        {
          "output_type": "stream",
          "name": "stdout",
          "text": [
            "                   all        776        830      0.878      0.821      0.892      0.833\n"
          ]
        },
        {
          "output_type": "stream",
          "name": "stderr",
          "text": [
            "\n"
          ]
        },
        {
          "output_type": "stream",
          "name": "stdout",
          "text": [
            "\n",
            "      Epoch    GPU_mem   box_loss   cls_loss   dfl_loss  Instances       Size\n"
          ]
        },
        {
          "output_type": "stream",
          "name": "stderr",
          "text": [
            "     57/280      3.24G     0.6178     0.7774      1.058         19        640: 100%|██████████| 172/172 [00:54<00:00,  3.17it/s]\n",
            "                 Class     Images  Instances      Box(P          R      mAP50  mAP50-95): 100%|██████████| 25/25 [00:07<00:00,  3.32it/s]\n"
          ]
        },
        {
          "output_type": "stream",
          "name": "stdout",
          "text": [
            "                   all        776        830      0.923      0.815      0.888      0.828\n",
            "\n",
            "      Epoch    GPU_mem   box_loss   cls_loss   dfl_loss  Instances       Size\n"
          ]
        },
        {
          "output_type": "stream",
          "name": "stderr",
          "text": [
            "     58/280      3.25G     0.6084      0.775      1.055         27        640: 100%|██████████| 172/172 [00:53<00:00,  3.21it/s]\n",
            "                 Class     Images  Instances      Box(P          R      mAP50  mAP50-95): 100%|██████████| 25/25 [00:08<00:00,  2.82it/s]\n"
          ]
        },
        {
          "output_type": "stream",
          "name": "stdout",
          "text": [
            "                   all        776        830      0.893      0.821      0.901      0.849\n",
            "\n",
            "      Epoch    GPU_mem   box_loss   cls_loss   dfl_loss  Instances       Size\n"
          ]
        },
        {
          "output_type": "stream",
          "name": "stderr",
          "text": [
            "     59/280      3.26G      0.594     0.7654      1.042         20        640: 100%|██████████| 172/172 [00:53<00:00,  3.19it/s]\n",
            "                 Class     Images  Instances      Box(P          R      mAP50  mAP50-95): 100%|██████████| 25/25 [00:07<00:00,  3.33it/s]"
          ]
        },
        {
          "output_type": "stream",
          "name": "stdout",
          "text": [
            "                   all        776        830      0.926      0.819      0.895      0.832\n"
          ]
        },
        {
          "output_type": "stream",
          "name": "stderr",
          "text": [
            "\n"
          ]
        },
        {
          "output_type": "stream",
          "name": "stdout",
          "text": [
            "\n",
            "      Epoch    GPU_mem   box_loss   cls_loss   dfl_loss  Instances       Size\n"
          ]
        },
        {
          "output_type": "stream",
          "name": "stderr",
          "text": [
            "     60/280      3.27G     0.6037     0.7667      1.049         24        640: 100%|██████████| 172/172 [00:54<00:00,  3.14it/s]\n",
            "                 Class     Images  Instances      Box(P          R      mAP50  mAP50-95): 100%|██████████| 25/25 [00:08<00:00,  2.86it/s]"
          ]
        },
        {
          "output_type": "stream",
          "name": "stdout",
          "text": [
            "                   all        776        830      0.931      0.777      0.864      0.804\n"
          ]
        },
        {
          "output_type": "stream",
          "name": "stderr",
          "text": [
            "\n"
          ]
        },
        {
          "output_type": "stream",
          "name": "stdout",
          "text": [
            "\n",
            "      Epoch    GPU_mem   box_loss   cls_loss   dfl_loss  Instances       Size\n"
          ]
        },
        {
          "output_type": "stream",
          "name": "stderr",
          "text": [
            "     61/280      3.28G     0.6018     0.7533      1.051         24        640: 100%|██████████| 172/172 [00:54<00:00,  3.17it/s]\n",
            "                 Class     Images  Instances      Box(P          R      mAP50  mAP50-95): 100%|██████████| 25/25 [00:08<00:00,  2.92it/s]"
          ]
        },
        {
          "output_type": "stream",
          "name": "stdout",
          "text": [
            "                   all        776        830      0.909       0.81      0.871      0.815\n"
          ]
        },
        {
          "output_type": "stream",
          "name": "stderr",
          "text": [
            "\n"
          ]
        },
        {
          "output_type": "stream",
          "name": "stdout",
          "text": [
            "\n",
            "      Epoch    GPU_mem   box_loss   cls_loss   dfl_loss  Instances       Size\n"
          ]
        },
        {
          "output_type": "stream",
          "name": "stderr",
          "text": [
            "     62/280      3.29G        0.6     0.7627      1.054         20        640: 100%|██████████| 172/172 [00:53<00:00,  3.20it/s]\n",
            "                 Class     Images  Instances      Box(P          R      mAP50  mAP50-95): 100%|██████████| 25/25 [00:07<00:00,  3.23it/s]"
          ]
        },
        {
          "output_type": "stream",
          "name": "stdout",
          "text": [
            "                   all        776        830       0.94      0.805      0.889      0.833\n"
          ]
        },
        {
          "output_type": "stream",
          "name": "stderr",
          "text": [
            "\n"
          ]
        },
        {
          "output_type": "stream",
          "name": "stdout",
          "text": [
            "\n",
            "      Epoch    GPU_mem   box_loss   cls_loss   dfl_loss  Instances       Size\n"
          ]
        },
        {
          "output_type": "stream",
          "name": "stderr",
          "text": [
            "     63/280       3.3G     0.6094     0.7534      1.049         20        640: 100%|██████████| 172/172 [00:53<00:00,  3.22it/s]\n",
            "                 Class     Images  Instances      Box(P          R      mAP50  mAP50-95): 100%|██████████| 25/25 [00:08<00:00,  2.96it/s]"
          ]
        },
        {
          "output_type": "stream",
          "name": "stdout",
          "text": [
            "                   all        776        830       0.87      0.783      0.888      0.832\n"
          ]
        },
        {
          "output_type": "stream",
          "name": "stderr",
          "text": [
            "\n"
          ]
        },
        {
          "output_type": "stream",
          "name": "stdout",
          "text": [
            "\n",
            "      Epoch    GPU_mem   box_loss   cls_loss   dfl_loss  Instances       Size\n"
          ]
        },
        {
          "output_type": "stream",
          "name": "stderr",
          "text": [
            "     64/280      3.31G     0.6006     0.7674      1.044         27        640: 100%|██████████| 172/172 [00:53<00:00,  3.23it/s]\n",
            "                 Class     Images  Instances      Box(P          R      mAP50  mAP50-95): 100%|██████████| 25/25 [00:07<00:00,  3.14it/s]\n"
          ]
        },
        {
          "output_type": "stream",
          "name": "stdout",
          "text": [
            "                   all        776        830      0.912      0.847       0.93      0.877\n",
            "\n",
            "      Epoch    GPU_mem   box_loss   cls_loss   dfl_loss  Instances       Size\n"
          ]
        },
        {
          "output_type": "stream",
          "name": "stderr",
          "text": [
            "     65/280      3.33G     0.6002     0.7302      1.043         24        640: 100%|██████████| 172/172 [00:53<00:00,  3.19it/s]\n",
            "                 Class     Images  Instances      Box(P          R      mAP50  mAP50-95): 100%|██████████| 25/25 [00:08<00:00,  2.91it/s]"
          ]
        },
        {
          "output_type": "stream",
          "name": "stdout",
          "text": [
            "                   all        776        830      0.904      0.819      0.908      0.854\n"
          ]
        },
        {
          "output_type": "stream",
          "name": "stderr",
          "text": [
            "\n"
          ]
        },
        {
          "output_type": "stream",
          "name": "stdout",
          "text": [
            "\n",
            "      Epoch    GPU_mem   box_loss   cls_loss   dfl_loss  Instances       Size\n"
          ]
        },
        {
          "output_type": "stream",
          "name": "stderr",
          "text": [
            "     66/280      3.34G     0.5945     0.7182      1.038         24        640: 100%|██████████| 172/172 [00:53<00:00,  3.23it/s]\n",
            "                 Class     Images  Instances      Box(P          R      mAP50  mAP50-95): 100%|██████████| 25/25 [00:07<00:00,  3.40it/s]"
          ]
        },
        {
          "output_type": "stream",
          "name": "stdout",
          "text": [
            "                   all        776        830      0.922      0.831      0.885      0.834\n"
          ]
        },
        {
          "output_type": "stream",
          "name": "stderr",
          "text": [
            "\n"
          ]
        },
        {
          "output_type": "stream",
          "name": "stdout",
          "text": [
            "\n",
            "      Epoch    GPU_mem   box_loss   cls_loss   dfl_loss  Instances       Size\n"
          ]
        },
        {
          "output_type": "stream",
          "name": "stderr",
          "text": [
            "     67/280      3.35G     0.6008       0.73      1.046         24        640: 100%|██████████| 172/172 [00:54<00:00,  3.18it/s]\n",
            "                 Class     Images  Instances      Box(P          R      mAP50  mAP50-95): 100%|██████████| 25/25 [00:09<00:00,  2.74it/s]"
          ]
        },
        {
          "output_type": "stream",
          "name": "stdout",
          "text": [
            "                   all        776        830      0.949      0.838      0.921      0.864\n"
          ]
        },
        {
          "output_type": "stream",
          "name": "stderr",
          "text": [
            "\n"
          ]
        },
        {
          "output_type": "stream",
          "name": "stdout",
          "text": [
            "\n",
            "      Epoch    GPU_mem   box_loss   cls_loss   dfl_loss  Instances       Size\n"
          ]
        },
        {
          "output_type": "stream",
          "name": "stderr",
          "text": [
            "     68/280      3.36G      0.592     0.7427      1.041         25        640: 100%|██████████| 172/172 [00:54<00:00,  3.13it/s]\n",
            "                 Class     Images  Instances      Box(P          R      mAP50  mAP50-95): 100%|██████████| 25/25 [00:07<00:00,  3.30it/s]"
          ]
        },
        {
          "output_type": "stream",
          "name": "stdout",
          "text": [
            "                   all        776        830      0.925      0.838      0.921       0.87\n"
          ]
        },
        {
          "output_type": "stream",
          "name": "stderr",
          "text": [
            "\n"
          ]
        },
        {
          "output_type": "stream",
          "name": "stdout",
          "text": [
            "\n",
            "      Epoch    GPU_mem   box_loss   cls_loss   dfl_loss  Instances       Size\n"
          ]
        },
        {
          "output_type": "stream",
          "name": "stderr",
          "text": [
            "     69/280      3.37G     0.5993     0.7317      1.047         28        640: 100%|██████████| 172/172 [00:53<00:00,  3.20it/s]\n",
            "                 Class     Images  Instances      Box(P          R      mAP50  mAP50-95): 100%|██████████| 25/25 [00:08<00:00,  2.90it/s]"
          ]
        },
        {
          "output_type": "stream",
          "name": "stdout",
          "text": [
            "                   all        776        830      0.855      0.857      0.888      0.831\n"
          ]
        },
        {
          "output_type": "stream",
          "name": "stderr",
          "text": [
            "\n"
          ]
        },
        {
          "output_type": "stream",
          "name": "stdout",
          "text": [
            "\n",
            "      Epoch    GPU_mem   box_loss   cls_loss   dfl_loss  Instances       Size\n"
          ]
        },
        {
          "output_type": "stream",
          "name": "stderr",
          "text": [
            "     70/280      3.38G     0.6042      0.739      1.045         21        640: 100%|██████████| 172/172 [00:55<00:00,  3.09it/s]\n",
            "                 Class     Images  Instances      Box(P          R      mAP50  mAP50-95): 100%|██████████| 25/25 [00:08<00:00,  2.85it/s]"
          ]
        },
        {
          "output_type": "stream",
          "name": "stdout",
          "text": [
            "                   all        776        830      0.941      0.816      0.897      0.843\n"
          ]
        },
        {
          "output_type": "stream",
          "name": "stderr",
          "text": [
            "\n"
          ]
        },
        {
          "output_type": "stream",
          "name": "stdout",
          "text": [
            "\n",
            "      Epoch    GPU_mem   box_loss   cls_loss   dfl_loss  Instances       Size\n"
          ]
        },
        {
          "output_type": "stream",
          "name": "stderr",
          "text": [
            "     71/280      3.39G     0.5952     0.7135      1.041         16        640: 100%|██████████| 172/172 [00:54<00:00,  3.15it/s]\n",
            "                 Class     Images  Instances      Box(P          R      mAP50  mAP50-95): 100%|██████████| 25/25 [00:07<00:00,  3.35it/s]"
          ]
        },
        {
          "output_type": "stream",
          "name": "stdout",
          "text": [
            "                   all        776        830      0.925      0.826      0.902      0.852\n"
          ]
        },
        {
          "output_type": "stream",
          "name": "stderr",
          "text": [
            "\n"
          ]
        },
        {
          "output_type": "stream",
          "name": "stdout",
          "text": [
            "\n",
            "      Epoch    GPU_mem   box_loss   cls_loss   dfl_loss  Instances       Size\n"
          ]
        },
        {
          "output_type": "stream",
          "name": "stderr",
          "text": [
            "     72/280      3.41G     0.5906     0.7268      1.043         28        640: 100%|██████████| 172/172 [00:54<00:00,  3.17it/s]\n",
            "                 Class     Images  Instances      Box(P          R      mAP50  mAP50-95): 100%|██████████| 25/25 [00:08<00:00,  2.92it/s]"
          ]
        },
        {
          "output_type": "stream",
          "name": "stdout",
          "text": [
            "                   all        776        830      0.933      0.838       0.92      0.864\n"
          ]
        },
        {
          "output_type": "stream",
          "name": "stderr",
          "text": [
            "\n"
          ]
        },
        {
          "output_type": "stream",
          "name": "stdout",
          "text": [
            "\n",
            "      Epoch    GPU_mem   box_loss   cls_loss   dfl_loss  Instances       Size\n"
          ]
        },
        {
          "output_type": "stream",
          "name": "stderr",
          "text": [
            "     73/280      3.42G     0.5816     0.7207      1.036         17        640: 100%|██████████| 172/172 [00:54<00:00,  3.14it/s]\n",
            "                 Class     Images  Instances      Box(P          R      mAP50  mAP50-95): 100%|██████████| 25/25 [00:08<00:00,  3.10it/s]"
          ]
        },
        {
          "output_type": "stream",
          "name": "stdout",
          "text": [
            "                   all        776        830      0.844      0.833      0.899      0.845\n"
          ]
        },
        {
          "output_type": "stream",
          "name": "stderr",
          "text": [
            "\n"
          ]
        },
        {
          "output_type": "stream",
          "name": "stdout",
          "text": [
            "\n",
            "      Epoch    GPU_mem   box_loss   cls_loss   dfl_loss  Instances       Size\n"
          ]
        },
        {
          "output_type": "stream",
          "name": "stderr",
          "text": [
            "     74/280      3.43G     0.5877     0.7156      1.042         25        640: 100%|██████████| 172/172 [00:53<00:00,  3.20it/s]\n",
            "                 Class     Images  Instances      Box(P          R      mAP50  mAP50-95): 100%|██████████| 25/25 [00:07<00:00,  3.16it/s]\n"
          ]
        },
        {
          "output_type": "stream",
          "name": "stdout",
          "text": [
            "                   all        776        830      0.935      0.838      0.904      0.851\n",
            "\n",
            "      Epoch    GPU_mem   box_loss   cls_loss   dfl_loss  Instances       Size\n"
          ]
        },
        {
          "output_type": "stream",
          "name": "stderr",
          "text": [
            "     75/280      3.44G     0.5918     0.7037      1.036         24        640: 100%|██████████| 172/172 [00:54<00:00,  3.17it/s]\n",
            "                 Class     Images  Instances      Box(P          R      mAP50  mAP50-95): 100%|██████████| 25/25 [00:08<00:00,  2.80it/s]\n"
          ]
        },
        {
          "output_type": "stream",
          "name": "stdout",
          "text": [
            "                   all        776        830      0.947      0.799      0.882       0.83\n",
            "\n",
            "      Epoch    GPU_mem   box_loss   cls_loss   dfl_loss  Instances       Size\n"
          ]
        },
        {
          "output_type": "stream",
          "name": "stderr",
          "text": [
            "     76/280      3.45G     0.5827     0.7061      1.034         36        640: 100%|██████████| 172/172 [00:54<00:00,  3.18it/s]\n",
            "                 Class     Images  Instances      Box(P          R      mAP50  mAP50-95): 100%|██████████| 25/25 [00:07<00:00,  3.31it/s]\n"
          ]
        },
        {
          "output_type": "stream",
          "name": "stdout",
          "text": [
            "                   all        776        830      0.847      0.854      0.906      0.856\n",
            "\n",
            "      Epoch    GPU_mem   box_loss   cls_loss   dfl_loss  Instances       Size\n"
          ]
        },
        {
          "output_type": "stream",
          "name": "stderr",
          "text": [
            "     77/280      3.46G     0.5925      0.691      1.041         24        640: 100%|██████████| 172/172 [00:54<00:00,  3.17it/s]\n",
            "                 Class     Images  Instances      Box(P          R      mAP50  mAP50-95): 100%|██████████| 25/25 [00:09<00:00,  2.77it/s]"
          ]
        },
        {
          "output_type": "stream",
          "name": "stdout",
          "text": [
            "                   all        776        830      0.924      0.833      0.929      0.873\n"
          ]
        },
        {
          "output_type": "stream",
          "name": "stderr",
          "text": [
            "\n"
          ]
        },
        {
          "output_type": "stream",
          "name": "stdout",
          "text": [
            "\n",
            "      Epoch    GPU_mem   box_loss   cls_loss   dfl_loss  Instances       Size\n"
          ]
        },
        {
          "output_type": "stream",
          "name": "stderr",
          "text": [
            "     78/280      3.47G     0.5842     0.6873      1.039         22        640: 100%|██████████| 172/172 [00:54<00:00,  3.18it/s]\n",
            "                 Class     Images  Instances      Box(P          R      mAP50  mAP50-95): 100%|██████████| 25/25 [00:07<00:00,  3.35it/s]\n"
          ]
        },
        {
          "output_type": "stream",
          "name": "stdout",
          "text": [
            "                   all        776        830      0.905      0.845       0.87      0.815\n",
            "\n",
            "      Epoch    GPU_mem   box_loss   cls_loss   dfl_loss  Instances       Size\n"
          ]
        },
        {
          "output_type": "stream",
          "name": "stderr",
          "text": [
            "     79/280      3.49G     0.5929     0.6985      1.044         19        640: 100%|██████████| 172/172 [00:53<00:00,  3.21it/s]\n",
            "                 Class     Images  Instances      Box(P          R      mAP50  mAP50-95): 100%|██████████| 25/25 [00:08<00:00,  2.88it/s]\n"
          ]
        },
        {
          "output_type": "stream",
          "name": "stdout",
          "text": [
            "                   all        776        830      0.942      0.816      0.881      0.831\n",
            "\n",
            "      Epoch    GPU_mem   box_loss   cls_loss   dfl_loss  Instances       Size\n"
          ]
        },
        {
          "output_type": "stream",
          "name": "stderr",
          "text": [
            "     80/280       3.5G     0.5759     0.6938      1.036         31        640: 100%|██████████| 172/172 [00:54<00:00,  3.14it/s]\n",
            "                 Class     Images  Instances      Box(P          R      mAP50  mAP50-95): 100%|██████████| 25/25 [00:08<00:00,  2.91it/s]\n"
          ]
        },
        {
          "output_type": "stream",
          "name": "stdout",
          "text": [
            "                   all        776        830      0.908      0.827      0.879      0.827\n",
            "\n",
            "      Epoch    GPU_mem   box_loss   cls_loss   dfl_loss  Instances       Size\n"
          ]
        },
        {
          "output_type": "stream",
          "name": "stderr",
          "text": [
            "     81/280      3.51G     0.5761     0.6813      1.033         24        640: 100%|██████████| 172/172 [00:54<00:00,  3.18it/s]\n",
            "                 Class     Images  Instances      Box(P          R      mAP50  mAP50-95): 100%|██████████| 25/25 [00:07<00:00,  3.36it/s]\n"
          ]
        },
        {
          "output_type": "stream",
          "name": "stdout",
          "text": [
            "                   all        776        830      0.923      0.847      0.927      0.875\n",
            "\n",
            "      Epoch    GPU_mem   box_loss   cls_loss   dfl_loss  Instances       Size\n"
          ]
        },
        {
          "output_type": "stream",
          "name": "stderr",
          "text": [
            "     82/280      3.52G     0.5783     0.6785      1.037         18        640: 100%|██████████| 172/172 [00:53<00:00,  3.20it/s]\n",
            "                 Class     Images  Instances      Box(P          R      mAP50  mAP50-95): 100%|██████████| 25/25 [00:08<00:00,  2.84it/s]\n"
          ]
        },
        {
          "output_type": "stream",
          "name": "stdout",
          "text": [
            "                   all        776        830       0.94      0.836      0.931      0.879\n",
            "\n",
            "      Epoch    GPU_mem   box_loss   cls_loss   dfl_loss  Instances       Size\n"
          ]
        },
        {
          "output_type": "stream",
          "name": "stderr",
          "text": [
            "     83/280      3.53G     0.5728     0.6902      1.033         20        640: 100%|██████████| 172/172 [00:54<00:00,  3.16it/s]\n",
            "                 Class     Images  Instances      Box(P          R      mAP50  mAP50-95): 100%|██████████| 25/25 [00:07<00:00,  3.40it/s]"
          ]
        },
        {
          "output_type": "stream",
          "name": "stdout",
          "text": [
            "                   all        776        830       0.93      0.838      0.903      0.851\n"
          ]
        },
        {
          "output_type": "stream",
          "name": "stderr",
          "text": [
            "\n"
          ]
        },
        {
          "output_type": "stream",
          "name": "stdout",
          "text": [
            "\n",
            "      Epoch    GPU_mem   box_loss   cls_loss   dfl_loss  Instances       Size\n"
          ]
        },
        {
          "output_type": "stream",
          "name": "stderr",
          "text": [
            "     84/280      3.55G     0.5759     0.6701      1.037         17        640: 100%|██████████| 172/172 [00:54<00:00,  3.16it/s]\n",
            "                 Class     Images  Instances      Box(P          R      mAP50  mAP50-95): 100%|██████████| 25/25 [00:08<00:00,  2.92it/s]\n"
          ]
        },
        {
          "output_type": "stream",
          "name": "stdout",
          "text": [
            "                   all        776        830      0.871      0.815      0.901      0.854\n",
            "\n",
            "      Epoch    GPU_mem   box_loss   cls_loss   dfl_loss  Instances       Size\n"
          ]
        },
        {
          "output_type": "stream",
          "name": "stderr",
          "text": [
            "     85/280      3.55G     0.5608     0.6607      1.032         22        640: 100%|██████████| 172/172 [00:55<00:00,  3.12it/s]\n",
            "                 Class     Images  Instances      Box(P          R      mAP50  mAP50-95): 100%|██████████| 25/25 [00:08<00:00,  3.04it/s]"
          ]
        },
        {
          "output_type": "stream",
          "name": "stdout",
          "text": [
            "                   all        776        830      0.949      0.822      0.903       0.86\n"
          ]
        },
        {
          "output_type": "stream",
          "name": "stderr",
          "text": [
            "\n"
          ]
        },
        {
          "output_type": "stream",
          "name": "stdout",
          "text": [
            "\n",
            "      Epoch    GPU_mem   box_loss   cls_loss   dfl_loss  Instances       Size\n"
          ]
        },
        {
          "output_type": "stream",
          "name": "stderr",
          "text": [
            "     86/280      3.57G     0.5798     0.6744      1.037         25        640: 100%|██████████| 172/172 [00:55<00:00,  3.12it/s]\n",
            "                 Class     Images  Instances      Box(P          R      mAP50  mAP50-95): 100%|██████████| 25/25 [00:07<00:00,  3.34it/s]"
          ]
        },
        {
          "output_type": "stream",
          "name": "stdout",
          "text": [
            "                   all        776        830      0.925      0.844      0.905       0.86\n"
          ]
        },
        {
          "output_type": "stream",
          "name": "stderr",
          "text": [
            "\n"
          ]
        },
        {
          "output_type": "stream",
          "name": "stdout",
          "text": [
            "\n",
            "      Epoch    GPU_mem   box_loss   cls_loss   dfl_loss  Instances       Size\n"
          ]
        },
        {
          "output_type": "stream",
          "name": "stderr",
          "text": [
            "     87/280      3.58G     0.5728     0.6785      1.032         29        640: 100%|██████████| 172/172 [00:54<00:00,  3.18it/s]\n",
            "                 Class     Images  Instances      Box(P          R      mAP50  mAP50-95): 100%|██████████| 25/25 [00:08<00:00,  2.88it/s]\n"
          ]
        },
        {
          "output_type": "stream",
          "name": "stdout",
          "text": [
            "                   all        776        830      0.934      0.819      0.917      0.868\n",
            "\n",
            "      Epoch    GPU_mem   box_loss   cls_loss   dfl_loss  Instances       Size\n"
          ]
        },
        {
          "output_type": "stream",
          "name": "stderr",
          "text": [
            "     88/280      3.59G     0.5754     0.6662      1.032         20        640: 100%|██████████| 172/172 [00:54<00:00,  3.16it/s]\n",
            "                 Class     Images  Instances      Box(P          R      mAP50  mAP50-95): 100%|██████████| 25/25 [00:07<00:00,  3.44it/s]"
          ]
        },
        {
          "output_type": "stream",
          "name": "stdout",
          "text": [
            "                   all        776        830      0.949      0.808      0.906      0.855\n"
          ]
        },
        {
          "output_type": "stream",
          "name": "stderr",
          "text": [
            "\n"
          ]
        },
        {
          "output_type": "stream",
          "name": "stdout",
          "text": [
            "\n",
            "      Epoch    GPU_mem   box_loss   cls_loss   dfl_loss  Instances       Size\n"
          ]
        },
        {
          "output_type": "stream",
          "name": "stderr",
          "text": [
            "     89/280       3.6G     0.5706     0.6723      1.029         23        640: 100%|██████████| 172/172 [00:54<00:00,  3.15it/s]\n",
            "                 Class     Images  Instances      Box(P          R      mAP50  mAP50-95): 100%|██████████| 25/25 [00:08<00:00,  2.91it/s]"
          ]
        },
        {
          "output_type": "stream",
          "name": "stdout",
          "text": [
            "                   all        776        830      0.823      0.882      0.902      0.856\n"
          ]
        },
        {
          "output_type": "stream",
          "name": "stderr",
          "text": [
            "\n"
          ]
        },
        {
          "output_type": "stream",
          "name": "stdout",
          "text": [
            "\n",
            "      Epoch    GPU_mem   box_loss   cls_loss   dfl_loss  Instances       Size\n"
          ]
        },
        {
          "output_type": "stream",
          "name": "stderr",
          "text": [
            "     90/280      3.61G     0.5751     0.6789      1.036         30        640: 100%|██████████| 172/172 [00:54<00:00,  3.15it/s]\n",
            "                 Class     Images  Instances      Box(P          R      mAP50  mAP50-95): 100%|██████████| 25/25 [00:07<00:00,  3.16it/s]"
          ]
        },
        {
          "output_type": "stream",
          "name": "stdout",
          "text": [
            "                   all        776        830      0.968      0.828      0.925      0.879\n"
          ]
        },
        {
          "output_type": "stream",
          "name": "stderr",
          "text": [
            "\n"
          ]
        },
        {
          "output_type": "stream",
          "name": "stdout",
          "text": [
            "\n",
            "      Epoch    GPU_mem   box_loss   cls_loss   dfl_loss  Instances       Size\n"
          ]
        },
        {
          "output_type": "stream",
          "name": "stderr",
          "text": [
            "     91/280      3.63G     0.5628     0.6523      1.025         16        640: 100%|██████████| 172/172 [00:53<00:00,  3.21it/s]\n",
            "                 Class     Images  Instances      Box(P          R      mAP50  mAP50-95): 100%|██████████| 25/25 [00:08<00:00,  2.91it/s]"
          ]
        },
        {
          "output_type": "stream",
          "name": "stdout",
          "text": [
            "                   all        776        830      0.953      0.828      0.903      0.849\n"
          ]
        },
        {
          "output_type": "stream",
          "name": "stderr",
          "text": [
            "\n"
          ]
        },
        {
          "output_type": "stream",
          "name": "stdout",
          "text": [
            "\n",
            "      Epoch    GPU_mem   box_loss   cls_loss   dfl_loss  Instances       Size\n"
          ]
        },
        {
          "output_type": "stream",
          "name": "stderr",
          "text": [
            "     92/280      3.64G     0.5623     0.6604      1.028         21        640: 100%|██████████| 172/172 [00:55<00:00,  3.11it/s]\n",
            "                 Class     Images  Instances      Box(P          R      mAP50  mAP50-95): 100%|██████████| 25/25 [00:08<00:00,  2.90it/s]"
          ]
        },
        {
          "output_type": "stream",
          "name": "stdout",
          "text": [
            "                   all        776        830      0.954      0.807      0.933      0.882\n"
          ]
        },
        {
          "output_type": "stream",
          "name": "stderr",
          "text": [
            "\n"
          ]
        },
        {
          "output_type": "stream",
          "name": "stdout",
          "text": [
            "\n",
            "      Epoch    GPU_mem   box_loss   cls_loss   dfl_loss  Instances       Size\n"
          ]
        },
        {
          "output_type": "stream",
          "name": "stderr",
          "text": [
            "     93/280      3.65G     0.5654     0.6669      1.033         26        640: 100%|██████████| 172/172 [00:54<00:00,  3.17it/s]\n",
            "                 Class     Images  Instances      Box(P          R      mAP50  mAP50-95): 100%|██████████| 25/25 [00:07<00:00,  3.36it/s]"
          ]
        },
        {
          "output_type": "stream",
          "name": "stdout",
          "text": [
            "                   all        776        830       0.84      0.908      0.945      0.893\n"
          ]
        },
        {
          "output_type": "stream",
          "name": "stderr",
          "text": [
            "\n"
          ]
        },
        {
          "output_type": "stream",
          "name": "stdout",
          "text": [
            "\n",
            "      Epoch    GPU_mem   box_loss   cls_loss   dfl_loss  Instances       Size\n"
          ]
        },
        {
          "output_type": "stream",
          "name": "stderr",
          "text": [
            "     94/280      3.66G     0.5692     0.6663      1.034         23        640: 100%|██████████| 172/172 [00:54<00:00,  3.16it/s]\n",
            "                 Class     Images  Instances      Box(P          R      mAP50  mAP50-95): 100%|██████████| 25/25 [00:08<00:00,  2.92it/s]"
          ]
        },
        {
          "output_type": "stream",
          "name": "stdout",
          "text": [
            "                   all        776        830      0.929      0.841      0.941       0.89\n"
          ]
        },
        {
          "output_type": "stream",
          "name": "stderr",
          "text": [
            "\n"
          ]
        },
        {
          "output_type": "stream",
          "name": "stdout",
          "text": [
            "\n",
            "      Epoch    GPU_mem   box_loss   cls_loss   dfl_loss  Instances       Size\n"
          ]
        },
        {
          "output_type": "stream",
          "name": "stderr",
          "text": [
            "     95/280      3.67G     0.5554     0.6412      1.021         22        640: 100%|██████████| 172/172 [00:54<00:00,  3.15it/s]\n",
            "                 Class     Images  Instances      Box(P          R      mAP50  mAP50-95): 100%|██████████| 25/25 [00:07<00:00,  3.34it/s]\n"
          ]
        },
        {
          "output_type": "stream",
          "name": "stdout",
          "text": [
            "                   all        776        830       0.85      0.878      0.927      0.872\n",
            "\n",
            "      Epoch    GPU_mem   box_loss   cls_loss   dfl_loss  Instances       Size\n"
          ]
        },
        {
          "output_type": "stream",
          "name": "stderr",
          "text": [
            "     96/280      3.68G     0.5566     0.6444      1.023         24        640: 100%|██████████| 172/172 [00:53<00:00,  3.21it/s]\n",
            "                 Class     Images  Instances      Box(P          R      mAP50  mAP50-95): 100%|██████████| 25/25 [00:09<00:00,  2.76it/s]\n"
          ]
        },
        {
          "output_type": "stream",
          "name": "stdout",
          "text": [
            "                   all        776        830      0.958      0.801      0.915      0.868\n",
            "\n",
            "      Epoch    GPU_mem   box_loss   cls_loss   dfl_loss  Instances       Size\n"
          ]
        },
        {
          "output_type": "stream",
          "name": "stderr",
          "text": [
            "     97/280      3.69G     0.5665     0.6625      1.028         20        640: 100%|██████████| 172/172 [00:54<00:00,  3.17it/s]\n",
            "                 Class     Images  Instances      Box(P          R      mAP50  mAP50-95): 100%|██████████| 25/25 [00:08<00:00,  2.93it/s]"
          ]
        },
        {
          "output_type": "stream",
          "name": "stdout",
          "text": [
            "                   all        776        830      0.946      0.819      0.913      0.865\n"
          ]
        },
        {
          "output_type": "stream",
          "name": "stderr",
          "text": [
            "\n"
          ]
        },
        {
          "output_type": "stream",
          "name": "stdout",
          "text": [
            "\n",
            "      Epoch    GPU_mem   box_loss   cls_loss   dfl_loss  Instances       Size\n"
          ]
        },
        {
          "output_type": "stream",
          "name": "stderr",
          "text": [
            "     98/280      3.71G     0.5581     0.6468      1.026         16        640: 100%|██████████| 172/172 [00:53<00:00,  3.19it/s]\n",
            "                 Class     Images  Instances      Box(P          R      mAP50  mAP50-95): 100%|██████████| 25/25 [00:08<00:00,  3.12it/s]"
          ]
        },
        {
          "output_type": "stream",
          "name": "stdout",
          "text": [
            "                   all        776        830      0.961      0.829      0.919      0.874\n"
          ]
        },
        {
          "output_type": "stream",
          "name": "stderr",
          "text": [
            "\n"
          ]
        },
        {
          "output_type": "stream",
          "name": "stdout",
          "text": [
            "\n",
            "      Epoch    GPU_mem   box_loss   cls_loss   dfl_loss  Instances       Size\n"
          ]
        },
        {
          "output_type": "stream",
          "name": "stderr",
          "text": [
            "     99/280      3.72G     0.5589     0.6409      1.018         18        640: 100%|██████████| 172/172 [00:54<00:00,  3.18it/s]\n",
            "                 Class     Images  Instances      Box(P          R      mAP50  mAP50-95): 100%|██████████| 25/25 [00:08<00:00,  2.87it/s]"
          ]
        },
        {
          "output_type": "stream",
          "name": "stdout",
          "text": [
            "                   all        776        830      0.856      0.896      0.948      0.898\n"
          ]
        },
        {
          "output_type": "stream",
          "name": "stderr",
          "text": [
            "\n"
          ]
        },
        {
          "output_type": "stream",
          "name": "stdout",
          "text": [
            "\n",
            "      Epoch    GPU_mem   box_loss   cls_loss   dfl_loss  Instances       Size\n"
          ]
        },
        {
          "output_type": "stream",
          "name": "stderr",
          "text": [
            "    100/280      3.72G       0.56     0.6456       1.03         26        640: 100%|██████████| 172/172 [00:54<00:00,  3.14it/s]\n",
            "                 Class     Images  Instances      Box(P          R      mAP50  mAP50-95): 100%|██████████| 25/25 [00:07<00:00,  3.43it/s]"
          ]
        },
        {
          "output_type": "stream",
          "name": "stdout",
          "text": [
            "                   all        776        830      0.916       0.89      0.931      0.881\n"
          ]
        },
        {
          "output_type": "stream",
          "name": "stderr",
          "text": [
            "\n"
          ]
        },
        {
          "output_type": "stream",
          "name": "stdout",
          "text": [
            "\n",
            "      Epoch    GPU_mem   box_loss   cls_loss   dfl_loss  Instances       Size\n"
          ]
        },
        {
          "output_type": "stream",
          "name": "stderr",
          "text": [
            "    101/280      3.74G     0.5551     0.6502      1.021         24        640: 100%|██████████| 172/172 [00:54<00:00,  3.16it/s]\n",
            "                 Class     Images  Instances      Box(P          R      mAP50  mAP50-95): 100%|██████████| 25/25 [00:08<00:00,  2.87it/s]"
          ]
        },
        {
          "output_type": "stream",
          "name": "stdout",
          "text": [
            "                   all        776        830      0.874      0.904      0.946      0.899\n"
          ]
        },
        {
          "output_type": "stream",
          "name": "stderr",
          "text": [
            "\n"
          ]
        },
        {
          "output_type": "stream",
          "name": "stdout",
          "text": [
            "\n",
            "      Epoch    GPU_mem   box_loss   cls_loss   dfl_loss  Instances       Size\n"
          ]
        },
        {
          "output_type": "stream",
          "name": "stderr",
          "text": [
            "    102/280      3.75G     0.5571     0.6648      1.023         20        640: 100%|██████████| 172/172 [00:54<00:00,  3.18it/s]\n",
            "                 Class     Images  Instances      Box(P          R      mAP50  mAP50-95): 100%|██████████| 25/25 [00:08<00:00,  3.05it/s]"
          ]
        },
        {
          "output_type": "stream",
          "name": "stdout",
          "text": [
            "                   all        776        830      0.934      0.857      0.893      0.846\n"
          ]
        },
        {
          "output_type": "stream",
          "name": "stderr",
          "text": [
            "\n"
          ]
        },
        {
          "output_type": "stream",
          "name": "stdout",
          "text": [
            "\n",
            "      Epoch    GPU_mem   box_loss   cls_loss   dfl_loss  Instances       Size\n"
          ]
        },
        {
          "output_type": "stream",
          "name": "stderr",
          "text": [
            "    103/280      3.76G     0.5638     0.6559      1.026         24        640: 100%|██████████| 172/172 [00:53<00:00,  3.19it/s]\n",
            "                 Class     Images  Instances      Box(P          R      mAP50  mAP50-95): 100%|██████████| 25/25 [00:07<00:00,  3.22it/s]\n"
          ]
        },
        {
          "output_type": "stream",
          "name": "stdout",
          "text": [
            "                   all        776        830      0.845      0.925      0.932      0.877\n",
            "\n",
            "      Epoch    GPU_mem   box_loss   cls_loss   dfl_loss  Instances       Size\n"
          ]
        },
        {
          "output_type": "stream",
          "name": "stderr",
          "text": [
            "    104/280      3.77G     0.5588     0.6641       1.03         20        640: 100%|██████████| 172/172 [00:54<00:00,  3.18it/s]\n",
            "                 Class     Images  Instances      Box(P          R      mAP50  mAP50-95): 100%|██████████| 25/25 [00:08<00:00,  2.88it/s]"
          ]
        },
        {
          "output_type": "stream",
          "name": "stdout",
          "text": [
            "                   all        776        830      0.928      0.835      0.909      0.862\n"
          ]
        },
        {
          "output_type": "stream",
          "name": "stderr",
          "text": [
            "\n"
          ]
        },
        {
          "output_type": "stream",
          "name": "stdout",
          "text": [
            "\n",
            "      Epoch    GPU_mem   box_loss   cls_loss   dfl_loss  Instances       Size\n"
          ]
        },
        {
          "output_type": "stream",
          "name": "stderr",
          "text": [
            "    105/280      3.79G     0.5555      0.639      1.023         22        640: 100%|██████████| 172/172 [00:54<00:00,  3.17it/s]\n",
            "                 Class     Images  Instances      Box(P          R      mAP50  mAP50-95): 100%|██████████| 25/25 [00:07<00:00,  3.34it/s]"
          ]
        },
        {
          "output_type": "stream",
          "name": "stdout",
          "text": [
            "                   all        776        830      0.867      0.864      0.929      0.881\n"
          ]
        },
        {
          "output_type": "stream",
          "name": "stderr",
          "text": [
            "\n"
          ]
        },
        {
          "output_type": "stream",
          "name": "stdout",
          "text": [
            "\n",
            "      Epoch    GPU_mem   box_loss   cls_loss   dfl_loss  Instances       Size\n"
          ]
        },
        {
          "output_type": "stream",
          "name": "stderr",
          "text": [
            "    106/280       3.8G     0.5637     0.6413      1.026         22        640: 100%|██████████| 172/172 [00:53<00:00,  3.22it/s]\n",
            "                 Class     Images  Instances      Box(P          R      mAP50  mAP50-95): 100%|██████████| 25/25 [00:08<00:00,  2.95it/s]"
          ]
        },
        {
          "output_type": "stream",
          "name": "stdout",
          "text": [
            "                   all        776        830      0.947      0.814      0.938      0.892\n"
          ]
        },
        {
          "output_type": "stream",
          "name": "stderr",
          "text": [
            "\n"
          ]
        },
        {
          "output_type": "stream",
          "name": "stdout",
          "text": [
            "\n",
            "      Epoch    GPU_mem   box_loss   cls_loss   dfl_loss  Instances       Size\n"
          ]
        },
        {
          "output_type": "stream",
          "name": "stderr",
          "text": [
            "    107/280      3.81G      0.559     0.6366       1.02         25        640: 100%|██████████| 172/172 [00:53<00:00,  3.21it/s]\n",
            "                 Class     Images  Instances      Box(P          R      mAP50  mAP50-95): 100%|██████████| 25/25 [00:07<00:00,  3.43it/s]"
          ]
        },
        {
          "output_type": "stream",
          "name": "stdout",
          "text": [
            "                   all        776        830      0.748       0.92      0.921      0.875\n"
          ]
        },
        {
          "output_type": "stream",
          "name": "stderr",
          "text": [
            "\n"
          ]
        },
        {
          "output_type": "stream",
          "name": "stdout",
          "text": [
            "\n",
            "      Epoch    GPU_mem   box_loss   cls_loss   dfl_loss  Instances       Size\n"
          ]
        },
        {
          "output_type": "stream",
          "name": "stderr",
          "text": [
            "    108/280      3.82G     0.5526     0.6315      1.022         32        640: 100%|██████████| 172/172 [00:53<00:00,  3.20it/s]\n",
            "                 Class     Images  Instances      Box(P          R      mAP50  mAP50-95): 100%|██████████| 25/25 [00:08<00:00,  2.87it/s]\n"
          ]
        },
        {
          "output_type": "stream",
          "name": "stdout",
          "text": [
            "                   all        776        830      0.852      0.889      0.948      0.898\n",
            "\n",
            "      Epoch    GPU_mem   box_loss   cls_loss   dfl_loss  Instances       Size\n"
          ]
        },
        {
          "output_type": "stream",
          "name": "stderr",
          "text": [
            "    109/280      3.83G     0.5493     0.6273      1.016         22        640: 100%|██████████| 172/172 [00:54<00:00,  3.18it/s]\n",
            "                 Class     Images  Instances      Box(P          R      mAP50  mAP50-95): 100%|██████████| 25/25 [00:07<00:00,  3.46it/s]"
          ]
        },
        {
          "output_type": "stream",
          "name": "stdout",
          "text": [
            "                   all        776        830      0.856      0.878      0.941      0.895\n"
          ]
        },
        {
          "output_type": "stream",
          "name": "stderr",
          "text": [
            "\n"
          ]
        },
        {
          "output_type": "stream",
          "name": "stdout",
          "text": [
            "\n",
            "      Epoch    GPU_mem   box_loss   cls_loss   dfl_loss  Instances       Size\n"
          ]
        },
        {
          "output_type": "stream",
          "name": "stderr",
          "text": [
            "    110/280      3.84G     0.5497     0.6206      1.019         28        640: 100%|██████████| 172/172 [00:53<00:00,  3.19it/s]\n",
            "                 Class     Images  Instances      Box(P          R      mAP50  mAP50-95): 100%|██████████| 25/25 [00:08<00:00,  2.95it/s]"
          ]
        },
        {
          "output_type": "stream",
          "name": "stdout",
          "text": [
            "                   all        776        830      0.935      0.824      0.925      0.871\n"
          ]
        },
        {
          "output_type": "stream",
          "name": "stderr",
          "text": [
            "\n"
          ]
        },
        {
          "output_type": "stream",
          "name": "stdout",
          "text": [
            "\n",
            "      Epoch    GPU_mem   box_loss   cls_loss   dfl_loss  Instances       Size\n"
          ]
        },
        {
          "output_type": "stream",
          "name": "stderr",
          "text": [
            "    111/280      3.85G     0.5578     0.6197      1.022         26        640: 100%|██████████| 172/172 [00:53<00:00,  3.19it/s]\n",
            "                 Class     Images  Instances      Box(P          R      mAP50  mAP50-95): 100%|██████████| 25/25 [00:08<00:00,  3.10it/s]\n"
          ]
        },
        {
          "output_type": "stream",
          "name": "stdout",
          "text": [
            "                   all        776        830      0.877      0.907      0.937      0.885\n",
            "\n",
            "      Epoch    GPU_mem   box_loss   cls_loss   dfl_loss  Instances       Size\n"
          ]
        },
        {
          "output_type": "stream",
          "name": "stderr",
          "text": [
            "    112/280      3.87G     0.5459     0.6192      1.017         26        640: 100%|██████████| 172/172 [00:53<00:00,  3.22it/s]\n",
            "                 Class     Images  Instances      Box(P          R      mAP50  mAP50-95): 100%|██████████| 25/25 [00:08<00:00,  2.90it/s]\n"
          ]
        },
        {
          "output_type": "stream",
          "name": "stdout",
          "text": [
            "                   all        776        830      0.885      0.881      0.932      0.886\n",
            "\n",
            "      Epoch    GPU_mem   box_loss   cls_loss   dfl_loss  Instances       Size\n"
          ]
        },
        {
          "output_type": "stream",
          "name": "stderr",
          "text": [
            "    113/280      3.88G     0.5555       0.62      1.024         24        640: 100%|██████████| 172/172 [00:53<00:00,  3.20it/s]\n",
            "                 Class     Images  Instances      Box(P          R      mAP50  mAP50-95): 100%|██████████| 25/25 [00:08<00:00,  2.93it/s]"
          ]
        },
        {
          "output_type": "stream",
          "name": "stdout",
          "text": [
            "                   all        776        830      0.926      0.854      0.916      0.867\n"
          ]
        },
        {
          "output_type": "stream",
          "name": "stderr",
          "text": [
            "\n"
          ]
        },
        {
          "output_type": "stream",
          "name": "stdout",
          "text": [
            "\n",
            "      Epoch    GPU_mem   box_loss   cls_loss   dfl_loss  Instances       Size\n"
          ]
        },
        {
          "output_type": "stream",
          "name": "stderr",
          "text": [
            "    114/280      3.89G     0.5528     0.6103      1.025         19        640: 100%|██████████| 172/172 [00:53<00:00,  3.20it/s]\n",
            "                 Class     Images  Instances      Box(P          R      mAP50  mAP50-95): 100%|██████████| 25/25 [00:07<00:00,  3.23it/s]"
          ]
        },
        {
          "output_type": "stream",
          "name": "stdout",
          "text": [
            "                   all        776        830      0.826      0.909      0.914      0.867\n"
          ]
        },
        {
          "output_type": "stream",
          "name": "stderr",
          "text": [
            "\n"
          ]
        },
        {
          "output_type": "stream",
          "name": "stdout",
          "text": [
            "\n",
            "      Epoch    GPU_mem   box_loss   cls_loss   dfl_loss  Instances       Size\n"
          ]
        },
        {
          "output_type": "stream",
          "name": "stderr",
          "text": [
            "    115/280       3.9G     0.5447     0.6066      1.019         22        640: 100%|██████████| 172/172 [00:53<00:00,  3.20it/s]\n",
            "                 Class     Images  Instances      Box(P          R      mAP50  mAP50-95): 100%|██████████| 25/25 [00:08<00:00,  2.84it/s]"
          ]
        },
        {
          "output_type": "stream",
          "name": "stdout",
          "text": [
            "                   all        776        830      0.889      0.872      0.916      0.869\n"
          ]
        },
        {
          "output_type": "stream",
          "name": "stderr",
          "text": [
            "\n"
          ]
        },
        {
          "output_type": "stream",
          "name": "stdout",
          "text": [
            "\n",
            "      Epoch    GPU_mem   box_loss   cls_loss   dfl_loss  Instances       Size\n"
          ]
        },
        {
          "output_type": "stream",
          "name": "stderr",
          "text": [
            "    116/280      3.91G     0.5524     0.6173      1.023         24        640: 100%|██████████| 172/172 [00:54<00:00,  3.18it/s]\n",
            "                 Class     Images  Instances      Box(P          R      mAP50  mAP50-95): 100%|██████████| 25/25 [00:07<00:00,  3.40it/s]"
          ]
        },
        {
          "output_type": "stream",
          "name": "stdout",
          "text": [
            "                   all        776        830      0.895      0.902      0.955      0.907\n"
          ]
        },
        {
          "output_type": "stream",
          "name": "stderr",
          "text": [
            "\n"
          ]
        },
        {
          "output_type": "stream",
          "name": "stdout",
          "text": [
            "\n",
            "      Epoch    GPU_mem   box_loss   cls_loss   dfl_loss  Instances       Size\n"
          ]
        },
        {
          "output_type": "stream",
          "name": "stderr",
          "text": [
            "    117/280      3.92G     0.5297     0.5863      1.008         20        640: 100%|██████████| 172/172 [00:55<00:00,  3.11it/s]\n",
            "                 Class     Images  Instances      Box(P          R      mAP50  mAP50-95): 100%|██████████| 25/25 [00:08<00:00,  2.90it/s]"
          ]
        },
        {
          "output_type": "stream",
          "name": "stdout",
          "text": [
            "                   all        776        830      0.899      0.873      0.933      0.883\n"
          ]
        },
        {
          "output_type": "stream",
          "name": "stderr",
          "text": [
            "\n"
          ]
        },
        {
          "output_type": "stream",
          "name": "stdout",
          "text": [
            "\n",
            "      Epoch    GPU_mem   box_loss   cls_loss   dfl_loss  Instances       Size\n"
          ]
        },
        {
          "output_type": "stream",
          "name": "stderr",
          "text": [
            "    118/280      3.93G     0.5374     0.6064      1.011         25        640: 100%|██████████| 172/172 [00:54<00:00,  3.17it/s]\n",
            "                 Class     Images  Instances      Box(P          R      mAP50  mAP50-95): 100%|██████████| 25/25 [00:07<00:00,  3.19it/s]\n"
          ]
        },
        {
          "output_type": "stream",
          "name": "stdout",
          "text": [
            "                   all        776        830      0.935      0.877       0.94      0.894\n",
            "\n",
            "      Epoch    GPU_mem   box_loss   cls_loss   dfl_loss  Instances       Size\n"
          ]
        },
        {
          "output_type": "stream",
          "name": "stderr",
          "text": [
            "    119/280      3.95G     0.5476     0.6089      1.019         24        640: 100%|██████████| 172/172 [00:54<00:00,  3.18it/s]\n",
            "                 Class     Images  Instances      Box(P          R      mAP50  mAP50-95): 100%|██████████| 25/25 [00:08<00:00,  2.84it/s]"
          ]
        },
        {
          "output_type": "stream",
          "name": "stdout",
          "text": [
            "                   all        776        830      0.824      0.926      0.942      0.893\n"
          ]
        },
        {
          "output_type": "stream",
          "name": "stderr",
          "text": [
            "\n"
          ]
        },
        {
          "output_type": "stream",
          "name": "stdout",
          "text": [
            "\n",
            "      Epoch    GPU_mem   box_loss   cls_loss   dfl_loss  Instances       Size\n"
          ]
        },
        {
          "output_type": "stream",
          "name": "stderr",
          "text": [
            "    120/280      3.96G     0.5373     0.6126       1.01         23        640: 100%|██████████| 172/172 [00:54<00:00,  3.15it/s]\n",
            "                 Class     Images  Instances      Box(P          R      mAP50  mAP50-95): 100%|██████████| 25/25 [00:08<00:00,  2.89it/s]"
          ]
        },
        {
          "output_type": "stream",
          "name": "stdout",
          "text": [
            "                   all        776        830      0.863      0.918      0.943      0.892\n"
          ]
        },
        {
          "output_type": "stream",
          "name": "stderr",
          "text": [
            "\n"
          ]
        },
        {
          "output_type": "stream",
          "name": "stdout",
          "text": [
            "\n",
            "      Epoch    GPU_mem   box_loss   cls_loss   dfl_loss  Instances       Size\n"
          ]
        },
        {
          "output_type": "stream",
          "name": "stderr",
          "text": [
            "    121/280      3.97G     0.5331     0.5959      1.012         24        640: 100%|██████████| 172/172 [00:54<00:00,  3.15it/s]\n",
            "                 Class     Images  Instances      Box(P          R      mAP50  mAP50-95): 100%|██████████| 25/25 [00:07<00:00,  3.47it/s]"
          ]
        },
        {
          "output_type": "stream",
          "name": "stdout",
          "text": [
            "                   all        776        830      0.967      0.837      0.948      0.898\n"
          ]
        },
        {
          "output_type": "stream",
          "name": "stderr",
          "text": [
            "\n"
          ]
        },
        {
          "output_type": "stream",
          "name": "stdout",
          "text": [
            "\n",
            "      Epoch    GPU_mem   box_loss   cls_loss   dfl_loss  Instances       Size\n"
          ]
        },
        {
          "output_type": "stream",
          "name": "stderr",
          "text": [
            "    122/280      3.98G     0.5348     0.5843      1.016         22        640: 100%|██████████| 172/172 [00:54<00:00,  3.15it/s]\n",
            "                 Class     Images  Instances      Box(P          R      mAP50  mAP50-95): 100%|██████████| 25/25 [00:08<00:00,  2.87it/s]"
          ]
        },
        {
          "output_type": "stream",
          "name": "stdout",
          "text": [
            "                   all        776        830      0.871      0.883      0.932      0.884\n"
          ]
        },
        {
          "output_type": "stream",
          "name": "stderr",
          "text": [
            "\n"
          ]
        },
        {
          "output_type": "stream",
          "name": "stdout",
          "text": [
            "\n",
            "      Epoch    GPU_mem   box_loss   cls_loss   dfl_loss  Instances       Size\n"
          ]
        },
        {
          "output_type": "stream",
          "name": "stderr",
          "text": [
            "    123/280      3.99G      0.537     0.6041      1.016         20        640: 100%|██████████| 172/172 [00:54<00:00,  3.16it/s]\n",
            "                 Class     Images  Instances      Box(P          R      mAP50  mAP50-95): 100%|██████████| 25/25 [00:07<00:00,  3.40it/s]"
          ]
        },
        {
          "output_type": "stream",
          "name": "stdout",
          "text": [
            "                   all        776        830      0.865      0.914       0.94       0.89\n"
          ]
        },
        {
          "output_type": "stream",
          "name": "stderr",
          "text": [
            "\n"
          ]
        },
        {
          "output_type": "stream",
          "name": "stdout",
          "text": [
            "\n",
            "      Epoch    GPU_mem   box_loss   cls_loss   dfl_loss  Instances       Size\n"
          ]
        },
        {
          "output_type": "stream",
          "name": "stderr",
          "text": [
            "    124/280         4G      0.546     0.6004      1.015         22        640: 100%|██████████| 172/172 [00:54<00:00,  3.16it/s]\n",
            "                 Class     Images  Instances      Box(P          R      mAP50  mAP50-95): 100%|██████████| 25/25 [00:08<00:00,  2.83it/s]\n"
          ]
        },
        {
          "output_type": "stream",
          "name": "stdout",
          "text": [
            "                   all        776        830      0.885      0.893       0.94      0.889\n",
            "\n",
            "      Epoch    GPU_mem   box_loss   cls_loss   dfl_loss  Instances       Size\n"
          ]
        },
        {
          "output_type": "stream",
          "name": "stderr",
          "text": [
            "    125/280      4.01G     0.5287     0.5919      1.009         27        640: 100%|██████████| 172/172 [00:54<00:00,  3.15it/s]\n",
            "                 Class     Images  Instances      Box(P          R      mAP50  mAP50-95): 100%|██████████| 25/25 [00:08<00:00,  2.90it/s]\n"
          ]
        },
        {
          "output_type": "stream",
          "name": "stdout",
          "text": [
            "                   all        776        830      0.862      0.923      0.948      0.901\n",
            "\n",
            "      Epoch    GPU_mem   box_loss   cls_loss   dfl_loss  Instances       Size\n"
          ]
        },
        {
          "output_type": "stream",
          "name": "stderr",
          "text": [
            "    126/280      4.03G     0.5381     0.5957      1.009         20        640: 100%|██████████| 172/172 [00:53<00:00,  3.19it/s]\n",
            "                 Class     Images  Instances      Box(P          R      mAP50  mAP50-95): 100%|██████████| 25/25 [00:07<00:00,  3.38it/s]"
          ]
        },
        {
          "output_type": "stream",
          "name": "stdout",
          "text": [
            "                   all        776        830      0.893      0.882      0.951      0.905\n"
          ]
        },
        {
          "output_type": "stream",
          "name": "stderr",
          "text": [
            "\n"
          ]
        },
        {
          "output_type": "stream",
          "name": "stdout",
          "text": [
            "\n",
            "      Epoch    GPU_mem   box_loss   cls_loss   dfl_loss  Instances       Size\n"
          ]
        },
        {
          "output_type": "stream",
          "name": "stderr",
          "text": [
            "    127/280      4.04G     0.5332     0.5784      1.006         20        640: 100%|██████████| 172/172 [00:54<00:00,  3.18it/s]\n",
            "                 Class     Images  Instances      Box(P          R      mAP50  mAP50-95): 100%|██████████| 25/25 [00:08<00:00,  2.82it/s]"
          ]
        },
        {
          "output_type": "stream",
          "name": "stdout",
          "text": [
            "                   all        776        830      0.829      0.888       0.91      0.864\n"
          ]
        },
        {
          "output_type": "stream",
          "name": "stderr",
          "text": [
            "\n"
          ]
        },
        {
          "output_type": "stream",
          "name": "stdout",
          "text": [
            "\n",
            "      Epoch    GPU_mem   box_loss   cls_loss   dfl_loss  Instances       Size\n"
          ]
        },
        {
          "output_type": "stream",
          "name": "stderr",
          "text": [
            "    128/280      4.05G      0.537      0.589      1.011         20        640: 100%|██████████| 172/172 [00:53<00:00,  3.19it/s]\n",
            "                 Class     Images  Instances      Box(P          R      mAP50  mAP50-95): 100%|██████████| 25/25 [00:07<00:00,  3.44it/s]\n"
          ]
        },
        {
          "output_type": "stream",
          "name": "stdout",
          "text": [
            "                   all        776        830       0.89      0.885      0.938      0.889\n",
            "\n",
            "      Epoch    GPU_mem   box_loss   cls_loss   dfl_loss  Instances       Size\n"
          ]
        },
        {
          "output_type": "stream",
          "name": "stderr",
          "text": [
            "    129/280      4.06G      0.528     0.5803       1.01         20        640: 100%|██████████| 172/172 [00:55<00:00,  3.12it/s]\n",
            "                 Class     Images  Instances      Box(P          R      mAP50  mAP50-95): 100%|██████████| 25/25 [00:08<00:00,  2.81it/s]\n"
          ]
        },
        {
          "output_type": "stream",
          "name": "stdout",
          "text": [
            "                   all        776        830      0.846      0.922      0.947      0.902\n",
            "\n",
            "      Epoch    GPU_mem   box_loss   cls_loss   dfl_loss  Instances       Size\n"
          ]
        },
        {
          "output_type": "stream",
          "name": "stderr",
          "text": [
            "    130/280      4.07G      0.524     0.5906      1.007         28        640: 100%|██████████| 172/172 [00:56<00:00,  3.05it/s]\n",
            "                 Class     Images  Instances      Box(P          R      mAP50  mAP50-95): 100%|██████████| 25/25 [00:08<00:00,  2.87it/s]\n"
          ]
        },
        {
          "output_type": "stream",
          "name": "stdout",
          "text": [
            "                   all        776        830       0.96      0.828      0.953      0.903\n",
            "\n",
            "      Epoch    GPU_mem   box_loss   cls_loss   dfl_loss  Instances       Size\n"
          ]
        },
        {
          "output_type": "stream",
          "name": "stderr",
          "text": [
            "    131/280      4.08G     0.5449     0.6081      1.017         23        640: 100%|██████████| 172/172 [00:54<00:00,  3.15it/s]\n",
            "                 Class     Images  Instances      Box(P          R      mAP50  mAP50-95): 100%|██████████| 25/25 [00:07<00:00,  3.30it/s]"
          ]
        },
        {
          "output_type": "stream",
          "name": "stdout",
          "text": [
            "                   all        776        830      0.885      0.868      0.937       0.89\n"
          ]
        },
        {
          "output_type": "stream",
          "name": "stderr",
          "text": [
            "\n"
          ]
        },
        {
          "output_type": "stream",
          "name": "stdout",
          "text": [
            "\n",
            "      Epoch    GPU_mem   box_loss   cls_loss   dfl_loss  Instances       Size\n"
          ]
        },
        {
          "output_type": "stream",
          "name": "stderr",
          "text": [
            "    132/280      4.09G     0.5315     0.5858      1.013         24        640: 100%|██████████| 172/172 [00:55<00:00,  3.10it/s]\n",
            "                 Class     Images  Instances      Box(P          R      mAP50  mAP50-95): 100%|██████████| 25/25 [00:09<00:00,  2.71it/s]"
          ]
        },
        {
          "output_type": "stream",
          "name": "stdout",
          "text": [
            "                   all        776        830      0.961      0.825      0.907      0.859\n"
          ]
        },
        {
          "output_type": "stream",
          "name": "stderr",
          "text": [
            "\n"
          ]
        },
        {
          "output_type": "stream",
          "name": "stdout",
          "text": [
            "\n",
            "      Epoch    GPU_mem   box_loss   cls_loss   dfl_loss  Instances       Size\n"
          ]
        },
        {
          "output_type": "stream",
          "name": "stderr",
          "text": [
            "    133/280      4.11G     0.5352     0.5764       1.01         21        640: 100%|██████████| 172/172 [00:55<00:00,  3.07it/s]\n",
            "                 Class     Images  Instances      Box(P          R      mAP50  mAP50-95): 100%|██████████| 25/25 [00:08<00:00,  2.89it/s]\n"
          ]
        },
        {
          "output_type": "stream",
          "name": "stdout",
          "text": [
            "                   all        776        830       0.96      0.829      0.911      0.867\n",
            "\n",
            "      Epoch    GPU_mem   box_loss   cls_loss   dfl_loss  Instances       Size\n"
          ]
        },
        {
          "output_type": "stream",
          "name": "stderr",
          "text": [
            "    134/280      4.12G     0.5271     0.5764      1.008         25        640: 100%|██████████| 172/172 [00:56<00:00,  3.07it/s]\n",
            "                 Class     Images  Instances      Box(P          R      mAP50  mAP50-95): 100%|██████████| 25/25 [00:07<00:00,  3.30it/s]"
          ]
        },
        {
          "output_type": "stream",
          "name": "stdout",
          "text": [
            "                   all        776        830      0.944      0.837      0.941      0.898\n"
          ]
        },
        {
          "output_type": "stream",
          "name": "stderr",
          "text": [
            "\n"
          ]
        },
        {
          "output_type": "stream",
          "name": "stdout",
          "text": [
            "\n",
            "      Epoch    GPU_mem   box_loss   cls_loss   dfl_loss  Instances       Size\n"
          ]
        },
        {
          "output_type": "stream",
          "name": "stderr",
          "text": [
            "    135/280      4.13G     0.5273     0.5785      1.007         32        640: 100%|██████████| 172/172 [00:54<00:00,  3.14it/s]\n",
            "                 Class     Images  Instances      Box(P          R      mAP50  mAP50-95): 100%|██████████| 25/25 [00:08<00:00,  2.80it/s]"
          ]
        },
        {
          "output_type": "stream",
          "name": "stdout",
          "text": [
            "                   all        776        830       0.86      0.907      0.947      0.904\n"
          ]
        },
        {
          "output_type": "stream",
          "name": "stderr",
          "text": [
            "\n"
          ]
        },
        {
          "output_type": "stream",
          "name": "stdout",
          "text": [
            "\n",
            "      Epoch    GPU_mem   box_loss   cls_loss   dfl_loss  Instances       Size\n"
          ]
        },
        {
          "output_type": "stream",
          "name": "stderr",
          "text": [
            "    136/280      4.14G     0.5241     0.5687      1.007         26        640: 100%|██████████| 172/172 [00:53<00:00,  3.19it/s]\n",
            "                 Class     Images  Instances      Box(P          R      mAP50  mAP50-95): 100%|██████████| 25/25 [00:07<00:00,  3.27it/s]\n"
          ]
        },
        {
          "output_type": "stream",
          "name": "stdout",
          "text": [
            "                   all        776        830      0.836       0.94      0.943      0.899\n",
            "\u001b[34m\u001b[1mEarlyStopping: \u001b[0mTraining stopped early as no improvement observed in last 20 epochs. Best results observed at epoch 116, best model saved as best.pt.\n",
            "To update EarlyStopping(patience=20) pass a new patience value, i.e. `patience=300` or use `patience=0` to disable EarlyStopping.\n",
            "\n",
            "136 epochs completed in 2.381 hours.\n",
            "Optimizer stripped from runs/detect/speed_limit_detector/weights/last.pt, 6.3MB\n",
            "Optimizer stripped from runs/detect/speed_limit_detector/weights/best.pt, 6.3MB\n",
            "\n",
            "Validating runs/detect/speed_limit_detector/weights/best.pt...\n",
            "Ultralytics 8.3.136 🚀 Python-3.11.12 torch-2.6.0+cu124 CUDA:0 (Tesla T4, 15095MiB)\n",
            "Model summary (fused): 72 layers, 3,013,448 parameters, 0 gradients, 8.1 GFLOPs\n"
          ]
        },
        {
          "output_type": "stream",
          "name": "stderr",
          "text": [
            "                 Class     Images  Instances      Box(P          R      mAP50  mAP50-95): 100%|██████████| 25/25 [00:09<00:00,  2.55it/s]\n"
          ]
        },
        {
          "output_type": "stream",
          "name": "stdout",
          "text": [
            "                   all        776        830      0.894      0.902      0.955      0.907\n",
            "   End_speed_limit_100          3          3      0.746          1      0.995      0.995\n",
            " End_speed_limit_110Km          1          1      0.791          1      0.995      0.995\n",
            "   End_speed_limit_120          1          1      0.731          1      0.995      0.995\n",
            " End_speed_limit_130Km          1          1          1          0      0.995      0.995\n",
            "    End_speed_limit_20          3          3          1      0.579      0.995      0.995\n",
            "    End_speed_limit_30         11         11      0.696      0.909      0.899      0.845\n",
            "    End_speed_limit_40          2          2          1      0.812      0.995      0.847\n",
            "    End_speed_limit_50          6          6      0.872          1      0.995      0.958\n",
            "    End_speed_limit_60          3          3      0.583          1      0.995      0.995\n",
            "    End_speed_limit_70          4          4       0.38      0.623      0.693      0.674\n",
            "    End_speed_limit_80         59         59      0.991      0.983      0.988      0.883\n",
            "    End_speed_limit_90          3          3          1      0.665      0.995      0.995\n",
            "End_speed_passing_limits         69         69          1      0.995      0.995      0.878\n",
            " Road_works-sli_100Kmh         21         21      0.927      0.952       0.94      0.931\n",
            " Road_works-sli_120Kmh          6          6      0.923          1      0.995      0.995\n",
            "  Road_works-sli_20Kmh          7          7      0.915          1      0.995      0.932\n",
            "  Road_works-sli_30Kmh         11         11      0.939          1      0.995      0.985\n",
            "  Road_works-sli_40Kmh         11         11      0.928          1      0.995      0.982\n",
            "  Road_works-sli_50Kmh         11         11      0.953          1      0.995      0.975\n",
            "  Road_works-sli_60Kmh          3          3      0.849          1      0.995      0.952\n",
            "  Road_works-sli_70Kmh          2          2      0.809          1      0.995      0.995\n",
            "  Road_works-sli_80Kmh         15         15      0.967          1      0.995      0.995\n",
            "  Road_works-sli_90Kmh          7          7      0.893          1      0.995      0.969\n",
            "    speed_limit_100Kmh         96         96      0.941          1      0.994      0.911\n",
            "      speed_limit_10Km          1          1      0.894          1      0.995      0.995\n",
            "    speed_limit_110Kmh         11         12      0.941          1      0.995      0.864\n",
            "     speed_limit_120Km         75         78          1      0.982      0.987        0.9\n",
            "    speed_limit_130Kmh          4          4          1          0     0.0915     0.0732\n",
            "      speed_limit_15Km          8          8      0.865          1      0.982      0.933\n",
            "      speed_limit_20Km         20         20      0.882          1      0.964      0.903\n",
            "      speed_limit_30Km         32         33      0.862          1      0.967      0.795\n",
            "      speed_limit_40Km         49         50      0.979       0.96      0.992      0.952\n",
            "      speed_limit_50Km         59         59      0.956      0.949      0.961      0.862\n",
            "       speed_limit_5Km          7          7      0.965          1      0.995      0.968\n",
            "      speed_limit_60Km         75         75      0.981          1      0.995      0.899\n",
            "      speed_limit_70Km         38         38      0.958      0.947      0.992      0.858\n",
            "      speed_limit_80Km         67         67      0.956       0.97      0.983      0.892\n",
            "      speed_limit_90Km         22         22      0.916      0.955      0.958      0.911\n",
            "Speed: 0.3ms preprocess, 2.7ms inference, 0.0ms loss, 3.0ms postprocess per image\n",
            "Results saved to \u001b[1mruns/detect/speed_limit_detector\u001b[0m\n",
            "Training completed successfully!\n",
            "Best model saved at: runs/detect/speed_limit_detector/weights/best.pt\n"
          ]
        }
      ]
    },
    {
      "cell_type": "code",
      "source": [],
      "metadata": {
        "id": "VAQtzwsNfR4M"
      },
      "execution_count": null,
      "outputs": []
    }
  ]
}